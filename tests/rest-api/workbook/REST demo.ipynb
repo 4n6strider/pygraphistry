{
 "cells": [
  {
   "cell_type": "code",
   "execution_count": 44,
   "metadata": {
    "collapsed": false
   },
   "outputs": [],
   "source": [
    "import os\n",
    "try:\n",
    "    API_KEY = os.environ[\"GRAPHISTRY_API_KEY\"]\n",
    "except:\n",
    "    'ok'\n",
    "### key = 'YOUR API KEY HERE'\n",
    "if not API_KEY:\n",
    "    raise Exception('NEED API KEY')\n",
    "    \n",
    "SERVER='https://staging.graphistry.com'\n",
    "QUERY=1 ## point:community_infomap < ##QUERY##"
   ]
  },
  {
   "cell_type": "code",
   "execution_count": 45,
   "metadata": {
    "collapsed": false
   },
   "outputs": [
    {
     "data": {
      "text/plain": [
       "{u'success': True,\n",
       " u'view': u'/graph/graph.html?workbook=3dd9faab9f69f02f',\n",
       " u'workbook': u'3dd9faab9f69f02f'}"
      ]
     },
     "execution_count": 45,
     "metadata": {},
     "output_type": "execute_result"
    }
   ],
   "source": [
    "import json\n",
    "import requests\n",
    "\n",
    "with open('workbook.json') as data_file:    \n",
    "    wb = json.load(data_file)\n",
    "    \n",
    "params = {\n",
    "    'key': API_KEY\n",
    "}\n",
    "resp = requests.post(SERVER +'/workbook', params=params, json=wb)\n",
    "resp.json()"
   ]
  },
  {
   "cell_type": "code",
   "execution_count": 46,
   "metadata": {
    "collapsed": false
   },
   "outputs": [
    {
     "data": {
      "text/plain": [
       "u'https://staging.graphistry.com/graph/graph.html?workbook=3dd9faab9f69f02f'"
      ]
     },
     "execution_count": 46,
     "metadata": {},
     "output_type": "execute_result"
    }
   ],
   "source": [
    "SERVER + resp.json()['view']"
   ]
  },
  {
   "cell_type": "code",
   "execution_count": null,
   "metadata": {
    "collapsed": true
   },
   "outputs": [],
   "source": []
  }
 ],
 "metadata": {
  "kernelspec": {
   "display_name": "Python 2",
   "language": "python",
   "name": "python2"
  },
  "language_info": {
   "codemirror_mode": {
    "name": "ipython",
    "version": 2
   },
   "file_extension": ".py",
   "mimetype": "text/x-python",
   "name": "python",
   "nbconvert_exporter": "python",
   "pygments_lexer": "ipython2",
   "version": "2.7.9"
  }
 },
 "nbformat": 4,
 "nbformat_minor": 0
}
