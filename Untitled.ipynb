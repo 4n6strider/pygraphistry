{
 "cells": [
  {
   "cell_type": "code",
   "execution_count": 1,
   "metadata": {},
   "outputs": [
    {
     "name": "stderr",
     "output_type": "stream",
     "text": [
      "/opt/conda/envs/pygraphistry-test/lib/python3.7/importlib/_bootstrap.py:219: RuntimeWarning: numpy.dtype size changed, may indicate binary incompatibility. Expected 96, got 88\n",
      "  return f(*args, **kwds)\n"
     ]
    }
   ],
   "source": [
    "import graphistry"
   ]
  },
  {
   "cell_type": "code",
   "execution_count": 2,
   "metadata": {},
   "outputs": [
    {
     "name": "stdout",
     "output_type": "stream",
     "text": [
      "Obtaining file:///home/jovyan\n",
      "Requirement already satisfied: numpy in /opt/conda/envs/pygraphistry-test/lib/python3.7/site-packages (from graphistry==0+unknown) (1.15.0)\n",
      "Requirement already satisfied: pandas>=0.17.0 in /opt/conda/envs/pygraphistry-test/lib/python3.7/site-packages (from graphistry==0+unknown) (0.23.4)\n",
      "Requirement already satisfied: requests in /opt/conda/envs/pygraphistry-test/lib/python3.7/site-packages (from graphistry==0+unknown) (2.20.1)\n",
      "Requirement already satisfied: future>=0.15.0 in /opt/conda/envs/pygraphistry-test/lib/python3.7/site-packages (from graphistry==0+unknown) (0.17.1)\n",
      "Requirement already satisfied: protobuf>=2.6.0 in /opt/conda/envs/pygraphistry-test/lib/python3.7/site-packages (from graphistry==0+unknown) (3.6.1)\n",
      "Requirement already satisfied: mypy_extensions in /opt/conda/envs/pygraphistry-test/lib/python3.7/site-packages (from graphistry==0+unknown) (0.4.1)\n",
      "Requirement already satisfied: python-dateutil>=2.5.0 in /opt/conda/envs/pygraphistry-test/lib/python3.7/site-packages (from pandas>=0.17.0->graphistry==0+unknown) (2.7.5)\n",
      "Requirement already satisfied: pytz>=2011k in /opt/conda/envs/pygraphistry-test/lib/python3.7/site-packages (from pandas>=0.17.0->graphistry==0+unknown) (2018.7)\n",
      "Requirement already satisfied: urllib3<1.25,>=1.21.1 in /opt/conda/envs/pygraphistry-test/lib/python3.7/site-packages (from requests->graphistry==0+unknown) (1.23)\n",
      "Requirement already satisfied: idna<2.8,>=2.5 in /opt/conda/envs/pygraphistry-test/lib/python3.7/site-packages (from requests->graphistry==0+unknown) (2.7)\n",
      "Requirement already satisfied: chardet<3.1.0,>=3.0.2 in /opt/conda/envs/pygraphistry-test/lib/python3.7/site-packages (from requests->graphistry==0+unknown) (3.0.4)\n",
      "Requirement already satisfied: certifi>=2017.4.17 in /opt/conda/envs/pygraphistry-test/lib/python3.7/site-packages (from requests->graphistry==0+unknown) (2018.11.29)\n",
      "Requirement already satisfied: setuptools in /opt/conda/envs/pygraphistry-test/lib/python3.7/site-packages (from protobuf>=2.6.0->graphistry==0+unknown) (40.6.3)\n",
      "Requirement already satisfied: six>=1.9 in /opt/conda/envs/pygraphistry-test/lib/python3.7/site-packages (from protobuf>=2.6.0->graphistry==0+unknown) (1.12.0)\n",
      "Installing collected packages: graphistry\n",
      "  Running setup.py develop for graphistry\n",
      "Successfully installed graphistry\n",
      "Uninstalling graphistry-0+unknown:\n",
      "  Successfully uninstalled graphistry-0+unknown\n"
     ]
    }
   ],
   "source": [
    "!pip install -e .\n",
    "!pip uninstall -y graphistry"
   ]
  },
  {
   "cell_type": "code",
   "execution_count": null,
   "metadata": {},
   "outputs": [],
   "source": []
  }
 ],
 "metadata": {
  "kernelspec": {
   "display_name": "Python [conda env:pygraphistry-test]",
   "language": "python",
   "name": "conda-env-pygraphistry-test-py"
  },
  "language_info": {
   "codemirror_mode": {
    "name": "ipython",
    "version": 3
   },
   "file_extension": ".py",
   "mimetype": "text/x-python",
   "name": "python",
   "nbconvert_exporter": "python",
   "pygments_lexer": "ipython3",
   "version": "3.7.1"
  }
 },
 "nbformat": 4,
 "nbformat_minor": 2
}
