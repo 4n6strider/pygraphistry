{
 "cells": [
  {
   "cell_type": "code",
   "execution_count": 5,
   "metadata": {},
   "outputs": [
    {
     "data": {
      "text/plain": [
       "'localhost/graph/22de7454-6b51-5126-9300-4408861a4088'"
      ]
     },
     "execution_count": 5,
     "metadata": {},
     "output_type": "execute_result"
    }
   ],
   "source": [
    "import graphistry\n",
    "import networkx\n",
    "\n",
    "graph = networkx.random_lobster(100, 0.9, 0.9)\n",
    "graphistry\\\n",
    "    .data(graph=graph)\\\n",
    "    .bind(\n",
    "        node_id = graphistry.src.plotter.NODE_ID,\n",
    "        edge_id = graphistry.src.plotter.EDGE_ID,\n",
    "        edge_src = graphistry.src.plotter.EDGE_SRC,\n",
    "        edge_dst = graphistry.src.plotter.EDGE_DST\n",
    "    )\\\n",
    "    .plot()"
   ]
  },
  {
   "cell_type": "code",
   "execution_count": null,
   "metadata": {},
   "outputs": [],
   "source": []
  }
 ],
 "metadata": {
  "kernelspec": {
   "display_name": "Python [conda env:pygraphistry-test]",
   "language": "python",
   "name": "conda-env-pygraphistry-test-py"
  },
  "language_info": {
   "codemirror_mode": {
    "name": "ipython",
    "version": 3
   },
   "file_extension": ".py",
   "mimetype": "text/x-python",
   "name": "python",
   "nbconvert_exporter": "python",
   "pygments_lexer": "ipython3",
   "version": "3.7.1"
  }
 },
 "nbformat": 4,
 "nbformat_minor": 2
}
