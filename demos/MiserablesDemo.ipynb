{
 "cells": [
  {
   "cell_type": "markdown",
   "metadata": {},
   "source": [
    "#PyGraphistry Tutorial"
   ]
  },
  {
   "cell_type": "code",
   "execution_count": 5,
   "metadata": {
    "collapsed": false
   },
   "outputs": [],
   "source": [
    "import pandas\n",
    "import graphistry\n",
    "graphistry.register(key='Email pygraphistry@graphistry.com to get your API key')"
   ]
  },
  {
   "cell_type": "code",
   "execution_count": 6,
   "metadata": {
    "collapsed": false
   },
   "outputs": [],
   "source": [
    "# Parse CSV using Pandas\n",
    "links = pandas.read_csv('data/lesmiserables.csv')"
   ]
  },
  {
   "cell_type": "code",
   "execution_count": 7,
   "metadata": {
    "collapsed": false
   },
   "outputs": [
    {
     "data": {
      "text/html": [
       "<div>\n",
       "<table border=\"1\" class=\"dataframe\">\n",
       "  <thead>\n",
       "    <tr style=\"text-align: right;\">\n",
       "      <th></th>\n",
       "      <th>source</th>\n",
       "      <th>target</th>\n",
       "      <th>value</th>\n",
       "    </tr>\n",
       "  </thead>\n",
       "  <tbody>\n",
       "    <tr>\n",
       "      <th>0</th>\n",
       "      <td>Napoleon</td>\n",
       "      <td>Myriel</td>\n",
       "      <td>1</td>\n",
       "    </tr>\n",
       "    <tr>\n",
       "      <th>1</th>\n",
       "      <td>Mlle.Baptistine</td>\n",
       "      <td>Myriel</td>\n",
       "      <td>8</td>\n",
       "    </tr>\n",
       "    <tr>\n",
       "      <th>2</th>\n",
       "      <td>Mme.Magloire</td>\n",
       "      <td>Myriel</td>\n",
       "      <td>10</td>\n",
       "    </tr>\n",
       "  </tbody>\n",
       "</table>\n",
       "</div>"
      ],
      "text/plain": [
       "            source  target  value\n",
       "0         Napoleon  Myriel      1\n",
       "1  Mlle.Baptistine  Myriel      8\n",
       "2     Mme.Magloire  Myriel     10"
      ]
     },
     "execution_count": 7,
     "metadata": {},
     "output_type": "execute_result"
    }
   ],
   "source": [
    "# Let's have a peak at our data by printing the first three rows\n",
    "links[:3]"
   ]
  },
  {
   "cell_type": "code",
   "execution_count": 8,
   "metadata": {
    "collapsed": false,
    "scrolled": false
   },
   "outputs": [
    {
     "data": {
      "text/html": [
       "<iframe src=\"http://proxy-labs.graphistry.com/graph/graph.html?dataset=PyGraphistry/0PE11R45PH&usertag=8e721f2c-pygraphistry-0.9.2&key=8e60e1663d54feac51fab12604a641073300a6ac77c9d664afae390e5dc4c843&info=true\" style=\"width:100%; height:500px; border: 1px solid #DDD\"></iframe>"
      ],
      "text/plain": [
       "<IPython.core.display.HTML object>"
      ]
     },
     "execution_count": 8,
     "metadata": {},
     "output_type": "execute_result"
    }
   ],
   "source": [
    "# Plot graph using the source/target columns as source/destination of edges\n",
    "plotter = graphistry.bind(source='source', destination='target')\n",
    "plotter.plot(links)"
   ]
  },
  {
   "cell_type": "code",
   "execution_count": 9,
   "metadata": {
    "collapsed": false
   },
   "outputs": [
    {
     "data": {
      "text/html": [
       "<iframe src=\"http://proxy-labs.graphistry.com/graph/graph.html?dataset=PyGraphistry/1E1NH5QC0N&usertag=8e721f2c-pygraphistry-0.9.2&key=8e60e1663d54feac51fab12604a641073300a6ac77c9d664afae390e5dc4c843&info=true\" style=\"width:100%; height:500px; border: 1px solid #DDD\"></iframe>"
      ],
      "text/plain": [
       "<IPython.core.display.HTML object>"
      ]
     },
     "execution_count": 9,
     "metadata": {},
     "output_type": "execute_result"
    }
   ],
   "source": [
    "# New graph adding the number of encounters to edge labels.\n",
    "links['label'] = links.value.map(lambda v: 'Num. Encounters: %d' % v)\n",
    "plotter = plotter.bind(edge_label='label')\n",
    "plotter.plot(links)"
   ]
  },
  {
   "cell_type": "markdown",
   "metadata": {
    "collapsed": true
   },
   "source": [
    "### Controling Node Size and Color\n",
    "We are going to use Igraph to color nodes by community and size them using pagerank. To install igraph, use `pip install python-igraph`"
   ]
  },
  {
   "cell_type": "code",
   "execution_count": 10,
   "metadata": {
    "collapsed": false
   },
   "outputs": [
    {
     "name": "stdout",
     "output_type": "stream",
     "text": [
      "IGRAPH D--- 77 254 -- \n",
      "+ attr: __nodeid__ (v), label (e), value (e)\n"
     ]
    },
    {
     "name": "stderr",
     "output_type": "stream",
     "text": [
      "WARNING: \"node\" is unbound, automatically binding it to \"__nodeid__\".\n"
     ]
    }
   ],
   "source": [
    "# Convert our graph from Pandas to Igraph\n",
    "import igraph\n",
    "ig = plotter.pandas2igraph(links)\n",
    "igraph.summary(ig)"
   ]
  },
  {
   "cell_type": "code",
   "execution_count": 11,
   "metadata": {
    "collapsed": false
   },
   "outputs": [
    {
     "name": "stdout",
     "output_type": "stream",
     "text": [
      "IGRAPH D--- 77 254 -- \n",
      "+ attr: __nodeid__ (v), community (v), pagerank (v), label (e), value (e)\n"
     ]
    }
   ],
   "source": [
    "# We create two node attributes for pagerank and community\n",
    "ig.vs['pagerank'] = ig.pagerank()\n",
    "ig.vs['community'] = ig.community_infomap().membership \n",
    "igraph.summary(ig)"
   ]
  },
  {
   "cell_type": "code",
   "execution_count": 12,
   "metadata": {
    "collapsed": false
   },
   "outputs": [
    {
     "data": {
      "text/html": [
       "<iframe src=\"http://proxy-labs.graphistry.com/graph/graph.html?dataset=PyGraphistry/DP3AG6U0WX&usertag=8e721f2c-pygraphistry-0.9.2&key=8e60e1663d54feac51fab12604a641073300a6ac77c9d664afae390e5dc4c843&info=true\" style=\"width:100%; height:500px; border: 1px solid #DDD\"></iframe>"
      ],
      "text/plain": [
       "<IPython.core.display.HTML object>"
      ]
     },
     "execution_count": 12,
     "metadata": {},
     "output_type": "execute_result"
    }
   ],
   "source": [
    "# The plotter can plot Igraph directly\n",
    "plotter.bind(point_color='community', point_size='pagerank').plot(ig)"
   ]
  },
  {
   "cell_type": "code",
   "execution_count": null,
   "metadata": {
    "collapsed": true
   },
   "outputs": [],
   "source": []
  }
 ],
 "metadata": {
  "kernelspec": {
   "display_name": "Python 2",
   "language": "python",
   "name": "python2"
  },
  "language_info": {
   "codemirror_mode": {
    "name": "ipython",
    "version": 2
   },
   "file_extension": ".py",
   "mimetype": "text/x-python",
   "name": "python",
   "nbconvert_exporter": "python",
   "pygments_lexer": "ipython2",
   "version": "2.7.10"
  }
 },
 "nbformat": 4,
 "nbformat_minor": 0
}
