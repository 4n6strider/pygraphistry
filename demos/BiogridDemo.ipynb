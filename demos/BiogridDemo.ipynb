{
 "cells": [
  {
   "cell_type": "markdown",
   "metadata": {},
   "source": [
    "# PyGraphistry Tutorial: Visualize Protein Interactions From BioGrid\n",
    "\n",
    "That is over 600.000 interactions across 50'000 proteins!\n",
    "\n",
    "##### Notes\n",
    "\n",
    "This notebook automatically downloads about 200 MB of [BioGrid](http://thebiogrid.org) data. If you are going to run this notebook more than once, we recommend manually dowloading and saving the data to disk. To do so, unzip the two files and place their content in `pygraphistry/demos/data`.\n",
    "- Protein Interactions: [BIOGRID-ALL-3.3.123.tab2.zip](http://thebiogrid.org/downloads/archives/Release%20Archive/BIOGRID-3.3.123/BIOGRID-ALL-3.3.123.tab2.zip)\n",
    "- Protein Identifiers: [BIOGRID-IDENTIFIERS-3.3.123.tab.zip](http://thebiogrid.org/downloads/archives/Release%20Archive/BIOGRID-3.3.123/BIOGRID-IDENTIFIERS-3.3.123.tab.zip)\n",
    "\n"
   ]
  },
  {
   "cell_type": "code",
   "execution_count": null,
   "metadata": {
    "collapsed": false
   },
   "outputs": [],
   "source": [
    "import pandas\n",
    "import graphistry\n",
    "graphistry.register(key='Email pygraphistry@graphistry.com to get your key!')"
   ]
  },
  {
   "cell_type": "markdown",
   "metadata": {},
   "source": [
    "## Load Protein Interactions\n",
    "Select columns of interest and drop empty rows."
   ]
  },
  {
   "cell_type": "code",
   "execution_count": null,
   "metadata": {
    "collapsed": false,
    "scrolled": false
   },
   "outputs": [],
   "source": [
    "url1 = 'https://s3-us-west-1.amazonaws.com/graphistry.demo.data/BIOGRID-ALL-3.3.123.tab2.txt.gz'\n",
    "rawdata = pandas.read_table(url1, na_values=['-'], engine='c', compression='gzip')\n",
    "\n",
    "# If using local data, comment the two lines above and uncomment the line below\n",
    "# pandas.read_table('./data/BIOGRID-ALL-3.3.123.tab2.txt', na_values=['-'], engine='c')\n",
    "\n",
    "cols = ['BioGRID ID Interactor A', 'BioGRID ID Interactor B', 'Official Symbol Interactor A', \n",
    "        'Official Symbol Interactor B', 'Pubmed ID', 'Author', 'Throughput']\n",
    "interactions = rawdata[cols].dropna()\n",
    "interactions[:3]"
   ]
  },
  {
   "cell_type": "markdown",
   "metadata": {},
   "source": [
    "### Let's have a quick peak at the data\n",
    "Bind the columns storing the source/destination of each edge. This is the bare minimum to create a visualization. "
   ]
  },
  {
   "cell_type": "code",
   "execution_count": null,
   "metadata": {
    "collapsed": false
   },
   "outputs": [],
   "source": [
    "# This will upload ~8MB of data, be patient!\n",
    "plotter = graphistry.bind(source=\"BioGRID ID Interactor A\", destination=\"BioGRID ID Interactor B\")\n",
    "plotter.plot(interactions)"
   ]
  },
  {
   "cell_type": "markdown",
   "metadata": {},
   "source": [
    "## A Fancier Visualization With Custom Labels and Colors\n",
    "Let's lookup the name and organism of each protein in the BioGrid indentification DB."
   ]
  },
  {
   "cell_type": "code",
   "execution_count": null,
   "metadata": {
    "collapsed": false,
    "scrolled": true
   },
   "outputs": [],
   "source": [
    "# This downloads 170 MB, it might take some time.\n",
    "url2 = 'https://s3-us-west-1.amazonaws.com/graphistry.demo.data/BIOGRID-IDENTIFIERS-3.3.123.tab.txt.gz'\n",
    "raw_proteins = pandas.read_table(url2, na_values=['-'], engine='c', compression='gzip')\n",
    "\n",
    "# If using local data, comment the two lines above and uncomment the line below\n",
    "# raw_proteins = pandas.read_table('./data/BIOGRID-IDENTIFIERS-3.3.123.tab.txt', na_values=['-'], engine='c')\n",
    "\n",
    "\n",
    "protein_ids = raw_proteins[['BIOGRID_ID', 'ORGANISM_OFFICIAL_NAME']].drop_duplicates() \\\n",
    "                          .rename(columns={'ORGANISM_OFFICIAL_NAME': 'ORGANISM'})\n",
    "protein_ids[:3]"
   ]
  },
  {
   "cell_type": "markdown",
   "metadata": {},
   "source": [
    "We extract the proteins referenced as either sources or targets of interactions."
   ]
  },
  {
   "cell_type": "code",
   "execution_count": null,
   "metadata": {
    "collapsed": false,
    "scrolled": true
   },
   "outputs": [],
   "source": [
    "source_proteins = interactions[[\"BioGRID ID Interactor A\", \"Official Symbol Interactor A\"]].copy() \\\n",
    "                              .rename(columns={'BioGRID ID Interactor A': 'BIOGRID_ID', \n",
    "                                               'Official Symbol Interactor A': 'SYMBOL'})\n",
    "\n",
    "target_proteins = interactions[[\"BioGRID ID Interactor B\", \"Official Symbol Interactor B\"]].copy() \\\n",
    "                              .rename(columns={'BioGRID ID Interactor B': 'BIOGRID_ID', \n",
    "                                               'Official Symbol Interactor B': 'SYMBOL'}) \n",
    "\n",
    "all_proteins = pandas.concat([source_proteins, target_proteins], ignore_index=True).drop_duplicates()\n",
    "all_proteins[:3]"
   ]
  },
  {
   "cell_type": "markdown",
   "metadata": {},
   "source": [
    "We join on the indentification DB to get the organism in which each protein belongs."
   ]
  },
  {
   "cell_type": "code",
   "execution_count": null,
   "metadata": {
    "collapsed": false
   },
   "outputs": [],
   "source": [
    "protein_labels = pandas.merge(all_proteins, protein_ids, how='left', left_on='BIOGRID_ID', right_on='BIOGRID_ID')\n",
    "protein_labels[:3]"
   ]
  },
  {
   "cell_type": "markdown",
   "metadata": {},
   "source": [
    "We assign colors to proteins based on their organism."
   ]
  },
  {
   "cell_type": "code",
   "execution_count": null,
   "metadata": {
    "collapsed": false
   },
   "outputs": [],
   "source": [
    "colors = protein_labels.ORGANISM.unique().tolist()\n",
    "protein_labels['Color'] = protein_labels.ORGANISM.map(lambda x: colors.index(x))"
   ]
  },
  {
   "cell_type": "markdown",
   "metadata": {},
   "source": [
    "For convenience, let's add links to PubMed and RCSB."
   ]
  },
  {
   "cell_type": "code",
   "execution_count": null,
   "metadata": {
    "collapsed": false
   },
   "outputs": [],
   "source": [
    "def makeRcsbLink(id):\n",
    "    if isinstance(id, str):\n",
    "        url = 'http://www.rcsb.org/pdb/gene/' + id.upper()\n",
    "        return '<a target=\"_blank\" href=\"%s\">%s</a>' % (url, id.upper())\n",
    "    else:\n",
    "        return 'n/a'\n",
    "    \n",
    "protein_labels.SYMBOL = protein_labels.SYMBOL.map(makeRcsbLink)\n",
    "protein_labels[:3]"
   ]
  },
  {
   "cell_type": "code",
   "execution_count": null,
   "metadata": {
    "collapsed": false,
    "scrolled": true
   },
   "outputs": [],
   "source": [
    "def makePubmedLink(id):\n",
    "    url = 'http://www.ncbi.nlm.nih.gov/pubmed/?term=%s' % id\n",
    "    return '<a target=\"_blank\" href=\"%s\">%s</a>' % (url, id)\n",
    "\n",
    "interactions['Pubmed ID'] = interactions['Pubmed ID'].map(makePubmedLink)\n",
    "interactions[:3]"
   ]
  },
  {
   "cell_type": "markdown",
   "metadata": {},
   "source": [
    "## Plotting\n",
    "We bind columns to labels and colors and we are good to go. "
   ]
  },
  {
   "cell_type": "code",
   "execution_count": null,
   "metadata": {
    "collapsed": false,
    "scrolled": false
   },
   "outputs": [],
   "source": [
    "# This will upload ~10MB of data, be patient!\n",
    "fancy_plotter = plotter.bind(node='BIOGRID_ID', edge_title='Author', point_title='SYMBOL', point_color='Color')\n",
    "fancy_plotter.plot(interactions, protein_labels)"
   ]
  }
 ],
 "metadata": {
  "kernelspec": {
   "display_name": "Python 2",
   "language": "python",
   "name": "python2"
  },
  "language_info": {
   "codemirror_mode": {
    "name": "ipython",
    "version": 2
   },
   "file_extension": ".py",
   "mimetype": "text/x-python",
   "name": "python",
   "nbconvert_exporter": "python",
   "pygments_lexer": "ipython2",
   "version": "2.7.10"
  }
 },
 "nbformat": 4,
 "nbformat_minor": 0
}
