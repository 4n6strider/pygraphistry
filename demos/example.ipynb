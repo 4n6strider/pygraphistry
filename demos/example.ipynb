{
 "cells": [
  {
   "cell_type": "code",
   "execution_count": 1,
   "metadata": {},
   "outputs": [],
   "source": [
    "# autoreload graphistry *only* for development purposes\n",
    "#  - used in conjunction with `pip install -e <pygraphistry repo root>`\n",
    "%load_ext autoreload"
   ]
  },
  {
   "cell_type": "code",
   "execution_count": 2,
   "metadata": {},
   "outputs": [
    {
     "name": "stderr",
     "output_type": "stream",
     "text": [
      "/opt/conda/envs/graphistry/lib/python3.7/importlib/_bootstrap.py:219: RuntimeWarning: numpy.dtype size changed, may indicate binary incompatibility. Expected 96, got 88\n",
      "  return f(*args, **kwds)\n"
     ]
    }
   ],
   "source": [
    "import graphistry\n",
    "import networkx\n",
    "import igraph"
   ]
  },
  {
   "cell_type": "code",
   "execution_count": 153,
   "metadata": {},
   "outputs": [],
   "source": [
    "# graph = networkx.random_lobster(100, 0.5, 0.5)\n",
    "# graph = networkx.balanced_tree(2, 19) # 2^20, or 1m+ nodes\n",
    "# graph = networkx.circulant_graph(40, [1, 2, 3, 4])\n",
    "# graph = networkx.full_rary_tree(2, 2000)\n",
    "# graph = networkx.grid_2d_graph(10, 10) # broken because ids are tuples\n",
    "# graph = networkx.hoffman_singleton_graph()\n",
    "# graph = networkx.connected_caveman_graph(10, 10)\n",
    "\n",
    "import math\n",
    "graph = igraph.Graph.Tree(math.floor(math.pow(2, 10)) - 1, 2)"
   ]
  },
  {
   "cell_type": "code",
   "execution_count": 154,
   "metadata": {
    "scrolled": true
   },
   "outputs": [],
   "source": [
    "%autoreload\n",
    "plotter = graphistry.data(graph=graph)"
   ]
  },
  {
   "cell_type": "code",
   "execution_count": 155,
   "metadata": {},
   "outputs": [
    {
     "data": {
      "text/html": [
       "\n",
       "            <iframe id=\"8c181dfe-31af-4781-8d9e-3eb025bfa803\" src=\"http://localhost/graph/fc70d07e-7f18-51fb-8adb-dda8edcee067\"\n",
       "                    allowfullscreen=\"true\" webkitallowfullscreen=\"true\" mozallowfullscreen=\"true\"\n",
       "                    oallowfullscreen=\"true\" msallowfullscreen=\"true\"\n",
       "                    style=\"width:100%; height:600px; border: 1px solid #DDD\">\n",
       "            </iframe>\n",
       "        \n",
       "            <script>\n",
       "                $(\"#8c181dfe-31af-4781-8d9e-3eb025bfa803\").bind('mousewheel', function(e) {\n",
       "                e.preventDefault();\n",
       "                });\n",
       "            </script>\n",
       "        "
      ],
      "text/plain": [
       "<IPython.core.display.HTML object>"
      ]
     },
     "execution_count": 155,
     "metadata": {},
     "output_type": "execute_result"
    }
   ],
   "source": [
    "plotter\\\n",
    "    .bind(\n",
    "        node_id = graphistry.plotter.NODE_ID,\n",
    "        edge_id = graphistry.plotter.EDGE_ID,\n",
    "        edge_src = graphistry.plotter.EDGE_SRC,\n",
    "        edge_dst = graphistry.plotter.EDGE_DST\n",
    "    )\\\n",
    "    .plot()"
   ]
  },
  {
   "cell_type": "code",
   "execution_count": null,
   "metadata": {},
   "outputs": [],
   "source": []
  }
 ],
 "metadata": {
  "celltoolbar": "Raw Cell Format",
  "kernelspec": {
   "display_name": "Python [conda env:graphistry]",
   "language": "python",
   "name": "conda-env-graphistry-py"
  },
  "language_info": {
   "codemirror_mode": {
    "name": "ipython",
    "version": 3
   },
   "file_extension": ".py",
   "mimetype": "text/x-python",
   "name": "python",
   "nbconvert_exporter": "python",
   "pygments_lexer": "ipython3",
   "version": "3.7.1"
  }
 },
 "nbformat": 4,
 "nbformat_minor": 2
}
