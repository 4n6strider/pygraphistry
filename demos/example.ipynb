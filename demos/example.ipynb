{
 "cells": [
  {
   "cell_type": "code",
   "execution_count": 5,
   "metadata": {},
   "outputs": [],
   "source": [
    "# autoreload graphistry *only* for development purposes\n",
    "#  - used in conjunction with `pip install -e <pygraphistry repo root>`\n",
    "%load_ext autoreload"
   ]
  },
  {
   "cell_type": "code",
   "execution_count": 6,
   "metadata": {},
   "outputs": [],
   "source": [
    "import graphistry\n",
    "import networkx\n",
    "import igraph"
   ]
  },
  {
   "cell_type": "code",
   "execution_count": 7,
   "metadata": {},
   "outputs": [],
   "source": [
    "# graph = networkx.random_lobster(100, 0.5, 0.5)\n",
    "# graph = networkx.balanced_tree(2, 19) # 2^20, or 1m+ nodes\n",
    "# graph = networkx.circulant_graph(40, [1, 2, 3, 4])\n",
    "# graph = networkx.full_rary_tree(2, 2000)\n",
    "# graph = networkx.grid_2d_graph(10, 10) # broken because ids are tuples\n",
    "# graph = networkx.hoffman_singleton_graph()\n",
    "# graph = networkx.connected_caveman_graph(10, 10)\n",
    "\n",
    "import math\n",
    "graph = igraph.Graph.Tree(math.floor(math.pow(2, 10)) - 1, 2)"
   ]
  },
  {
   "cell_type": "code",
   "execution_count": 8,
   "metadata": {
    "scrolled": true
   },
   "outputs": [],
   "source": [
    "%autoreload\n",
    "plotter = graphistry.data(graph=graph)"
   ]
  },
  {
   "cell_type": "code",
   "execution_count": 9,
   "metadata": {},
   "outputs": [
    {
     "data": {
      "text/html": [
       "\n",
       "            <iframe id=\"9605fc88-cf30-413f-8441-8828bf0a91b1\" src=\"http://localhost/graph/a55925db-7f19-5e63-a7d9-06f98f6a8471\"\n",
       "                    allowfullscreen=\"true\" webkitallowfullscreen=\"true\" mozallowfullscreen=\"true\"\n",
       "                    oallowfullscreen=\"true\" msallowfullscreen=\"true\"\n",
       "                    style=\"width:100%; height:600px; border: 1px solid #DDD\">\n",
       "            </iframe>\n",
       "        \n",
       "            <script>\n",
       "                $(\"#9605fc88-cf30-413f-8441-8828bf0a91b1\").bind('mousewheel', function(e) {\n",
       "                e.preventDefault();\n",
       "                });\n",
       "            </script>\n",
       "        "
      ],
      "text/plain": [
       "<IPython.core.display.HTML object>"
      ]
     },
     "execution_count": 9,
     "metadata": {},
     "output_type": "execute_result"
    }
   ],
   "source": [
    "plotter\\\n",
    "    .bind(\n",
    "        node_id = graphistry.plotter.NODE_ID,\n",
    "        edge_id = graphistry.plotter.EDGE_ID,\n",
    "        edge_src = graphistry.plotter.EDGE_SRC,\n",
    "        edge_dst = graphistry.plotter.EDGE_DST\n",
    "    )\\\n",
    "    .plot()"
   ]
  },
  {
   "cell_type": "code",
   "execution_count": null,
   "metadata": {},
   "outputs": [],
   "source": []
  }
 ],
 "metadata": {
  "celltoolbar": "Raw Cell Format",
  "kernelspec": {
   "display_name": "Python [conda env:graphistry]",
   "language": "python",
   "name": "conda-env-graphistry-py"
  },
  "language_info": {
   "codemirror_mode": {
    "name": "ipython",
    "version": 3
   },
   "file_extension": ".py",
   "mimetype": "text/x-python",
   "name": "python",
   "nbconvert_exporter": "python",
   "pygments_lexer": "ipython3",
   "version": "3.7.1"
  }
 },
 "nbformat": 4,
 "nbformat_minor": 2
}
