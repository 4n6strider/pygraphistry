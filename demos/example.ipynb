{
 "cells": [
  {
   "cell_type": "code",
   "execution_count": 94,
   "metadata": {},
   "outputs": [],
   "source": [
    "import graphistry\n",
    "import networkx\n",
    "\n",
    "# graph = networkx.random_lobster(100, 0.5, 0.5)\n",
    "# graph = networkx.balanced_tree(2, 19) # 2^20, or 1m+ nodes\n",
    "graph = networkx.circulant_graph(40, [1, 2, 3, 4])\n",
    "# graph = networkx.full_rary_tree(2, 2000)\n",
    "# graph = networkx.grid_2d_graph(10, 10) # broken because ids are tuples\n",
    "# graph = networkx.hoffman_singleton_graph()\n",
    "# graph = networkx.connected_caveman_graph(10, 10)"
   ]
  },
  {
   "cell_type": "code",
   "execution_count": 95,
   "metadata": {},
   "outputs": [],
   "source": [
    "plotter = graphistry.data(graph=graph)"
   ]
  },
  {
   "cell_type": "code",
   "execution_count": 96,
   "metadata": {},
   "outputs": [
    {
     "data": {
      "text/html": [
       "\n",
       "            <iframe id=\"a5a63732-d1cd-4120-9421-4e7e8c13d853\" src=\"http://localhost/graph/2d532781-5366-5b8d-88f2-d43ba5b5493c\"\n",
       "                    allowfullscreen=\"true\" webkitallowfullscreen=\"true\" mozallowfullscreen=\"true\"\n",
       "                    oallowfullscreen=\"true\" msallowfullscreen=\"true\"\n",
       "                    style=\"width:100%; height:600px; border: 1px solid #DDD\">\n",
       "            </iframe>\n",
       "        \n",
       "            <script>\n",
       "                $(\"#a5a63732-d1cd-4120-9421-4e7e8c13d853\").bind('mousewheel', function(e) {\n",
       "                e.preventDefault();\n",
       "                });\n",
       "            </script>\n",
       "        "
      ],
      "text/plain": [
       "<IPython.core.display.HTML object>"
      ]
     },
     "execution_count": 96,
     "metadata": {},
     "output_type": "execute_result"
    }
   ],
   "source": [
    "plotter\\\n",
    "    .bind(\n",
    "        node_id = graphistry.plotter.NODE_ID,\n",
    "        edge_id = graphistry.plotter.EDGE_ID,\n",
    "        edge_src = graphistry.plotter.EDGE_SRC,\n",
    "        edge_dst = graphistry.plotter.EDGE_DST\n",
    "    )\\\n",
    "    .plot()"
   ]
  },
  {
   "cell_type": "code",
   "execution_count": null,
   "metadata": {},
   "outputs": [],
   "source": []
  }
 ],
 "metadata": {
  "kernelspec": {
   "display_name": "Python [conda env:graphistry]",
   "language": "python",
   "name": "conda-env-graphistry-py"
  },
  "language_info": {
   "codemirror_mode": {
    "name": "ipython",
    "version": 3
   },
   "file_extension": ".py",
   "mimetype": "text/x-python",
   "name": "python",
   "nbconvert_exporter": "python",
   "pygments_lexer": "ipython3",
   "version": "3.7.1"
  }
 },
 "nbformat": 4,
 "nbformat_minor": 2
}
