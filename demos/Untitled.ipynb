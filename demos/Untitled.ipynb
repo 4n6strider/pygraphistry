{
 "cells": [
  {
   "cell_type": "code",
   "execution_count": 20,
   "metadata": {},
   "outputs": [
    {
     "name": "stdout",
     "output_type": "stream",
     "text": [
      "The autoreload extension is already loaded. To reload it, use:\n",
      "  %reload_ext autoreload\n"
     ]
    }
   ],
   "source": [
    "%load_ext autoreload\n",
    "\n",
    "import graphistry\n",
    "import neo4j\n",
    "import json"
   ]
  },
  {
   "cell_type": "code",
   "execution_count": 21,
   "metadata": {},
   "outputs": [],
   "source": [
    "def get_graph(a, b = {}):\n",
    "    driver = neo4j.GraphDatabase.driver(\"bolt://neo4j:7687\")\n",
    "    # MATCH (a)-[r:TRANSACTION]->(b) WHERE r.USD > 7000 AND r.USD < 10000  RETURN a, r, b ORDER BY r.USD DESC LIMIT 5\n",
    "    with driver.session() as session:\n",
    "        return session.run(a, b).graph()"
   ]
  },
  {
   "cell_type": "code",
   "execution_count": 22,
   "metadata": {},
   "outputs": [],
   "source": [
    "# graph = get_graph(\"MATCH (a)-[r:PAYMENT]->(b) WHERE r.USD > 7000 AND r.USD < 10000  RETURN a, r, b ORDER BY r.USD DESC\")\n",
    "graph = get_graph(\"\"\"\n",
    "    match (a)-[r:PAYMENT*1..20]->(b) \n",
    "    where a.Account = $root and ALL(transfer IN r WHERE transfer.USD > $min_amount and transfer.USD < $max_amount )\n",
    "    return a, r, b\n",
    "  \"\"\", \n",
    "  {'root': \"Carl Force (DEA)\", \n",
    "   'min_amount': 999, \n",
    "   'max_amount': 99999})"
   ]
  },
  {
   "cell_type": "code",
   "execution_count": 23,
   "metadata": {},
   "outputs": [],
   "source": [
    "%autoreload\n",
    "plotter = graphistry \\\n",
    "    .data(graph=graph) \\\n",
    "    .bind(\n",
    "        node_id=graphistry.plotter.NODE_ID,\n",
    "        edge_id=graphistry.plotter.EDGE_ID,\n",
    "        edge_src=graphistry.plotter.EDGE_SRC,\n",
    "        edge_dst=graphistry.plotter.EDGE_DST\n",
    "    )"
   ]
  },
  {
   "cell_type": "code",
   "execution_count": 24,
   "metadata": {},
   "outputs": [],
   "source": [
    "# for column in plotter._data['nodes']:\n",
    "#     print(column)\n",
    "    \n",
    "# for column in plotter._data['edges']:\n",
    "#     print(column)"
   ]
  },
  {
   "cell_type": "code",
   "execution_count": 26,
   "metadata": {
    "scrolled": false
   },
   "outputs": [
    {
     "data": {
      "text/html": [
       "\n",
       "            <iframe id=\"01d1686d-749b-4e67-8f17-da714638b7f5\" src=\"http://localhost/graph/0f8c6262-4f30-542b-8862-b3d0422f1df6\"\n",
       "                    allowfullscreen=\"true\" webkitallowfullscreen=\"true\" mozallowfullscreen=\"true\"\n",
       "                    oallowfullscreen=\"true\" msallowfullscreen=\"true\"\n",
       "                    style=\"width:100%; height:600px; border: 1px solid #DDD\">\n",
       "            </iframe>\n",
       "        \n",
       "            <script>\n",
       "                $(\"#01d1686d-749b-4e67-8f17-da714638b7f5\").bind('mousewheel', function(e) {\n",
       "                e.preventDefault();\n",
       "                });\n",
       "            </script>\n",
       "        "
      ],
      "text/plain": [
       "<IPython.core.display.HTML object>"
      ]
     },
     "execution_count": 26,
     "metadata": {},
     "output_type": "execute_result"
    }
   ],
   "source": [
    "plotter.plot()"
   ]
  },
  {
   "cell_type": "code",
   "execution_count": null,
   "metadata": {},
   "outputs": [],
   "source": [
    "graph = get_graph(\"\"\"\n",
    "    match (a)-[r:PAYMENT*1..20]->(b) \n",
    "    where a.Account = $root and ALL(transfer IN r WHERE transfer.USD > $min_amount and transfer.USD < $max_amount )\n",
    "    return a, r, b\n",
    "  \"\"\", \n",
    "  {'root': \"Carl Force (DEA)\", \n",
    "   'min_amount': 999, \n",
    "   'max_amount': 99999})"
   ]
  },
  {
   "cell_type": "code",
   "execution_count": null,
   "metadata": {},
   "outputs": [],
   "source": []
  }
 ],
 "metadata": {
  "kernelspec": {
   "display_name": "Python [conda env:graphistry]",
   "language": "python",
   "name": "conda-env-graphistry-py"
  },
  "language_info": {
   "codemirror_mode": {
    "name": "ipython",
    "version": 3
   },
   "file_extension": ".py",
   "mimetype": "text/x-python",
   "name": "python",
   "nbconvert_exporter": "python",
   "pygments_lexer": "ipython3",
   "version": "3.7.1"
  }
 },
 "nbformat": 4,
 "nbformat_minor": 2
}
