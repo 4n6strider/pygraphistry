{
 "cells": [
  {
   "cell_type": "code",
   "execution_count": 227,
   "metadata": {},
   "outputs": [
    {
     "name": "stdout",
     "output_type": "stream",
     "text": [
      "The autoreload extension is already loaded. To reload it, use:\n",
      "  %reload_ext autoreload\n"
     ]
    }
   ],
   "source": [
    "%load_ext autoreload\n",
    "\n",
    "import graphistry\n",
    "import neo4j\n",
    "import json"
   ]
  },
  {
   "cell_type": "code",
   "execution_count": 228,
   "metadata": {},
   "outputs": [],
   "source": [
    "def get_graph(a, b = {}):\n",
    "    driver = neo4j.GraphDatabase.driver(\"bolt://neo4j:7687\")\n",
    "    # MATCH (a)-[r:TRANSACTION]->(b) WHERE r.USD > 7000 AND r.USD < 10000  RETURN a, r, b ORDER BY r.USD DESC LIMIT 5\n",
    "    with driver.session() as session:\n",
    "        return session.run(a, b).graph()"
   ]
  },
  {
   "cell_type": "code",
   "execution_count": 229,
   "metadata": {},
   "outputs": [],
   "source": [
    "# graph = get_graph(\"MATCH (a)-[r:PAYMENT]->(b) WHERE r.USD > 7000 AND r.USD < 10000 RETURN * LIMIT 5000\")\n",
    "graph = get_graph(\"\"\"\n",
    "    MATCH (a)-[r:PAYMENT]->(b) RETURN distinct * LIMIT 1\n",
    "  \"\"\")"
   ]
  },
  {
   "cell_type": "code",
   "execution_count": 230,
   "metadata": {},
   "outputs": [],
   "source": [
    "%autoreload\n",
    "plotter = graphistry \\\n",
    "    .data(graph=graph) \\\n",
    "    .bind(\n",
    "        node_id='__node_id__',\n",
    "        edge_id='__edge_id__',\n",
    "        edge_src='__edge_src__',\n",
    "        edge_dst='__edge_dst__'\n",
    "    )"
   ]
  },
  {
   "cell_type": "code",
   "execution_count": 231,
   "metadata": {
    "scrolled": false
   },
   "outputs": [
    {
     "data": {
      "text/html": [
       "\n",
       "            <iframe id=\"46a820bc-1298-42f4-9934-9d4b79684d8e\" src=\"http://localhost/graph/7c0d542d-63d1-52b3-b803-331426e6a898\"\n",
       "                    allowfullscreen=\"true\" webkitallowfullscreen=\"true\" mozallowfullscreen=\"true\"\n",
       "                    oallowfullscreen=\"true\" msallowfullscreen=\"true\"\n",
       "                    style=\"width:100%; height:600px; border: 1px solid #DDD\">\n",
       "            </iframe>\n",
       "        \n",
       "            <script>\n",
       "                $(\"#46a820bc-1298-42f4-9934-9d4b79684d8e\").bind('mousewheel', function(e) {\n",
       "                e.preventDefault();\n",
       "                });\n",
       "            </script>\n",
       "        "
      ],
      "text/plain": [
       "<IPython.core.display.HTML object>"
      ]
     },
     "execution_count": 231,
     "metadata": {},
     "output_type": "execute_result"
    }
   ],
   "source": [
    "# for column in plotter._data['nodes']:\n",
    "#     print(column)\n",
    "\n",
    "plotter.plot()"
   ]
  },
  {
   "cell_type": "code",
   "execution_count": 173,
   "metadata": {},
   "outputs": [],
   "source": [
    "graph = get_graph(\"\"\"\n",
    "    match (a)-[r:PAYMENT*1..20]->(b) \n",
    "    where a.Account = $root and ALL(transfer IN r WHERE transfer.USD > $min_amount and transfer.USD < $max_amount )\n",
    "    return a, r, b\n",
    "  \"\"\", \n",
    "  {'root': \"Carl Force (DEA)\", \n",
    "   'min_amount': 999, \n",
    "   'max_amount': 99999})"
   ]
  },
  {
   "cell_type": "code",
   "execution_count": null,
   "metadata": {},
   "outputs": [],
   "source": []
  }
 ],
 "metadata": {
  "kernelspec": {
   "display_name": "Python [conda env:graphistry]",
   "language": "python",
   "name": "conda-env-graphistry-py"
  },
  "language_info": {
   "codemirror_mode": {
    "name": "ipython",
    "version": 3
   },
   "file_extension": ".py",
   "mimetype": "text/x-python",
   "name": "python",
   "nbconvert_exporter": "python",
   "pygments_lexer": "ipython3",
   "version": "3.7.1"
  }
 },
 "nbformat": 4,
 "nbformat_minor": 2
}
