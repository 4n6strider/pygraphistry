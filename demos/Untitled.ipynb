{
 "cells": [
  {
   "cell_type": "code",
   "execution_count": 13,
   "metadata": {},
   "outputs": [
    {
     "name": "stdout",
     "output_type": "stream",
     "text": [
      "The autoreload extension is already loaded. To reload it, use:\n",
      "  %reload_ext autoreload\n"
     ]
    }
   ],
   "source": [
    "%load_ext autoreload\n",
    "\n",
    "import graphistry\n",
    "import neo4j\n",
    "import json"
   ]
  },
  {
   "cell_type": "code",
   "execution_count": null,
   "metadata": {},
   "outputs": [],
   "source": []
  },
  {
   "cell_type": "code",
   "execution_count": 42,
   "metadata": {},
   "outputs": [
    {
     "name": "stdout",
     "output_type": "stream",
     "text": [
      "{\n",
      "    \"__EDGE_ID__\": 39369,\n",
      "    \"__EDGE_SRC__\": 0,\n",
      "    \"__EDGE_DST__\": 275,\n",
      "    \"__NEO4J_TYPE__\": \"TRANSACTION\",\n",
      "    \"_title\": \"bb4f7cec835dbc9670c45746bd4c05a3\",\n",
      "    \"edgeColor\": \"-5845277\",\n",
      "    \"edgeColor2\": \"0\",\n",
      "    \"Amount $\": \"4960\",\n",
      "    \"Date\": \"2013-11-27T03:18:48.000Z\",\n",
      "    \"Transaction ID\": \"bb4f7cec835dbc9670c45746bd4c05a3ac80cede11972283aabae296\"\n",
      "}\n",
      "{\n",
      "    \"__NODE_ID__\": 0,\n",
      "    \"__NEO4J_LABEL__\": [\n",
      "        \"ACCOUNT\"\n",
      "    ],\n",
      "    \"__NEO4J_LABEL_0__\": \"ACCOUNT\",\n",
      "    \"Account\": \"2dd13954e18508bb8b3a41d96a022be9\",\n",
      "    \"degree_in\": \"1\",\n",
      "    \"Balance (max) $\": \"8680\",\n",
      "    \"degree\": \"17\",\n",
      "    \"_title\": \"2dd13954e18508bb8b3a41d96a022be9\",\n",
      "    \"Balance (avg) $\": \"-2134.91609968\",\n",
      "    \"__defaultPointSize\": \"5\",\n",
      "    \"Tainted Coins\": \"0\",\n",
      "    \"__pointSizes\": \"5\",\n",
      "    \"x\": \"2343.969482421875\",\n",
      "    \"y\": \"1269.2396240234375\",\n",
      "    \"Balance $\": \"-106745.80498400002\",\n",
      "    \"__pointColors\": \"14929574\",\n",
      "    \"degree_out\": \"16\",\n",
      "    \"__pointCommunity\": \"275\",\n",
      "    \"pointColor\": \"-5845277\"\n",
      "}\n",
      "{\n",
      "    \"__NODE_ID__\": 275,\n",
      "    \"__NEO4J_LABEL__\": [\n",
      "        \"ACCOUNT\"\n",
      "    ],\n",
      "    \"__NEO4J_LABEL_0__\": \"ACCOUNT\",\n",
      "    \"Account\": \"70a2c070942d0a4397b5f8e427a20b7f\",\n",
      "    \"degree_in\": \"273\",\n",
      "    \"Balance (max) $\": \"124000\",\n",
      "    \"degree\": \"472\",\n",
      "    \"_title\": \"70a2c070942d0a4397b5f8e427a20b7f\",\n",
      "    \"Balance (avg) $\": \"-683.5695869406277\",\n",
      "    \"__defaultPointSize\": \"21\",\n",
      "    \"Tainted Coins\": \"0\",\n",
      "    \"__pointSizes\": \"5\",\n",
      "    \"x\": \"2085.31787109375\",\n",
      "    \"y\": \"1328.03271484375\",\n",
      "    \"Balance $\": \"-392368.94290391967\",\n",
      "    \"__pointColors\": \"14929574\",\n",
      "    \"degree_out\": \"199\",\n",
      "    \"__pointCommunity\": \"275\",\n",
      "    \"pointColor\": \"-5845277\"\n",
      "}\n"
     ]
    }
   ],
   "source": [
    "%autoreload\n",
    "\n",
    "def test_hey():\n",
    "    driver = neo4j.GraphDatabase.driver(\"bolt://neo4j:7687\")\n",
    "    # MATCH (a)-[r:TRANSACTION]->(b) WHERE r.USD > 7000 AND r.USD < 10000  RETURN a, r, b ORDER BY r.USD DESC LIMIT 5\n",
    "    with driver.session() as session:\n",
    "        statement = session.run(\"MATCH (a)-[r:TRANSACTION]->(b) RETURN a, r, b LIMIT 1\", { })\n",
    "\n",
    "        graph = statement.graph()\n",
    "\n",
    "        for relationship in graph.relationships: # type: neo4j.Relationship\n",
    "            print(json.dumps({\n",
    "                key: value for key, value in _relationship_fields(relationship)\n",
    "            }, indent=4))\n",
    "\n",
    "        for node in graph.nodes: # type: neo4j.Node\n",
    "            print(json.dumps({\n",
    "                key: value for key, value in _node_fields(node)\n",
    "            }, indent=4))\n",
    "\n",
    "def _node_fields(node: neo4j.Node):\n",
    "    yield (\"__NODE_ID__\", node.id)\n",
    "    yield (\"__NEO4J_LABEL__\", list(node.labels))\n",
    "    for index, label in enumerate(node.labels):\n",
    "        yield (f\"__NEO4J_LABEL_{index}__\", label)\n",
    "    for item in node.items():\n",
    "        yield item\n",
    "\n",
    "def _relationship_fields(relationship: neo4j.Relationship):\n",
    "    yield (\"__EDGE_ID__\", relationship.id)\n",
    "    yield (\"__EDGE_SRC__\", relationship.start_node.id)\n",
    "    yield (\"__EDGE_DST__\", relationship.end_node.id)\n",
    "    yield (\"__NEO4J_TYPE__\", relationship.type)\n",
    "    for item in relationship.items():\n",
    "        yield item\n",
    "\n",
    "test_hey()"
   ]
  },
  {
   "cell_type": "code",
   "execution_count": null,
   "metadata": {},
   "outputs": [],
   "source": []
  }
 ],
 "metadata": {
  "kernelspec": {
   "display_name": "Python [conda env:graphistry]",
   "language": "python",
   "name": "conda-env-graphistry-py"
  },
  "language_info": {
   "codemirror_mode": {
    "name": "ipython",
    "version": 3
   },
   "file_extension": ".py",
   "mimetype": "text/x-python",
   "name": "python",
   "nbconvert_exporter": "python",
   "pygments_lexer": "ipython3",
   "version": "3.7.1"
  }
 },
 "nbformat": 4,
 "nbformat_minor": 2
}
