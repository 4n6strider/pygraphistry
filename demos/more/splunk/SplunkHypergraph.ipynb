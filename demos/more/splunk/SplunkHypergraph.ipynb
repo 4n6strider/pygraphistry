{
 "cells": [
  {
   "cell_type": "markdown",
   "metadata": {
    "deletable": true,
    "editable": true
   },
   "source": [
    "# Splunk Hypergraphs"
   ]
  },
  {
   "cell_type": "markdown",
   "metadata": {
    "deletable": true,
    "editable": true
   },
   "source": [
    "### Prerequisites\n",
    "Install Python packages using some variant of `pip install juypter splunk-sdk graphistry`"
   ]
  },
  {
   "cell_type": "markdown",
   "metadata": {
    "collapsed": true,
    "deletable": true,
    "editable": true
   },
   "source": [
    "### Headers"
   ]
  },
  {
   "cell_type": "code",
   "execution_count": 44,
   "metadata": {
    "collapsed": false,
    "deletable": true,
    "editable": true
   },
   "outputs": [],
   "source": [
    "import pandas as pd\n",
    "import graphistry\n",
    "#api.graphistry.com/api/encrypt?text=emailCanary\n",
    "graphistry.register(\"FIXME\")"
   ]
  },
  {
   "cell_type": "markdown",
   "metadata": {
    "deletable": true,
    "editable": true
   },
   "source": [
    "### Connect to Splunk\n",
    "https://github.com/graphistry/pygraphistry/blob/master/demos/more/splunk/Splunk%20Mashup.ipynb"
   ]
  },
  {
   "cell_type": "code",
   "execution_count": 45,
   "metadata": {
    "collapsed": false,
    "deletable": true,
    "editable": true
   },
   "outputs": [],
   "source": [
    "import splunklib.client as client\n",
    "import splunklib.results as results\n",
    "#FIXME\n",
    "cargs = {\n",
    "    'host': 'splunk.FIXME.com',\n",
    "    'scheme': 'https',\n",
    "    'port': 8089,\n",
    "    'username': 'FIXME',\n",
    "    'password': 'FIXME'   \n",
    "}\n",
    "service = client.connect(host=cargs['host'], scheme=cargs['scheme'], port=cargs['port'], username=cargs['username'], password=cargs['password'])"
   ]
  },
  {
   "cell_type": "markdown",
   "metadata": {},
   "source": [
    "### Splunk Helpers\n",
    "Data adapter to splunk (in its entirety!)"
   ]
  },
  {
   "cell_type": "code",
   "execution_count": 46,
   "metadata": {
    "collapsed": true
   },
   "outputs": [],
   "source": [
    "def splunkToPandas (qry):\n",
    "    kwargs_blockingsearch = {\"count\": 0, \"required_field_list\": \"*\"}\n",
    "    out = service.jobs.oneshot(qry, **kwargs_blockingsearch)\n",
    "    reader = results.ResultsReader(out)\n",
    "    lst = [x for x in reader]\n",
    "    print('# alerts', len(lst))\n",
    "    return pandas.DataFrame(lst)"
   ]
  },
  {
   "cell_type": "markdown",
   "metadata": {
    "collapsed": true,
    "deletable": true,
    "editable": true
   },
   "source": [
    "## Event -> Hypergraph Transform Helpers\n",
    "https://github.com/graphistry/pygraphistry/blob/master/demos/more/malware-hypergraph/Malware%20Hypergraph.ipynb"
   ]
  },
  {
   "cell_type": "code",
   "execution_count": 47,
   "metadata": {
    "collapsed": true
   },
   "outputs": [],
   "source": [
    "### COMMON TO HYPERGRAPH AND SIMPLE GRAPH\n",
    "def makeDefs(DEFS, opts={}):\n",
    "    defs = {key: opts[key] if key in opts else DEFS[key] for key in DEFS}    \n",
    "    base_skip = opts['SKIP'] if 'SKIP' in opts else defs['SKIP']\n",
    "    skip = [x for x in base_skip] #copy\n",
    "    defs['SKIP'] = skip\n",
    "    for key in DEFS:\n",
    "        if not defs[key] in skip:\n",
    "            skip.append(defs[key])\n",
    "    return defs\n",
    "\n",
    "def screen_entities(events, entity_types, defs):\n",
    "    base = entity_types if not entity_types == None else events.columns\n",
    "    return [x for x in base if not x in defs['SKIP']]\n",
    "\n",
    "#ex output: pd.DataFrame([{'val::state': 'CA', 'nodeType': 'state', 'nodeID': 'state::CA'}])\n",
    "def format_entities(events, entity_types, defs, drop_na):\n",
    "    lst = sum([[{\n",
    "                    col: v,\n",
    "                    defs['TITLE']: v,\n",
    "                    defs['NODETYPE']: col, \n",
    "                    defs['NODEID']: col + defs['DELIM'] + str(v)\n",
    "                } \n",
    "                for v in events[col].unique() if v != 'nan'] for col in entity_types], [])\n",
    "    return pd.DataFrame(lst)"
   ]
  },
  {
   "cell_type": "code",
   "execution_count": 48,
   "metadata": {
    "collapsed": true
   },
   "outputs": [],
   "source": [
    "DEFS_HYPER = {\n",
    "    'TITLE': 'nodeTitle',\n",
    "    'DELIM': '::',\n",
    "    'NODEID': 'nodeID',\n",
    "    'ATTRIBID': 'attribID',\n",
    "    'EVENTID': 'eventID',\n",
    "    'NODETYPE': 'nodeType',\n",
    "    'EDGETYPE': 'edgeType',\n",
    "    'SKIP': []\n",
    "}\n",
    "\n",
    "\n",
    "#ex output: pd.DataFrame([{'edgeType': 'state', 'attribID': 'state::CA', 'eventID': 'eventID::0'}])\n",
    "def format_hyperedges(events, entity_types, defs, drop_na, drop_edge_attrs):\n",
    "    subframes = []\n",
    "    for col in entity_types:\n",
    "        raw = events[[col, defs['EVENTID']]].copy()\n",
    "        if drop_na:\n",
    "            raw = raw.dropna()[[col, defs['EVENTID']]].copy()\n",
    "        if len(raw):\n",
    "            raw[defs['EDGETYPE']] = raw.apply(lambda r: col, axis=1)\n",
    "            raw[defs['ATTRIBID']] = raw.apply(lambda r: col + defs['DELIM'] + str(r[col]), axis=1)\n",
    "            subframes.append(raw)\n",
    "    print('printing')\n",
    "    if len(subframes):\n",
    "        return pd.concat(subframes)[[defs['EDGETYPE'], defs['ATTRIBID'], defs['EVENTID']]]\n",
    "    return pd.DataFrame([])\n",
    "\n",
    "def format_hypernodes(events, defs, drop_na):\n",
    "    event_nodes = events.copy()\n",
    "    event_nodes[defs['NODETYPE']] = defs['EVENTID']\n",
    "    event_nodes[defs['NODEID']] = event_nodes[defs['EVENTID']]    \n",
    "    event_nodes[defs['TITLE']] = event_nodes[defs['EVENTID']]    \n",
    "    return event_nodes\n",
    "\n",
    "def hyperbinding(defs, entities, event_entities, edges):\n",
    "    return graphistry\\\n",
    "        .bind(source=defs['ATTRIBID'], destination=defs['EVENTID']).edges(edges)\\\n",
    "        .bind(node=defs['NODEID'], point_title=defs['TITLE']).nodes(pd.concat([entities, event_entities]))\n",
    "\n",
    "def hypergraph(raw_events, entity_types=None, opts={}, drop_na=True, drop_edge_attrs=True):\n",
    "    defs = makeDefs(DEFS_HYPER, opts)\n",
    "    entity_types = screen_entities(raw_events, entity_types, defs)\n",
    "    events = raw_events.copy()\n",
    "    if defs['EVENTID'] in events.columns:\n",
    "        events[defs['EVENTID']] = events.apply(\n",
    "            lambda r: defs['EVENTID'] + defs['DELIM'] + str(r[defs['EVENTID']]), \n",
    "            axis=1)\n",
    "    else:\n",
    "        events[defs['EVENTID']] = events.reset_index().apply(\n",
    "            lambda r: defs['EVENTID'] + defs['DELIM'] + str(r['index']), \n",
    "            axis=1)\n",
    "    events[defs['NODETYPE']] = 'event'\n",
    "    entities = format_entities(events, entity_types, defs, drop_na)\n",
    "    event_entities = format_hypernodes(events, defs, drop_na)\n",
    "    edges = format_hyperedges(events, entity_types, defs, drop_na, drop_edge_attrs)\n",
    "    print('# links', len(edges))\n",
    "    print('# event entities', len(events))\n",
    "    print('# attrib entities', len(entities))\n",
    "    return hyperbinding(defs, entities, event_entities, edges)"
   ]
  },
  {
   "cell_type": "markdown",
   "metadata": {},
   "source": [
    "## Fun!"
   ]
  },
  {
   "cell_type": "code",
   "execution_count": 49,
   "metadata": {
    "collapsed": false
   },
   "outputs": [
    {
     "name": "stdout",
     "output_type": "stream",
     "text": [
      "('# alerts', 100)\n",
      "CPU times: user 276 ms, sys: 3.01 ms, total: 279 ms\n",
      "Wall time: 1.16 s\n",
      "('# events', 100)\n"
     ]
    },
    {
     "data": {
      "text/html": [
       "<div>\n",
       "<table border=\"1\" class=\"dataframe\">\n",
       "  <thead>\n",
       "    <tr style=\"text-align: right;\">\n",
       "      <th></th>\n",
       "      <th>host</th>\n",
       "      <th>index</th>\n",
       "      <th>linecount</th>\n",
       "      <th>source</th>\n",
       "      <th>sourcetype</th>\n",
       "      <th>splunk_server</th>\n",
       "      <th>msg</th>\n",
       "    </tr>\n",
       "  </thead>\n",
       "  <tbody>\n",
       "    <tr>\n",
       "      <th>0</th>\n",
       "      <td>labs-docker0-0</td>\n",
       "      <td>graphistry_apps</td>\n",
       "      <td>1</td>\n",
       "      <td>/var/log/nginx/access.log</td>\n",
       "      <td>access_combined</td>\n",
       "      <td>splunk.graphistry.com</td>\n",
       "      <td>NaN</td>\n",
       "    </tr>\n",
       "  </tbody>\n",
       "</table>\n",
       "<p>100 rows × 7 columns</p>\n",
       "</div>"
      ],
      "text/plain": [
       "                 host            index linecount  \\\n",
       "0      labs-docker0-0  graphistry_apps         1   \n",
       "1      labs-docker0-0  graphistry_apps         1   \n",
       "2      labs-docker0-0  graphistry_apps         1   \n",
       "3      labs-docker0-0  graphistry_apps         1   \n",
       "4      labs-docker0-0  graphistry_apps         1   \n",
       "5      labs-docker0-0  graphistry_apps         1   \n",
       "6      labs-docker0-0  graphistry_apps         1   \n",
       "7      labs-docker0-0  graphistry_apps         1   \n",
       "8      labs-docker0-0  graphistry_apps         1   \n",
       "9      labs-docker0-0  graphistry_apps         7   \n",
       "10     labs-docker0-0  graphistry_apps         1   \n",
       "11     labs-docker0-0  graphistry_apps         1   \n",
       "12     labs-docker0-0  graphistry_apps         1   \n",
       "13     labs-docker0-0  graphistry_apps         1   \n",
       "14     labs-docker0-0  graphistry_apps         1   \n",
       "15     labs-docker0-0  graphistry_apps         1   \n",
       "16     labs-docker0-0  graphistry_apps         1   \n",
       "17     labs-docker0-0  graphistry_apps         1   \n",
       "18     labs-docker0-0  graphistry_apps         1   \n",
       "19     labs-docker0-0  graphistry_apps         1   \n",
       "20     labs-docker0-0  graphistry_apps         7   \n",
       "21     labs-docker0-0  graphistry_apps         1   \n",
       "22     labs-docker0-0  graphistry_apps         1   \n",
       "23     labs-docker0-0  graphistry_apps         1   \n",
       "24     labs-docker0-0  graphistry_apps         1   \n",
       "25     labs-docker0-0  graphistry_apps         1   \n",
       "26     labs-docker0-0  graphistry_apps         1   \n",
       "27     labs-docker0-0  graphistry_apps         1   \n",
       "28  staging-docker0-0  graphistry_apps         1   \n",
       "29     labs-docker0-0  graphistry_apps         1   \n",
       "..                ...              ...       ...   \n",
       "70     labs-docker0-0  graphistry_apps         1   \n",
       "71     labs-docker0-0  graphistry_apps         1   \n",
       "72     labs-docker0-0  graphistry_apps         1   \n",
       "73     labs-docker0-0  graphistry_apps         1   \n",
       "74     labs-docker0-0  graphistry_apps         1   \n",
       "75     labs-docker0-0  graphistry_apps         1   \n",
       "76     labs-docker0-0  graphistry_apps         1   \n",
       "77     labs-docker0-0  graphistry_apps         1   \n",
       "78     labs-docker0-0  graphistry_apps         1   \n",
       "79     labs-docker0-0  graphistry_apps         1   \n",
       "80     labs-docker0-0  graphistry_apps         1   \n",
       "81     labs-docker0-0  graphistry_apps         1   \n",
       "82     labs-docker0-0  graphistry_apps         1   \n",
       "83     labs-docker0-0  graphistry_apps         1   \n",
       "84     labs-docker0-0  graphistry_apps         1   \n",
       "85     labs-docker0-0  graphistry_apps         1   \n",
       "86     labs-docker0-0  graphistry_apps         1   \n",
       "87     labs-docker0-0  graphistry_apps         1   \n",
       "88     labs-docker0-0  graphistry_apps         1   \n",
       "89     labs-docker0-0  graphistry_apps         1   \n",
       "90     labs-docker0-0  graphistry_apps         1   \n",
       "91     labs-docker0-0  graphistry_apps         1   \n",
       "92     labs-docker0-0  graphistry_apps         1   \n",
       "93     labs-docker0-0  graphistry_apps         1   \n",
       "94     labs-docker0-0  graphistry_apps         1   \n",
       "95     labs-docker0-0  graphistry_apps         1   \n",
       "96     labs-docker0-0  graphistry_apps         1   \n",
       "97     labs-docker0-0  graphistry_apps         1   \n",
       "98     labs-docker0-0  graphistry_apps         1   \n",
       "99     labs-docker0-0  graphistry_apps         1   \n",
       "\n",
       "                                           source  \\\n",
       "0                       /var/log/nginx/access.log   \n",
       "1            /var/log/graphistry-json/central.log   \n",
       "2                       /var/log/nginx/access.log   \n",
       "3            /var/log/graphistry-json/central.log   \n",
       "4            /var/log/graphistry-json/central.log   \n",
       "5            /var/log/graphistry-json/central.log   \n",
       "6                       /var/log/nginx/access.log   \n",
       "7                   /var/log/reaper/reaper.py.log   \n",
       "8                   /var/log/reaper/reaper.py.log   \n",
       "9     /var/log/worker/viz-worker-10029.stdout.log   \n",
       "10  /var/log/graphistry-json/viz-worker-10029.log   \n",
       "11  /var/log/graphistry-json/viz-worker-10029.log   \n",
       "12  /var/log/graphistry-json/viz-worker-10029.log   \n",
       "13  /var/log/graphistry-json/viz-worker-10029.log   \n",
       "14  /var/log/graphistry-json/viz-worker-10029.log   \n",
       "15  /var/log/graphistry-json/viz-worker-10029.log   \n",
       "16                      /var/log/nginx/access.log   \n",
       "17                      /var/log/nginx/access.log   \n",
       "18  /var/log/graphistry-json/viz-worker-10007.log   \n",
       "19  /var/log/graphistry-json/viz-worker-10007.log   \n",
       "20    /var/log/worker/viz-worker-10007.stdout.log   \n",
       "21                      /var/log/nginx/access.log   \n",
       "22  /var/log/graphistry-json/viz-worker-10007.log   \n",
       "23  /var/log/graphistry-json/viz-worker-10007.log   \n",
       "24  /var/log/graphistry-json/viz-worker-10007.log   \n",
       "25  /var/log/graphistry-json/viz-worker-10007.log   \n",
       "26                  /var/log/reaper/reaper.py.log   \n",
       "27                  /var/log/reaper/reaper.py.log   \n",
       "28                      /var/log/nginx/access.log   \n",
       "29  /var/log/graphistry-json/viz-worker-10029.log   \n",
       "..                                            ...   \n",
       "70  /var/log/graphistry-json/viz-worker-10029.log   \n",
       "71  /var/log/graphistry-json/viz-worker-10029.log   \n",
       "72  /var/log/graphistry-json/viz-worker-10029.log   \n",
       "73  /var/log/graphistry-json/viz-worker-10029.log   \n",
       "74  /var/log/graphistry-json/viz-worker-10029.log   \n",
       "75  /var/log/graphistry-json/viz-worker-10029.log   \n",
       "76  /var/log/graphistry-json/viz-worker-10029.log   \n",
       "77  /var/log/graphistry-json/viz-worker-10029.log   \n",
       "78  /var/log/graphistry-json/viz-worker-10029.log   \n",
       "79  /var/log/graphistry-json/viz-worker-10029.log   \n",
       "80  /var/log/graphistry-json/viz-worker-10029.log   \n",
       "81  /var/log/graphistry-json/viz-worker-10029.log   \n",
       "82  /var/log/graphistry-json/viz-worker-10029.log   \n",
       "83  /var/log/graphistry-json/viz-worker-10029.log   \n",
       "84  /var/log/graphistry-json/viz-worker-10029.log   \n",
       "85  /var/log/graphistry-json/viz-worker-10029.log   \n",
       "86  /var/log/graphistry-json/viz-worker-10029.log   \n",
       "87  /var/log/graphistry-json/viz-worker-10029.log   \n",
       "88  /var/log/graphistry-json/viz-worker-10029.log   \n",
       "89  /var/log/graphistry-json/viz-worker-10029.log   \n",
       "90  /var/log/graphistry-json/viz-worker-10029.log   \n",
       "91  /var/log/graphistry-json/viz-worker-10029.log   \n",
       "92  /var/log/graphistry-json/viz-worker-10029.log   \n",
       "93  /var/log/graphistry-json/viz-worker-10029.log   \n",
       "94  /var/log/graphistry-json/viz-worker-10029.log   \n",
       "95  /var/log/graphistry-json/viz-worker-10029.log   \n",
       "96  /var/log/graphistry-json/viz-worker-10029.log   \n",
       "97  /var/log/graphistry-json/viz-worker-10029.log   \n",
       "98  /var/log/graphistry-json/viz-worker-10029.log   \n",
       "99  /var/log/graphistry-json/viz-worker-10029.log   \n",
       "\n",
       "                           sourcetype          splunk_server  \\\n",
       "0                     access_combined  splunk.graphistry.com   \n",
       "1                               _json  splunk.graphistry.com   \n",
       "2                     access_combined  splunk.graphistry.com   \n",
       "3                               _json  splunk.graphistry.com   \n",
       "4                               _json  splunk.graphistry.com   \n",
       "5                               _json  splunk.graphistry.com   \n",
       "6                     access_combined  splunk.graphistry.com   \n",
       "7                               _json  splunk.graphistry.com   \n",
       "8                               _json  splunk.graphistry.com   \n",
       "9   viz-worker-10029.stdout-too_small  splunk.graphistry.com   \n",
       "10                              _json  splunk.graphistry.com   \n",
       "11                              _json  splunk.graphistry.com   \n",
       "12                              _json  splunk.graphistry.com   \n",
       "13                              _json  splunk.graphistry.com   \n",
       "14                              _json  splunk.graphistry.com   \n",
       "15                              _json  splunk.graphistry.com   \n",
       "16                    access_combined  splunk.graphistry.com   \n",
       "17                    access_combined  splunk.graphistry.com   \n",
       "18                              _json  splunk.graphistry.com   \n",
       "19                              _json  splunk.graphistry.com   \n",
       "20  viz-worker-10007.stdout-too_small  splunk.graphistry.com   \n",
       "21                    access_combined  splunk.graphistry.com   \n",
       "22                              _json  splunk.graphistry.com   \n",
       "23                              _json  splunk.graphistry.com   \n",
       "24                              _json  splunk.graphistry.com   \n",
       "25                              _json  splunk.graphistry.com   \n",
       "26                              _json  splunk.graphistry.com   \n",
       "27                              _json  splunk.graphistry.com   \n",
       "28                    access_combined  splunk.graphistry.com   \n",
       "29                              _json  splunk.graphistry.com   \n",
       "..                                ...                    ...   \n",
       "70                              _json  splunk.graphistry.com   \n",
       "71                              _json  splunk.graphistry.com   \n",
       "72                              _json  splunk.graphistry.com   \n",
       "73                              _json  splunk.graphistry.com   \n",
       "74                              _json  splunk.graphistry.com   \n",
       "75                              _json  splunk.graphistry.com   \n",
       "76                              _json  splunk.graphistry.com   \n",
       "77                              _json  splunk.graphistry.com   \n",
       "78                              _json  splunk.graphistry.com   \n",
       "79                              _json  splunk.graphistry.com   \n",
       "80                              _json  splunk.graphistry.com   \n",
       "81                              _json  splunk.graphistry.com   \n",
       "82                              _json  splunk.graphistry.com   \n",
       "83                              _json  splunk.graphistry.com   \n",
       "84                              _json  splunk.graphistry.com   \n",
       "85                              _json  splunk.graphistry.com   \n",
       "86                              _json  splunk.graphistry.com   \n",
       "87                              _json  splunk.graphistry.com   \n",
       "88                              _json  splunk.graphistry.com   \n",
       "89                              _json  splunk.graphistry.com   \n",
       "90                              _json  splunk.graphistry.com   \n",
       "91                              _json  splunk.graphistry.com   \n",
       "92                              _json  splunk.graphistry.com   \n",
       "93                              _json  splunk.graphistry.com   \n",
       "94                              _json  splunk.graphistry.com   \n",
       "95                              _json  splunk.graphistry.com   \n",
       "96                              _json  splunk.graphistry.com   \n",
       "97                              _json  splunk.graphistry.com   \n",
       "98                              _json  splunk.graphistry.com   \n",
       "99                              _json  splunk.graphistry.com   \n",
       "\n",
       "                                                  msg  \n",
       "0                                                 NaN  \n",
       "1   decrypting 58bc93c477372682ae2b47edee9eb7c5932...  \n",
       "2                                                 NaN  \n",
       "3          encrypting fireeye@graphistry.comValidated  \n",
       "4                   /api/(decrypt|check): Invalid key  \n",
       "5                                    decrypting FIXME  \n",
       "6                                                 NaN  \n",
       "7        Removed stale ping for worker 10029, pid: 84  \n",
       "8                              Process 84 not running  \n",
       "9                                                 NaN  \n",
       "10  OpenCL    Type:GPU  Vendor:NVIDIA Corporation ...  \n",
       "11             Running graph-viz @ the listed version  \n",
       "12                 disconnecting ISYOsrRhAgreBWmAAAAA  \n",
       "13                        Exiting viz-server process.  \n",
       "14  Exiting requisitionWorker because isActive is ...  \n",
       "15                      User disconnected from socket  \n",
       "16                                                NaN  \n",
       "17                                                NaN  \n",
       "18  OpenCL    Type:GPU  Vendor:NVIDIA Corporation ...  \n",
       "19             Running graph-viz @ the listed version  \n",
       "20                                                NaN  \n",
       "21                                                NaN  \n",
       "22                 disconnecting 1Q6jsa-eOQC7SOlgAAAA  \n",
       "23                        Exiting viz-server process.  \n",
       "24  Exiting requisitionWorker because isActive is ...  \n",
       "25                      User disconnected from socket  \n",
       "26     Removed stale ping for worker 10022, pid: 3600  \n",
       "27                           Process 3600 not running  \n",
       "28                                                NaN  \n",
       "29                HTTP GET request for vbo edgeColors  \n",
       "..                                                ...  \n",
       "70  Evaluating (single-column) Identifier (functio...  \n",
       "71  Evaluating (single-column) BinaryExpression (f...  \n",
       "72  Evaluating (single-column) Identifier (functio...  \n",
       "73  Evaluating (single-column) UnaryExpression (fu...  \n",
       "74  Evaluating (single-column) BinaryPredicate (fu...  \n",
       "75  Evaluating (single-column) BinaryPredicate (fu...  \n",
       "76  Evaluating (single-column) Identifier (functio...  \n",
       "77  Evaluating (single-column) BinaryExpression (f...  \n",
       "78  Evaluating (single-column) Identifier (functio...  \n",
       "79  Evaluating (single-column) UnaryExpression (fu...  \n",
       "80  Evaluating (single-column) BinaryPredicate (fu...  \n",
       "81  Evaluating (single-column) BinaryPredicate (fu...  \n",
       "82  Evaluating (single-column) Identifier (functio...  \n",
       "83  Evaluating (single-column) BinaryExpression (f...  \n",
       "84  Evaluating (single-column) Identifier (functio...  \n",
       "85  Evaluating (single-column) UnaryExpression (fu...  \n",
       "86  Evaluating (single-column) BinaryPredicate (fu...  \n",
       "87  Evaluating (single-column) BinaryPredicate (fu...  \n",
       "88  Evaluating (single-column) Identifier (functio...  \n",
       "89  Evaluating (single-column) BinaryExpression (f...  \n",
       "90  Evaluating (single-column) Identifier (functio...  \n",
       "91  Evaluating (single-column) UnaryExpression (fu...  \n",
       "92  Evaluating (single-column) BinaryPredicate (fu...  \n",
       "93  Evaluating (single-column) BinaryPredicate (fu...  \n",
       "94  Evaluating (single-column) Identifier (functio...  \n",
       "95  Evaluating (single-column) BinaryExpression (f...  \n",
       "96  Evaluating (single-column) Identifier (functio...  \n",
       "97  Evaluating (single-column) UnaryExpression (fu...  \n",
       "98  Evaluating (single-column) BinaryPredicate (fu...  \n",
       "99  Evaluating (single-column) BinaryPredicate (fu...  \n",
       "\n",
       "[100 rows x 7 columns]"
      ]
     },
     "execution_count": 49,
     "metadata": {},
     "output_type": "execute_result"
    }
   ],
   "source": [
    "## %time is a macro that prints timing information\n",
    "## Start with small records..\n",
    "%time df = splunkToPandas('search index=graphistry_apps eventtype=\"nix-all-logs\" | fields - _* | head 100')\n",
    "print('# events', len(df))\n",
    "df"
   ]
  },
  {
   "cell_type": "code",
   "execution_count": 50,
   "metadata": {
    "collapsed": false
   },
   "outputs": [
    {
     "name": "stdout",
     "output_type": "stream",
     "text": [
      "printing\n",
      "('# links', 689)\n",
      "('# event entities', 100)\n",
      "('# attrib entities', 56)\n"
     ]
    }
   ],
   "source": [
    "g = hypergraph(df)"
   ]
  },
  {
   "cell_type": "code",
   "execution_count": 51,
   "metadata": {
    "collapsed": false
   },
   "outputs": [
    {
     "data": {
      "text/html": [
       "\n",
       "            <iframe id=\"2eec757c-cea9-454f-834a-ce9de93d8e38\" src=\"https://labs.graphistry.com/graph/graph.html?dataset=PyGraphistry/QF1N3IPS52&type=vgraph&viztoken=6da9159c2b590eef77c7e81b4314447acf65ec80&usertag=8f2409ca-pygraphistry-0.9.43&splashAfter=1487127818&info=true\"\n",
       "                    allowfullscreen=\"true\" webkitallowfullscreen=\"true\" mozallowfullscreen=\"true\"\n",
       "                    oallowfullscreen=\"true\" msallowfullscreen=\"true\"\n",
       "                    style=\"width:100%; height:500px; border: 1px solid #DDD\">\n",
       "            </iframe>\n",
       "        \n",
       "            <script>\n",
       "                $(\"#2eec757c-cea9-454f-834a-ce9de93d8e38\").bind('mousewheel', function(e) {\n",
       "                e.preventDefault();\n",
       "                });\n",
       "            </script>\n",
       "        "
      ],
      "text/plain": [
       "<IPython.core.display.HTML object>"
      ]
     },
     "execution_count": 51,
     "metadata": {},
     "output_type": "execute_result"
    }
   ],
   "source": [
    "g.plot()"
   ]
  },
  {
   "cell_type": "code",
   "execution_count": null,
   "metadata": {
    "collapsed": true
   },
   "outputs": [],
   "source": []
  }
 ],
 "metadata": {
  "kernelspec": {
   "display_name": "Python 2",
   "language": "python",
   "name": "python2"
  },
  "language_info": {
   "codemirror_mode": {
    "name": "ipython",
    "version": 2
   },
   "file_extension": ".py",
   "mimetype": "text/x-python",
   "name": "python",
   "nbconvert_exporter": "python",
   "pygments_lexer": "ipython2",
   "version": "2.7.13"
  }
 },
 "nbformat": 4,
 "nbformat_minor": 2
}
