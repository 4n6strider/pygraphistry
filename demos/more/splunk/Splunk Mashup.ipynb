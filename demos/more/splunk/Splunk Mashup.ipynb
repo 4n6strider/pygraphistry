{
 "cells": [
  {
   "cell_type": "markdown",
   "metadata": {},
   "source": [
    "#Splunk/Notebook/Graphistry Mashup\n",
    "\n",
    "This notebook shows a different kind of way to explore alerts:\n",
    "* **Exploratory notebook rather than an interactive dashboard.** This simplifies doing & sharing more complicated analysis, and with coming versions, can be quickly converted into a reusable dashboard.\n",
    "* **node-link diagrams rather than bar charts.** This is a more natural way to understand behavior across a distributed system and spot patterns within it.\n",
    "\n",
    "## Setup\n",
    "*Install*:  \n",
    "\n",
    "1. `pip install juypter splunk-sdk graphistry`\n",
    "\n",
    "2. Plug in Splunk config info below. (Warning: we like to go from SIEM->HDFS->notebook as direct SIEM queries are slow.)\n",
    "\n",
    "*Run*: \n",
    "\n",
    "1. `juypter`\n",
    "\n",
    "2. Navigate to this file\n",
    "\n",
    "3. \"Cell\" -> \"Run all\""
   ]
  },
  {
   "cell_type": "code",
   "execution_count": 39,
   "metadata": {
    "collapsed": false
   },
   "outputs": [],
   "source": [
    "import pandas\n",
    "import graphistry\n",
    "graphistry.register('contact info@graphistry.com for a GPU server key')"
   ]
  },
  {
   "cell_type": "code",
   "execution_count": 30,
   "metadata": {
    "collapsed": true
   },
   "outputs": [],
   "source": [
    "#Connect to Splunk. Replace settings with your own setup.\n",
    "import splunklib.client as client\n",
    "import splunklib.results as results\n",
    "cargs = {\n",
    "    'host': 'localhost',\n",
    "    'scheme': 'https',\n",
    "    'port': 8089,\n",
    "    'username': 'apiuser',\n",
    "    'password': 'grapher'   \n",
    "}\n",
    "service = client.connect(**cargs)"
   ]
  },
  {
   "cell_type": "code",
   "execution_count": 31,
   "metadata": {
    "collapsed": true
   },
   "outputs": [],
   "source": [
    "#Data adapter to splunk (in its entirety!)\n",
    "def splunkToPandas (qry):\n",
    "    fields = [\"attackerAddress\", \"destinationAddress\", \\\n",
    "          \"priority\", \"severity\", \"name\", \"message\", \"_time\",\\\n",
    "         \"categoryDeviceType\", \"finalDeviceVendor\"]\n",
    "    kwargs_blockingsearch = {\"count\": 0, \"f\": fields}\n",
    "    out = service.jobs.oneshot(qry, **kwargs_blockingsearch)\n",
    "    reader = results.ResultsReader(out)\n",
    "    lst = [x for x in reader]\n",
    "    print('# alerts', len(lst))\n",
    "    return pandas.DataFrame(lst)"
   ]
  },
  {
   "cell_type": "markdown",
   "metadata": {},
   "source": [
    "##Sample Splunk Query\n",
    "From the ArcSight2 logs, get 1000 alerts at priority 7+"
   ]
  },
  {
   "cell_type": "code",
   "execution_count": 32,
   "metadata": {
    "collapsed": false
   },
   "outputs": [
    {
     "name": "stdout",
     "output_type": "stream",
     "text": [
      "('# alerts', 1000)\n",
      "CPU times: user 4.94 s, sys: 43 ms, total: 4.98 s\n",
      "Wall time: 5.41 s\n"
     ]
    },
    {
     "data": {
      "text/html": [
       "<div>\n",
       "<table border=\"1\" class=\"dataframe\">\n",
       "  <thead>\n",
       "    <tr style=\"text-align: right;\">\n",
       "      <th></th>\n",
       "      <th>_time</th>\n",
       "      <th>attackerAddress</th>\n",
       "      <th>categoryDeviceType</th>\n",
       "      <th>destinationAddress</th>\n",
       "      <th>finalDeviceVendor</th>\n",
       "      <th>message</th>\n",
       "      <th>name</th>\n",
       "      <th>priority</th>\n",
       "      <th>severity</th>\n",
       "    </tr>\n",
       "  </thead>\n",
       "  <tbody>\n",
       "    <tr>\n",
       "      <th>0</th>\n",
       "      <td>2015-09-01T15:47:28.000-07:00</td>\n",
       "      <td>NaN</td>\n",
       "      <td>Operating System</td>\n",
       "      <td>245.76.133.247</td>\n",
       "      <td>Unix</td>\n",
       "      <td>IpmiIfcSelReadEntry:error 203.</td>\n",
       "      <td>IpmiIfcSelReadEntry:error 203.</td>\n",
       "      <td>7</td>\n",
       "      <td>0</td>\n",
       "    </tr>\n",
       "    <tr>\n",
       "      <th>1</th>\n",
       "      <td>2015-09-01T15:47:28.000-07:00</td>\n",
       "      <td>245.197.146.45</td>\n",
       "      <td>Network-based IDS/IPS</td>\n",
       "      <td>30.16.8.2</td>\n",
       "      <td>Symantec</td>\n",
       "      <td>Passed traffic per rule 'Allow IGMP traffic'</td>\n",
       "      <td>Passed traffic</td>\n",
       "      <td>7</td>\n",
       "      <td>0</td>\n",
       "    </tr>\n",
       "    <tr>\n",
       "      <th>2</th>\n",
       "      <td>2015-09-01T15:47:28.000-07:00</td>\n",
       "      <td>NaN</td>\n",
       "      <td>NaN</td>\n",
       "      <td>NaN</td>\n",
       "      <td>ArcSight</td>\n",
       "      <td>NaN</td>\n",
       "      <td>Update Connector Caching Status</td>\n",
       "      <td>7</td>\n",
       "      <td>0</td>\n",
       "    </tr>\n",
       "  </tbody>\n",
       "</table>\n",
       "</div>"
      ],
      "text/plain": [
       "                           _time attackerAddress     categoryDeviceType  \\\n",
       "0  2015-09-01T15:47:28.000-07:00             NaN       Operating System   \n",
       "1  2015-09-01T15:47:28.000-07:00  245.197.146.45  Network-based IDS/IPS   \n",
       "2  2015-09-01T15:47:28.000-07:00             NaN                    NaN   \n",
       "\n",
       "  destinationAddress finalDeviceVendor  \\\n",
       "0     245.76.133.247              Unix   \n",
       "1          30.16.8.2          Symantec   \n",
       "2                NaN          ArcSight   \n",
       "\n",
       "                                        message  \\\n",
       "0                IpmiIfcSelReadEntry:error 203.   \n",
       "1  Passed traffic per rule 'Allow IGMP traffic'   \n",
       "2                                           NaN   \n",
       "\n",
       "                              name priority severity  \n",
       "0   IpmiIfcSelReadEntry:error 203.        7        0  \n",
       "1                   Passed traffic        7        0  \n",
       "2  Update Connector Caching Status        7        0  "
      ]
     },
     "execution_count": 32,
     "metadata": {},
     "output_type": "execute_result"
    }
   ],
   "source": [
    "%time df = splunkToPandas('search index=\"arcsight2\" priority > 6 | head 1000')\n",
    "df[:3]"
   ]
  },
  {
   "cell_type": "markdown",
   "metadata": {},
   "source": [
    "## Visualize 1000 Alerts at Priority 7+"
   ]
  },
  {
   "cell_type": "code",
   "execution_count": 33,
   "metadata": {
    "collapsed": false
   },
   "outputs": [],
   "source": [
    "#Define visual schema\n",
    "g = graphistry.bind(source='attackerAddress', destination='destinationAddress')"
   ]
  },
  {
   "cell_type": "code",
   "execution_count": 40,
   "metadata": {
    "collapsed": false
   },
   "outputs": [
    {
     "name": "stdout",
     "output_type": "stream",
     "text": [
      "('# alerts', 1000)\n",
      "CPU times: user 4.94 s, sys: 8.65 ms, total: 4.95 s\n",
      "Wall time: 8.49 s\n"
     ]
    },
    {
     "data": {
      "text/html": [
       "<iframe src=\"http://proxy-labs.graphistry.com/graph/graph.html?dataset=PyGraphistry/PQQFBP6MVH&usertag=5e270f22-pygraphistry-0.9.6&key=1e8e6951d29252a24069232813ca134ee66dfc25ef6846e7d4ff7e434eaed14b&splashAfter=1441343119&info=true\" style=\"width:100%; height:500px; border: 1px solid #DDD\"></iframe>"
      ],
      "text/plain": [
       "<IPython.core.display.HTML object>"
      ]
     },
     "execution_count": 40,
     "metadata": {},
     "output_type": "execute_result"
    }
   ],
   "source": [
    "#Get/bind data & plot\n",
    "%time g.edges(splunkToPandas('search index=\"arcsight2\" priority > 6 | head 1000')).plot()"
   ]
  },
  {
   "cell_type": "markdown",
   "metadata": {},
   "source": [
    "## Visualize the Top 5 Attackers + 1 Step of Context"
   ]
  },
  {
   "cell_type": "code",
   "execution_count": 41,
   "metadata": {
    "collapsed": false,
    "scrolled": false
   },
   "outputs": [
    {
     "data": {
      "text/plain": [
       "['245.19.188.141',\n",
       " '245.125.122.30',\n",
       " '189.162.130.53',\n",
       " '245.147.0.237',\n",
       " '245.28.141.251']"
      ]
     },
     "execution_count": 41,
     "metadata": {},
     "output_type": "execute_result"
    }
   ],
   "source": [
    "top5Attackers = df['attackerAddress'].value_counts().reset_index()['index'].tolist()[:5]\n",
    "top5Attackers"
   ]
  },
  {
   "cell_type": "markdown",
   "metadata": {},
   "source": [
    "###First level of attacks"
   ]
  },
  {
   "cell_type": "code",
   "execution_count": 42,
   "metadata": {
    "collapsed": false
   },
   "outputs": [
    {
     "name": "stdout",
     "output_type": "stream",
     "text": [
      "('# alerts', 9230)\n",
      "CPU times: user 46.5 s, sys: 79.5 ms, total: 46.6 s\n",
      "Wall time: 47.5 s\n"
     ]
    },
    {
     "data": {
      "text/html": [
       "<div>\n",
       "<table border=\"1\" class=\"dataframe\">\n",
       "  <thead>\n",
       "    <tr style=\"text-align: right;\">\n",
       "      <th></th>\n",
       "      <th>_time</th>\n",
       "      <th>attackerAddress</th>\n",
       "      <th>categoryDeviceType</th>\n",
       "      <th>destinationAddress</th>\n",
       "      <th>finalDeviceVendor</th>\n",
       "      <th>message</th>\n",
       "      <th>name</th>\n",
       "      <th>priority</th>\n",
       "      <th>severity</th>\n",
       "    </tr>\n",
       "  </thead>\n",
       "  <tbody>\n",
       "    <tr>\n",
       "      <th>0</th>\n",
       "      <td>2014-04-01T16:48:42.000-07:00</td>\n",
       "      <td>245.19.188.141</td>\n",
       "      <td>Firewall</td>\n",
       "      <td>117.231.243.130</td>\n",
       "      <td>NetScreen</td>\n",
       "      <td>\"IP spoofing! From 245.19.188.141:3961 to 117....</td>\n",
       "      <td>IP spoofing!</td>\n",
       "      <td>9</td>\n",
       "      <td>5</td>\n",
       "    </tr>\n",
       "    <tr>\n",
       "      <th>1</th>\n",
       "      <td>2014-04-01T16:48:42.000-07:00</td>\n",
       "      <td>245.19.188.141</td>\n",
       "      <td>Firewall</td>\n",
       "      <td>117.231.243.131</td>\n",
       "      <td>NetScreen</td>\n",
       "      <td>\"IP spoofing! From 245.19.188.141:3960 to 117....</td>\n",
       "      <td>IP spoofing!</td>\n",
       "      <td>9</td>\n",
       "      <td>5</td>\n",
       "    </tr>\n",
       "    <tr>\n",
       "      <th>2</th>\n",
       "      <td>2014-04-01T16:48:42.000-07:00</td>\n",
       "      <td>245.19.188.141</td>\n",
       "      <td>Firewall</td>\n",
       "      <td>117.231.243.131</td>\n",
       "      <td>NetScreen</td>\n",
       "      <td>\"IP spoofing! From 245.19.188.141:3962 to 117....</td>\n",
       "      <td>IP spoofing!</td>\n",
       "      <td>9</td>\n",
       "      <td>5</td>\n",
       "    </tr>\n",
       "  </tbody>\n",
       "</table>\n",
       "</div>"
      ],
      "text/plain": [
       "                           _time attackerAddress categoryDeviceType  \\\n",
       "0  2014-04-01T16:48:42.000-07:00  245.19.188.141           Firewall   \n",
       "1  2014-04-01T16:48:42.000-07:00  245.19.188.141           Firewall   \n",
       "2  2014-04-01T16:48:42.000-07:00  245.19.188.141           Firewall   \n",
       "\n",
       "  destinationAddress finalDeviceVendor  \\\n",
       "0    117.231.243.130         NetScreen   \n",
       "1    117.231.243.131         NetScreen   \n",
       "2    117.231.243.131         NetScreen   \n",
       "\n",
       "                                             message          name priority  \\\n",
       "0  \"IP spoofing! From 245.19.188.141:3961 to 117....  IP spoofing!        9   \n",
       "1  \"IP spoofing! From 245.19.188.141:3960 to 117....  IP spoofing!        9   \n",
       "2  \"IP spoofing! From 245.19.188.141:3962 to 117....  IP spoofing!        9   \n",
       "\n",
       "  severity  \n",
       "0        5  \n",
       "1        5  \n",
       "2        5  "
      ]
     },
     "execution_count": 42,
     "metadata": {},
     "output_type": "execute_result"
    }
   ],
   "source": [
    "ips = ' OR '.join(map(lambda x: 'attackerAddress=' + x, top5Attackers))\n",
    "%time top5AttackersAttacks = splunkToPandas('search index=\"arcsight2\" (' + ips + ')')\n",
    "top5AttackersAttacks[:3]"
   ]
  },
  {
   "cell_type": "code",
   "execution_count": 43,
   "metadata": {
    "collapsed": false
   },
   "outputs": [
    {
     "data": {
      "text/html": [
       "<iframe src=\"http://proxy-labs.graphistry.com/graph/graph.html?dataset=PyGraphistry/CYTE7VTTK7&usertag=5e270f22-pygraphistry-0.9.6&key=1e8e6951d29252a24069232813ca134ee66dfc25ef6846e7d4ff7e434eaed14b&splashAfter=1441343186&info=true\" style=\"width:100%; height:500px; border: 1px solid #DDD\"></iframe>"
      ],
      "text/plain": [
       "<IPython.core.display.HTML object>"
      ]
     },
     "execution_count": 43,
     "metadata": {},
     "output_type": "execute_result"
    }
   ],
   "source": [
    "g.edges(top5AttackersAttacks).plot()"
   ]
  },
  {
   "cell_type": "markdown",
   "metadata": {},
   "source": [
    "###Second level of attacks"
   ]
  },
  {
   "cell_type": "code",
   "execution_count": 44,
   "metadata": {
    "collapsed": false
   },
   "outputs": [
    {
     "name": "stdout",
     "output_type": "stream",
     "text": [
      "('# roots', 146)\n"
     ]
    }
   ],
   "source": [
    "targets = top5AttackersAttacks[['destinationAddress']].drop_duplicates()['destinationAddress'].tolist()\n",
    "print('# roots', len(targets + top5Attackers))"
   ]
  },
  {
   "cell_type": "code",
   "execution_count": 45,
   "metadata": {
    "collapsed": false
   },
   "outputs": [
    {
     "name": "stdout",
     "output_type": "stream",
     "text": [
      "('# alerts', 8271)\n",
      "CPU times: user 41.5 s, sys: 55.5 ms, total: 41.6 s\n",
      "Wall time: 44 s\n"
     ]
    },
    {
     "data": {
      "text/html": [
       "<div>\n",
       "<table border=\"1\" class=\"dataframe\">\n",
       "  <thead>\n",
       "    <tr style=\"text-align: right;\">\n",
       "      <th></th>\n",
       "      <th>_time</th>\n",
       "      <th>attackerAddress</th>\n",
       "      <th>categoryDeviceType</th>\n",
       "      <th>destinationAddress</th>\n",
       "      <th>finalDeviceVendor</th>\n",
       "      <th>message</th>\n",
       "      <th>name</th>\n",
       "      <th>priority</th>\n",
       "      <th>severity</th>\n",
       "    </tr>\n",
       "  </thead>\n",
       "  <tbody>\n",
       "    <tr>\n",
       "      <th>0</th>\n",
       "      <td>2014-04-01T16:48:42.000-07:00</td>\n",
       "      <td>245.19.188.141</td>\n",
       "      <td>Firewall</td>\n",
       "      <td>117.231.243.130</td>\n",
       "      <td>NetScreen</td>\n",
       "      <td>\"IP spoofing! From 245.19.188.141:3961 to 117....</td>\n",
       "      <td>IP spoofing!</td>\n",
       "      <td>9</td>\n",
       "      <td>5</td>\n",
       "    </tr>\n",
       "    <tr>\n",
       "      <th>1</th>\n",
       "      <td>2014-04-01T16:48:42.000-07:00</td>\n",
       "      <td>245.19.188.141</td>\n",
       "      <td>Firewall</td>\n",
       "      <td>117.231.243.131</td>\n",
       "      <td>NetScreen</td>\n",
       "      <td>\"IP spoofing! From 245.19.188.141:3960 to 117....</td>\n",
       "      <td>IP spoofing!</td>\n",
       "      <td>9</td>\n",
       "      <td>5</td>\n",
       "    </tr>\n",
       "    <tr>\n",
       "      <th>2</th>\n",
       "      <td>2014-04-01T16:48:42.000-07:00</td>\n",
       "      <td>245.19.188.141</td>\n",
       "      <td>Firewall</td>\n",
       "      <td>117.231.243.131</td>\n",
       "      <td>NetScreen</td>\n",
       "      <td>\"IP spoofing! From 245.19.188.141:3962 to 117....</td>\n",
       "      <td>IP spoofing!</td>\n",
       "      <td>9</td>\n",
       "      <td>5</td>\n",
       "    </tr>\n",
       "  </tbody>\n",
       "</table>\n",
       "</div>"
      ],
      "text/plain": [
       "                           _time attackerAddress categoryDeviceType  \\\n",
       "0  2014-04-01T16:48:42.000-07:00  245.19.188.141           Firewall   \n",
       "1  2014-04-01T16:48:42.000-07:00  245.19.188.141           Firewall   \n",
       "2  2014-04-01T16:48:42.000-07:00  245.19.188.141           Firewall   \n",
       "\n",
       "  destinationAddress finalDeviceVendor  \\\n",
       "0    117.231.243.130         NetScreen   \n",
       "1    117.231.243.131         NetScreen   \n",
       "2    117.231.243.131         NetScreen   \n",
       "\n",
       "                                             message          name priority  \\\n",
       "0  \"IP spoofing! From 245.19.188.141:3961 to 117....  IP spoofing!        9   \n",
       "1  \"IP spoofing! From 245.19.188.141:3960 to 117....  IP spoofing!        9   \n",
       "2  \"IP spoofing! From 245.19.188.141:3962 to 117....  IP spoofing!        9   \n",
       "\n",
       "  severity  \n",
       "0        5  \n",
       "1        5  \n",
       "2        5  "
      ]
     },
     "execution_count": 45,
     "metadata": {},
     "output_type": "execute_result"
    }
   ],
   "source": [
    "ips2 = ' OR '.join(map(lambda x: 'attackerAddress=' + x, targets))\n",
    "%time moreAttacks = splunkToPandas('search index=\"arcsight2\" (' + ips2 + ')')\n",
    "moreAttacks[:3]"
   ]
  },
  {
   "cell_type": "code",
   "execution_count": 46,
   "metadata": {
    "collapsed": false
   },
   "outputs": [
    {
     "data": {
      "text/html": [
       "<iframe src=\"http://proxy-labs.graphistry.com/graph/graph.html?dataset=PyGraphistry/KA6PKPEK8R&usertag=5e270f22-pygraphistry-0.9.6&key=1e8e6951d29252a24069232813ca134ee66dfc25ef6846e7d4ff7e434eaed14b&splashAfter=1441343233&info=true\" style=\"width:100%; height:500px; border: 1px solid #DDD\"></iframe>"
      ],
      "text/plain": [
       "<IPython.core.display.HTML object>"
      ]
     },
     "execution_count": 46,
     "metadata": {},
     "output_type": "execute_result"
    }
   ],
   "source": [
    "g.edges(top5AttackersAttacks + moreAttacks).plot()"
   ]
  },
  {
   "cell_type": "markdown",
   "metadata": {
    "collapsed": false
   },
   "source": [
    "## As A Pure Splunk Query"
   ]
  },
  {
   "cell_type": "code",
   "execution_count": 47,
   "metadata": {
    "collapsed": false
   },
   "outputs": [
    {
     "data": {
      "text/plain": [
       "' search index=\"arcsight2\" priority > 8      | eval S = \"A\" | eval X = destinationAddress     | append [ search index=\"arcsight2\"      | eval S = \"B\"      | eval X = attackerAddress | eval Y = destinationAddress] | fields attackerAddress destinationAddress name priority S X Y  | eval mangled = toString(Y) + \";\" + toString(priority) + \";\" + toString(name) | stats values(S) as IDX, values(mangled) as mangled by X | stats dc(IDX) as matches, values(mangled) as mangled by X | where matches=2 | mvexpand mangled | rex field=mangled \"(?<Y>.*);(?<priority>.*);(?<name>.*)\" | fields - matches mangled | rename X as attackerAddress | rename Y as destinationAddress | appendpipe [      | search index=\"arcsight2\" priority > 8     | fields attackerAddress destinationAddress name priority ] '"
      ]
     },
     "execution_count": 47,
     "metadata": {},
     "output_type": "execute_result"
    }
   ],
   "source": [
    "query = \"\"\"\n",
    "search index=\"arcsight2\" priority > 8 \n",
    "    | eval S = \"A\" | eval X = destinationAddress    \n",
    "| append [ search index=\"arcsight2\" \n",
    "    | eval S = \"B\" \n",
    "    | eval X = attackerAddress | eval Y = destinationAddress]\n",
    "| fields attackerAddress destinationAddress name priority S X Y\n",
    "\n",
    "| eval mangled = toString(Y) + \";\" + toString(priority) + \";\" + toString(name)\n",
    "| stats values(S) as IDX, values(mangled) as mangled by X\n",
    "| stats dc(IDX) as matches, values(mangled) as mangled by X | where matches=2\n",
    "| mvexpand mangled\n",
    "| rex field=mangled \"(?<Y>.*);(?<priority>.*);(?<name>.*)\"\n",
    "| fields - matches mangled\n",
    "| rename X as attackerAddress | rename Y as destinationAddress\n",
    "| appendpipe [ \n",
    "    | search index=\"arcsight2\" priority > 8\n",
    "    | fields attackerAddress destinationAddress name priority\n",
    "]\n",
    "\"\"\".replace(\"\\n\",\" \")\n",
    "query"
   ]
  },
  {
   "cell_type": "code",
   "execution_count": 48,
   "metadata": {
    "collapsed": false
   },
   "outputs": [
    {
     "name": "stdout",
     "output_type": "stream",
     "text": [
      "('# alerts', 1321)\n"
     ]
    },
    {
     "data": {
      "text/html": [
       "<iframe src=\"http://proxy-labs.graphistry.com/graph/graph.html?dataset=PyGraphistry/HS9HEG4YHZ&usertag=5e270f22-pygraphistry-0.9.6&key=1e8e6951d29252a24069232813ca134ee66dfc25ef6846e7d4ff7e434eaed14b&splashAfter=1441343254&info=true\" style=\"width:100%; height:500px; border: 1px solid #DDD\"></iframe>"
      ],
      "text/plain": [
       "<IPython.core.display.HTML object>"
      ]
     },
     "execution_count": 48,
     "metadata": {},
     "output_type": "execute_result"
    }
   ],
   "source": [
    "%time g.edges(splunkToPandas(query)).plot()"
   ]
  },
  {
   "cell_type": "code",
   "execution_count": null,
   "metadata": {
    "collapsed": true
   },
   "outputs": [],
   "source": []
  }
 ],
 "metadata": {
  "kernelspec": {
   "display_name": "Python 2",
   "language": "python",
   "name": "python2"
  },
  "language_info": {
   "codemirror_mode": {
    "name": "ipython",
    "version": 2
   },
   "file_extension": ".py",
   "mimetype": "text/x-python",
   "name": "python",
   "nbconvert_exporter": "python",
   "pygments_lexer": "ipython2",
   "version": "2.7.9"
  }
 },
 "nbformat": 4,
 "nbformat_minor": 0
}
