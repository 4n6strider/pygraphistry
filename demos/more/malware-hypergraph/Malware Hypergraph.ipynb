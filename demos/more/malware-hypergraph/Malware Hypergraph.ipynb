{
 "cells": [
  {
   "cell_type": "markdown",
   "metadata": {},
   "source": [
    "# Fidelis Baarncat  + Graphistry Mashup\n",
    "\n",
    "This notebook explores how to easily view the result of Barncat RAT IOCs as graphs. By looking at multiple incidents, and how the metadata involved links across them, we can see the characteristics of attacks. \n",
    "\n",
    "The notebook generates two views:\n",
    "\n",
    "1. A bipartite graph entity/event graph: events link to referenced entities, and thereby form chains with the events who also reference those entities.\n",
    "\n",
    "2. An entity graph: nodes are entities, and they're linked by events in common.\n",
    "\n",
    "\n",
    "## Setup\n",
    "*Install*:  \n",
    "\n",
    "1. `pip install juypter graphistry`\n",
    "\n",
    "2. Optionally, put in your own exported CSV for the `read_csv` call below.\n",
    "\n",
    "*Run*: \n",
    "\n",
    "1. `juypter`\n",
    "\n",
    "2. Navigate to this file\n",
    "\n",
    "3. Put your API key into the first cell\n",
    "\n",
    "4. \"Cell\" -> \"Run all\""
   ]
  },
  {
   "cell_type": "code",
   "execution_count": 12,
   "metadata": {
    "collapsed": false
   },
   "outputs": [],
   "source": [
    "import pandas as pd\n",
    "import graphistry\n",
    "#graphistry.register(key='...')"
   ]
  },
  {
   "cell_type": "code",
   "execution_count": 14,
   "metadata": {
    "collapsed": false
   },
   "outputs": [
    {
     "data": {
      "text/plain": [
       "{'Campaign': 'TRANSFORMICE',\n",
       " 'Date': '2015-11-19 14:04:23',\n",
       " 'Domain': 'spynet1.ddns.net',\n",
       " 'InstallDir': 'TEMP',\n",
       " 'InstallFlag': 'True',\n",
       " 'InstallName': 'svchost.exe',\n",
       " 'NetworkSeparator': \"|'|'|\",\n",
       " 'Origin': 'vt',\n",
       " 'Port': '1177',\n",
       " 'RegistryValue': 'ba4c12bee3027d94da5c81db2d196bfd',\n",
       " 'Version': '0.6.4',\n",
       " 'compile_date': '2015-11-18 21:25:59',\n",
       " 'imphash': 'f34d5f2d4577ed6d9ceec516c1f5a744',\n",
       " 'magic': 'PE32 executable for MS Windows (GUI) Intel 80386 32-bit Mono/.Net assembly',\n",
       " 'md5': '007a8403b3281fd4d48c69f4c96da0b8',\n",
       " 'rat_name': 'njRat',\n",
       " 'section_.RELOC': '7905c1aa858eb5484ad08a2e10b7e50e',\n",
       " 'section_.RSRC': '5b346ed223699f15252c1fdad182859f',\n",
       " 'section_.TEXT': 'f414cace41511d02fb8e278cf36fd2a3',\n",
       " 'sha1': 'd215edec90c5487800d961cc1ac2808e221818fa',\n",
       " 'sha256': '2beb53ca652d9d4f73516ce45365ae824370d2408d6b0d5a809cf3cd177ba694'}"
      ]
     },
     "execution_count": 14,
     "metadata": {},
     "output_type": "execute_result"
    }
   ],
   "source": [
    "df = pd.read_csv('barncat.1k.csv', encoding = \"utf8\")\n",
    "eval(df[:10]['value'].tolist()[0])"
   ]
  },
  {
   "cell_type": "code",
   "execution_count": 15,
   "metadata": {
    "collapsed": false
   },
   "outputs": [
    {
     "data": {
      "text/html": [
       "<div>\n",
       "<table border=\"1\" class=\"dataframe\">\n",
       "  <thead>\n",
       "    <tr style=\"text-align: right;\">\n",
       "      <th></th>\n",
       "      <th>uuid</th>\n",
       "      <th>event_id</th>\n",
       "      <th>category</th>\n",
       "      <th>type</th>\n",
       "      <th>value</th>\n",
       "      <th>to_ids</th>\n",
       "      <th>date</th>\n",
       "    </tr>\n",
       "  </thead>\n",
       "  <tbody>\n",
       "    <tr>\n",
       "      <th>56</th>\n",
       "      <td>56e1ae5e-73a4-4d7b-9110-0da4ac1f3af3</td>\n",
       "      <td>221</td>\n",
       "      <td>External analysis</td>\n",
       "      <td>comment</td>\n",
       "      <td>{\"InstallFlag\": \"True\", \"RegistryValue\": \"d5a3...</td>\n",
       "      <td>0</td>\n",
       "      <td>20160310</td>\n",
       "    </tr>\n",
       "    <tr>\n",
       "      <th>65</th>\n",
       "      <td>56e1ae5f-7178-43f3-9467-4f6fac1f3af3</td>\n",
       "      <td>222</td>\n",
       "      <td>External analysis</td>\n",
       "      <td>comment</td>\n",
       "      <td>{\"OfflineKeylogger\": \"1\", \"Version\": \"#KCMDDC5...</td>\n",
       "      <td>0</td>\n",
       "      <td>20160310</td>\n",
       "    </tr>\n",
       "    <tr>\n",
       "      <th>77</th>\n",
       "      <td>56e1ae60-e0e0-4b6d-8e0d-5056ac1f3af3</td>\n",
       "      <td>223</td>\n",
       "      <td>External analysis</td>\n",
       "      <td>comment</td>\n",
       "      <td>{\"OfflineKeylogger\": \"1\", \"Version\": \"#KCMDDC5...</td>\n",
       "      <td>0</td>\n",
       "      <td>20160310</td>\n",
       "    </tr>\n",
       "    <tr>\n",
       "      <th>81</th>\n",
       "      <td>56e1ae62-2d98-45f7-8840-501fac1f3af3</td>\n",
       "      <td>224</td>\n",
       "      <td>External analysis</td>\n",
       "      <td>comment</td>\n",
       "      <td>{\"MeltFile\": \"False\", \"InstallFlag\": \"True\", \"...</td>\n",
       "      <td>0</td>\n",
       "      <td>20160310</td>\n",
       "    </tr>\n",
       "    <tr>\n",
       "      <th>90</th>\n",
       "      <td>56e1ae63-1b60-4942-9a16-5058ac1f3af3</td>\n",
       "      <td>225</td>\n",
       "      <td>External analysis</td>\n",
       "      <td>comment</td>\n",
       "      <td>{\"Group\": \"Facebook\", \"Version\": \"\\u00071.2.2....</td>\n",
       "      <td>0</td>\n",
       "      <td>20160310</td>\n",
       "    </tr>\n",
       "  </tbody>\n",
       "</table>\n",
       "</div>"
      ],
      "text/plain": [
       "                                    uuid  event_id           category  \\\n",
       "56  56e1ae5e-73a4-4d7b-9110-0da4ac1f3af3       221  External analysis   \n",
       "65  56e1ae5f-7178-43f3-9467-4f6fac1f3af3       222  External analysis   \n",
       "77  56e1ae60-e0e0-4b6d-8e0d-5056ac1f3af3       223  External analysis   \n",
       "81  56e1ae62-2d98-45f7-8840-501fac1f3af3       224  External analysis   \n",
       "90  56e1ae63-1b60-4942-9a16-5058ac1f3af3       225  External analysis   \n",
       "\n",
       "       type                                              value  to_ids  \\\n",
       "56  comment  {\"InstallFlag\": \"True\", \"RegistryValue\": \"d5a3...       0   \n",
       "65  comment  {\"OfflineKeylogger\": \"1\", \"Version\": \"#KCMDDC5...       0   \n",
       "77  comment  {\"OfflineKeylogger\": \"1\", \"Version\": \"#KCMDDC5...       0   \n",
       "81  comment  {\"MeltFile\": \"False\", \"InstallFlag\": \"True\", \"...       0   \n",
       "90  comment  {\"Group\": \"Facebook\", \"Version\": \"\\u00071.2.2....       0   \n",
       "\n",
       "        date  \n",
       "56  20160310  \n",
       "65  20160310  \n",
       "77  20160310  \n",
       "81  20160310  \n",
       "90  20160310  "
      ]
     },
     "execution_count": 15,
     "metadata": {},
     "output_type": "execute_result"
    }
   ],
   "source": [
    "#avoid double counting\n",
    "df3 = df[df['value'].str.contains(\"{\")]\n",
    "df3[5:10]"
   ]
  },
  {
   "cell_type": "markdown",
   "metadata": {},
   "source": [
    "## Flatten JSON"
   ]
  },
  {
   "cell_type": "code",
   "execution_count": 16,
   "metadata": {
    "collapsed": false
   },
   "outputs": [
    {
     "data": {
      "text/html": [
       "<div>\n",
       "<table border=\"1\" class=\"dataframe\">\n",
       "  <thead>\n",
       "    <tr style=\"text-align: right;\">\n",
       "      <th></th>\n",
       "      <th>Campaign</th>\n",
       "      <th>Date</th>\n",
       "      <th>Domain</th>\n",
       "      <th>FireWallBypass</th>\n",
       "      <th>Gencode</th>\n",
       "      <th>InstallDir</th>\n",
       "      <th>InstallFlag</th>\n",
       "      <th>InstallName</th>\n",
       "      <th>Mutex</th>\n",
       "      <th>NetworkSeparator</th>\n",
       "      <th>...</th>\n",
       "      <th>section_.RDATA</th>\n",
       "      <th>section_.RELOC</th>\n",
       "      <th>section_.RSRC</th>\n",
       "      <th>section_.TEXT</th>\n",
       "      <th>section_.TLS</th>\n",
       "      <th>sha1</th>\n",
       "      <th>sha256</th>\n",
       "      <th>to_ids</th>\n",
       "      <th>type</th>\n",
       "      <th>uuid</th>\n",
       "    </tr>\n",
       "  </thead>\n",
       "  <tbody>\n",
       "    <tr>\n",
       "      <th>0</th>\n",
       "      <td>KICASS_2015_TALGHIMM_BY_PAYWAND</td>\n",
       "      <td>2015-09-02 16:58:14</td>\n",
       "      <td>paywandbacktrack12.no-ip.biz</td>\n",
       "      <td>NaN</td>\n",
       "      <td>NaN</td>\n",
       "      <td>TEMP</td>\n",
       "      <td>True</td>\n",
       "      <td>chrome.exe</td>\n",
       "      <td>NaN</td>\n",
       "      <td>|'|'|</td>\n",
       "      <td>...</td>\n",
       "      <td>NaN</td>\n",
       "      <td>12efddae46005085884d52cb3a83a3a7</td>\n",
       "      <td>5b346ed223699f15252c1fdad182859f</td>\n",
       "      <td>97079ba2e13a5e968d7b4e177b43fc73</td>\n",
       "      <td>NaN</td>\n",
       "      <td>420d4afd349ca6cfb144f079987654faf0fc1104</td>\n",
       "      <td>2a89d83d82d9b2f22af992806a4d92ba3265893e93a1e3...</td>\n",
       "      <td>0</td>\n",
       "      <td>comment</td>\n",
       "      <td>56e1ae5e-73a4-4d7b-9110-0da4ac1f3af3</td>\n",
       "    </tr>\n",
       "    <tr>\n",
       "      <th>1</th>\n",
       "      <td>RL Hacker</td>\n",
       "      <td>2015-11-10 23:04:15</td>\n",
       "      <td>nve.no-ip.org</td>\n",
       "      <td>0</td>\n",
       "      <td>lYuWr45j19q9</td>\n",
       "      <td>NaN</td>\n",
       "      <td>NaN</td>\n",
       "      <td>NaN</td>\n",
       "      <td>DC_MUTEX-1NP4XTP</td>\n",
       "      <td>NaN</td>\n",
       "      <td>...</td>\n",
       "      <td>c1788dfeb92bbf0cff5aeaeaf1270ff8</td>\n",
       "      <td>e55564594dad16a2ca19fb85903b9300</td>\n",
       "      <td>2af4f890e9c69b99c04af0f2ec8852fe</td>\n",
       "      <td>8067456c5dc713997e61924c501c8cb2</td>\n",
       "      <td>d41d8cd98f00b204e9800998ecf8427e</td>\n",
       "      <td>0f3fb80eea1087ecfecc02b54d90236ee81366c6</td>\n",
       "      <td>17845a58e5909ccaaae78facedf6a63defe657beafa5c3...</td>\n",
       "      <td>0</td>\n",
       "      <td>comment</td>\n",
       "      <td>56e1ae5f-7178-43f3-9467-4f6fac1f3af3</td>\n",
       "    </tr>\n",
       "  </tbody>\n",
       "</table>\n",
       "<p>2 rows × 37 columns</p>\n",
       "</div>"
      ],
      "text/plain": [
       "                          Campaign                 Date  \\\n",
       "0  KICASS_2015_TALGHIMM_BY_PAYWAND  2015-09-02 16:58:14   \n",
       "1                        RL Hacker  2015-11-10 23:04:15   \n",
       "\n",
       "                         Domain FireWallBypass       Gencode InstallDir  \\\n",
       "0  paywandbacktrack12.no-ip.biz            NaN           NaN       TEMP   \n",
       "1                 nve.no-ip.org              0  lYuWr45j19q9        NaN   \n",
       "\n",
       "  InstallFlag InstallName             Mutex NetworkSeparator  \\\n",
       "0        True  chrome.exe               NaN            |'|'|   \n",
       "1         NaN         NaN  DC_MUTEX-1NP4XTP              NaN   \n",
       "\n",
       "                   ...                                     section_.RDATA  \\\n",
       "0                  ...                                                NaN   \n",
       "1                  ...                   c1788dfeb92bbf0cff5aeaeaf1270ff8   \n",
       "\n",
       "                     section_.RELOC                     section_.RSRC  \\\n",
       "0  12efddae46005085884d52cb3a83a3a7  5b346ed223699f15252c1fdad182859f   \n",
       "1  e55564594dad16a2ca19fb85903b9300  2af4f890e9c69b99c04af0f2ec8852fe   \n",
       "\n",
       "                      section_.TEXT                      section_.TLS  \\\n",
       "0  97079ba2e13a5e968d7b4e177b43fc73                               NaN   \n",
       "1  8067456c5dc713997e61924c501c8cb2  d41d8cd98f00b204e9800998ecf8427e   \n",
       "\n",
       "                                       sha1  \\\n",
       "0  420d4afd349ca6cfb144f079987654faf0fc1104   \n",
       "1  0f3fb80eea1087ecfecc02b54d90236ee81366c6   \n",
       "\n",
       "                                              sha256  to_ids     type  \\\n",
       "0  2a89d83d82d9b2f22af992806a4d92ba3265893e93a1e3...       0  comment   \n",
       "1  17845a58e5909ccaaae78facedf6a63defe657beafa5c3...       0  comment   \n",
       "\n",
       "                                   uuid  \n",
       "0  56e1ae5e-73a4-4d7b-9110-0da4ac1f3af3  \n",
       "1  56e1ae5f-7178-43f3-9467-4f6fac1f3af3  \n",
       "\n",
       "[2 rows x 37 columns]"
      ]
     },
     "execution_count": 16,
     "metadata": {},
     "output_type": "execute_result"
    }
   ],
   "source": [
    "def copy(expanded, r): \n",
    "    v = r['value']\n",
    "    try:\n",
    "        v = eval(v)\n",
    "        if type(v) != dict:\n",
    "            v = {'val': v}\n",
    "    except:\n",
    "        v = {'hash': v}\n",
    "    out = {k: r[k] for k in df.columns if k != 'value' and k != 'val'}\n",
    "    for k in v:\n",
    "        out[k] = v[k]\n",
    "    expanded.append(out)\n",
    "    return 1\n",
    "    \n",
    "def barncatToGraph(df):\n",
    "    expanded = []\n",
    "    df.apply(lambda r: copy(expanded, r), axis=1)\n",
    "    return pd.DataFrame(expanded)\n",
    "\n",
    "barncatToGraph(df3[5:7].copy())"
   ]
  },
  {
   "cell_type": "markdown",
   "metadata": {
    "collapsed": true
   },
   "source": [
    "## Graph Conversions\n",
    "**Simple graph**: Show malware metadata as nodes and connect when they have a malware sample in common. This view helps for seeing malware families, but gets crowded within a family.\n",
    "\n",
    "**Hyper graph**: Bipartite graph between malware samples and the metadata they have in common. This helps clarify what metadata a family of malware samples have in common vs. how they vary. It has linearly more nodes than the simple graph, but quadratically fewer edges, and is thus generally preferred."
   ]
  },
  {
   "cell_type": "code",
   "execution_count": 17,
   "metadata": {
    "collapsed": false
   },
   "outputs": [],
   "source": [
    "### COMMON TO HYPERGRAPH AND SIMPLE GRAPH\n",
    "def makeDefs(DEFS, opts={}):\n",
    "    defs = {key: opts[key] if key in opts else DEFS[key] for key in DEFS}    \n",
    "    base_skip = opts['SKIP'] if 'SKIP' in opts else defs['SKIP']\n",
    "    skip = [x for x in base_skip] #copy\n",
    "    defs['SKIP'] = skip\n",
    "    for key in DEFS:\n",
    "        if not defs[key] in skip:\n",
    "            skip.append(defs[key])\n",
    "    return defs\n",
    "\n",
    "def screen_entities(events, entity_types, defs):\n",
    "    base = entity_types if not entity_types == None else events.columns\n",
    "    return [x for x in base if not x in defs['SKIP']]\n",
    "\n",
    "#ex output: pd.DataFrame([{'val::state': 'CA', 'nodeType': 'state', 'nodeID': 'state::CA'}])\n",
    "def format_entities(events, entity_types, defs, drop_na):\n",
    "    lst = sum([[{\n",
    "                    col: v,\n",
    "                    defs['TITLE']: v,\n",
    "                    defs['NODETYPE']: col, \n",
    "                    defs['NODEID']: col + defs['DELIM'] + str(v)\n",
    "                } \n",
    "                for v in events[col].unique() if v != 'nan'] for col in entity_types], [])\n",
    "    return pd.DataFrame(lst)\n"
   ]
  },
  {
   "cell_type": "code",
   "execution_count": 18,
   "metadata": {
    "collapsed": false
   },
   "outputs": [],
   "source": [
    "DEFS_HYPER = {\n",
    "    'TITLE': 'nodeTitle',\n",
    "    'DELIM': '::',\n",
    "    'NODEID': 'nodeID',\n",
    "    'ATTRIBID': 'attribID',\n",
    "    'EVENTID': 'eventID',\n",
    "    'NODETYPE': 'nodeType',\n",
    "    'EDGETYPE': 'edgeType',\n",
    "    'SKIP': ['_time', 'priority', 'severity', 'finalDeviceVendor', 'categoryDeviceType']\n",
    "}\n",
    "\n",
    "\n",
    "#ex output: pd.DataFrame([{'edgeType': 'state', 'attribID': 'state::CA', 'eventID': 'eventID::0'}])\n",
    "def format_hyperedges(events, entity_types, defs, drop_na, drop_edge_attrs):\n",
    "    subframes = []\n",
    "    for col in entity_types:\n",
    "        raw = events[[col, defs['EVENTID']]].copy()\n",
    "        if drop_na:\n",
    "            raw = raw.dropna()[[col, defs['EVENTID']]].copy()\n",
    "        if len(raw):\n",
    "            raw[defs['EDGETYPE']] = raw.apply(lambda r: col, axis=1)\n",
    "            raw[defs['ATTRIBID']] = raw.apply(lambda r: col + defs['DELIM'] + str(r[col]), axis=1)\n",
    "            subframes.append(raw)\n",
    "    print('printing')\n",
    "    if len(subframes):\n",
    "        return pd.concat(subframes)[[defs['EDGETYPE'], defs['ATTRIBID'], defs['EVENTID']]]\n",
    "    return pd.DataFrame([])\n",
    "\n",
    "def format_hypernodes(events, defs, drop_na):\n",
    "    event_nodes = events.copy()\n",
    "    event_nodes[defs['NODETYPE']] = defs['EVENTID']\n",
    "    event_nodes[defs['NODEID']] = event_nodes[defs['EVENTID']]    \n",
    "    event_nodes[defs['TITLE']] = event_nodes[defs['EVENTID']]    \n",
    "    return event_nodes\n",
    "\n",
    "def hyperbinding(defs, entities, event_entities, edges):\n",
    "    return graphistry\\\n",
    "        .bind(source=defs['ATTRIBID'], destination=defs['EVENTID']).edges(edges)\\\n",
    "        .bind(node=defs['NODEID'], point_title=defs['TITLE']).nodes(pd.concat([entities, event_entities]))\n",
    "\n",
    "def hypergraph(raw_events, entity_types=None, opts={}, drop_na=True, drop_edge_attrs=True):\n",
    "    defs = makeDefs(DEFS_HYPER, opts)\n",
    "    entity_types = screen_entities(raw_events, entity_types, defs)\n",
    "    events = raw_events.copy()\n",
    "    if defs['EVENTID'] in events.columns:\n",
    "        events[defs['EVENTID']] = events.apply(\n",
    "            lambda r: defs['EVENTID'] + defs['DELIM'] + str(r[defs['EVENTID']]), \n",
    "            axis=1)\n",
    "    else:\n",
    "        events[defs['EVENTID']] = events.reset_index().apply(\n",
    "            lambda r: defs['EVENTID'] + defs['DELIM'] + str(r['index']), \n",
    "            axis=1)\n",
    "    events[defs['NODETYPE']] = 'event'\n",
    "    entities = format_entities(events, entity_types, defs, drop_na)\n",
    "    event_entities = format_hypernodes(events, defs, drop_na)\n",
    "    edges = format_hyperedges(events, entity_types, defs, drop_na, drop_edge_attrs)\n",
    "    print('# links', len(edges))\n",
    "    print('# event entities', len(events))\n",
    "    print('# attrib entities', len(entities))\n",
    "    return hyperbinding(defs, entities, event_entities, edges)\n"
   ]
  },
  {
   "cell_type": "code",
   "execution_count": 19,
   "metadata": {
    "collapsed": false
   },
   "outputs": [],
   "source": [
    "DEFS_SIMPLE = {\n",
    "    'SRC': 'from',\n",
    "    'DST': 'to',\n",
    "    'TITLE': 'nodeTitle',    \n",
    "    'DELIM': '::',\n",
    "    'NODETYPE': 'nodeType',\n",
    "    'NODEID': 'nodeID',\n",
    "    'SKIP': ['_time', 'priority', 'severity', 'finalDeviceVendor', 'categoryDeviceType']\n",
    "}\n",
    "\n",
    "def simpleGraph (events, entity_types=None, opts={}, drop_na=True):\n",
    "    defs = makeDefs(DEFS_SIMPLE, opts)\n",
    "    entity_types = screen_entities(events, entity_types, defs)\n",
    "    edges2 = []\n",
    "    ATTRIB_PAIRS = [(a,b) for a in entity_types for b in entity_types if a > b]\n",
    "    for (colA, colB) in ATTRIB_PAIRS:\n",
    "        edges3 = events.copy()\n",
    "        if drop_na:\n",
    "            edges3 = edges3.dropna(subset=[colA, colB])\n",
    "        if len(edges3):\n",
    "            edges3[defs['SRC']] = edges3.apply(lambda r: colA + defs['DELIM'] + str(r[colA]), axis=1)\n",
    "            edges3[defs['DST']] = edges3.apply(lambda r: colB + defs['DELIM'] + str(r[colB]), axis=1)\n",
    "            edges2.append(edges3)\n",
    "    edges = pd.concat(edges2)\n",
    "    nodes = format_entities(events, entity_types, defs, drop_na)\n",
    "    return graphistry.bind(source=defs['SRC'], destination=defs['DST']).edges(edges)\\\n",
    "        .bind(node=defs['NODEID'], point_title=defs['TITLE']).nodes(nodes)"
   ]
  },
  {
   "cell_type": "markdown",
   "metadata": {},
   "source": [
    "## Sample Hypergraph vs. Simple Graph views"
   ]
  },
  {
   "cell_type": "code",
   "execution_count": null,
   "metadata": {
    "collapsed": false
   },
   "outputs": [
    {
     "name": "stdout",
     "output_type": "stream",
     "text": [
      "printing\n",
      "('# links', 2163)\n",
      "('# event entities', 100)\n",
      "('# attrib entities', 1106)\n"
     ]
    },
    {
     "data": {
      "text/html": [
       "\n",
       "            <iframe id=\"d387f33d-1841-4d30-afb2-643ca0969e61\" src=\"https://labs.graphistry.com/graph/graph.html?dataset=PyGraphistry/Q5KS7ZX9PL&type=vgraph&viztoken=dcd66983ba8e5b1f27f49d3f920c8fba0a235d2b&usertag=e56e766e-pygraphistry-0.9.30&splashAfter=1474411875&info=true\"\n",
       "                    allowfullscreen=\"true\" webkitallowfullscreen=\"true\" mozallowfullscreen=\"true\"\n",
       "                    oallowfullscreen=\"true\" msallowfullscreen=\"true\"\n",
       "                    style=\"width:100%; height:500px; border: 1px solid #DDD\">\n",
       "            </iframe>\n",
       "        \n",
       "            <script>\n",
       "                $(\"#d387f33d-1841-4d30-afb2-643ca0969e61\").bind('mousewheel', function(e) {\n",
       "                e.preventDefault();\n",
       "                });\n",
       "            </script>\n",
       "        "
      ],
      "text/plain": [
       "<IPython.core.display.HTML object>"
      ]
     },
     "execution_count": 20,
     "metadata": {},
     "output_type": "execute_result"
    }
   ],
   "source": [
    "hypergraph(barncatToGraph(df3[:100].copy()), opts={'SKIP': ['uuid', 'event_id', 'InstallFlag', 'type', 'val', 'Date', 'date', 'Port', 'FTPPort', 'Origin', 'category', 'comment', 'to_ids']}).plot()"
   ]
  },
  {
   "cell_type": "code",
   "execution_count": 23,
   "metadata": {
    "collapsed": false
   },
   "outputs": [
    {
     "name": "stdout",
     "output_type": "stream",
     "text": [
      "Uploading 5931 kB. This may take a while...\n"
     ]
    },
    {
     "data": {
      "text/html": [
       "\n",
       "            <iframe id=\"7bb9754c-60ca-4d7f-9f82-47ed4fcf46d8\" src=\"https://labs.graphistry.com/graph/graph.html?dataset=PyGraphistry/EPXX6DR2OV&type=vgraph&viztoken=0a8976380042111ed274a4595f41797d30ea3982&usertag=e56e766e-pygraphistry-0.9.30&splashAfter=1474412086&info=true\"\n",
       "                    allowfullscreen=\"true\" webkitallowfullscreen=\"true\" mozallowfullscreen=\"true\"\n",
       "                    oallowfullscreen=\"true\" msallowfullscreen=\"true\"\n",
       "                    style=\"width:100%; height:500px; border: 1px solid #DDD\">\n",
       "            </iframe>\n",
       "        \n",
       "            <script>\n",
       "                $(\"#7bb9754c-60ca-4d7f-9f82-47ed4fcf46d8\").bind('mousewheel', function(e) {\n",
       "                e.preventDefault();\n",
       "                });\n",
       "            </script>\n",
       "        "
      ],
      "text/plain": [
       "<IPython.core.display.HTML object>"
      ]
     },
     "execution_count": 23,
     "metadata": {},
     "output_type": "execute_result"
    }
   ],
   "source": [
    "simpleGraph(barncatToGraph(df3[:100].copy()), opts={'SKIP': ['uuid', 'event_id', 'InstallFlag', 'type', 'val', 'Date', 'date', 'Port', 'FTPPort', 'Origin', 'category', 'comment', 'to_ids']}).plot()"
   ]
  },
  {
   "cell_type": "code",
   "execution_count": 24,
   "metadata": {
    "collapsed": false
   },
   "outputs": [
    {
     "name": "stdout",
     "output_type": "stream",
     "text": [
      "printing\n",
      "('# links', 2230)\n",
      "('# event entities', 102)\n",
      "('# attrib entities', 1129)\n"
     ]
    },
    {
     "data": {
      "text/html": [
       "\n",
       "            <iframe id=\"dd2fe5c3-8a01-4f34-881b-3491cc6cb8ba\" src=\"https://labs.graphistry.com/graph/graph.html?dataset=PyGraphistry/8R3P8ATRTC&type=vgraph&viztoken=f7ebac10ea967beed0a4702318db79301188693d&usertag=e56e766e-pygraphistry-0.9.30&splashAfter=1474412103&info=true\"\n",
       "                    allowfullscreen=\"true\" webkitallowfullscreen=\"true\" mozallowfullscreen=\"true\"\n",
       "                    oallowfullscreen=\"true\" msallowfullscreen=\"true\"\n",
       "                    style=\"width:100%; height:500px; border: 1px solid #DDD\">\n",
       "            </iframe>\n",
       "        \n",
       "            <script>\n",
       "                $(\"#dd2fe5c3-8a01-4f34-881b-3491cc6cb8ba\").bind('mousewheel', function(e) {\n",
       "                e.preventDefault();\n",
       "                });\n",
       "            </script>\n",
       "        "
      ],
      "text/plain": [
       "<IPython.core.display.HTML object>"
      ]
     },
     "execution_count": 24,
     "metadata": {},
     "output_type": "execute_result"
    }
   ],
   "source": [
    "hypergraph(barncatToGraph(df3[:1000].copy()), opts={'SKIP': ['uuid', 'event_id', 'InstallFlag', 'type', 'val', 'Date', 'date', 'Port', 'FTPPort', 'Origin', 'category', 'comment', 'to_ids']}).plot()"
   ]
  },
  {
   "cell_type": "code",
   "execution_count": null,
   "metadata": {
    "collapsed": true
   },
   "outputs": [],
   "source": []
  }
 ],
 "metadata": {
  "kernelspec": {
   "display_name": "Python 2",
   "language": "python",
   "name": "python2"
  },
  "language_info": {
   "codemirror_mode": {
    "name": "ipython",
    "version": 2
   },
   "file_extension": ".py",
   "mimetype": "text/x-python",
   "name": "python",
   "nbconvert_exporter": "python",
   "pygments_lexer": "ipython2",
   "version": "2.7.9"
  }
 },
 "nbformat": 4,
 "nbformat_minor": 0
}
