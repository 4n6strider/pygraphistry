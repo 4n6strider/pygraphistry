{
 "cells": [
  {
   "cell_type": "markdown",
   "metadata": {
    "colab_type": "text",
    "id": "EsdZjQOtRLpj"
   },
   "source": [
    "# Install"
   ]
  },
  {
   "cell_type": "code",
   "execution_count": 1,
   "metadata": {
    "colab": {
     "base_uri": "https://localhost:8080/",
     "height": 85
    },
    "colab_type": "code",
    "id": "w7iS4ufh2NEF",
    "outputId": "1b7f0afa-9e47-4a5b-e500-1f4ee5d89d0c"
   },
   "outputs": [
    {
     "data": {
      "text/plain": [
       "'0+unknown'"
      ]
     },
     "execution_count": 1,
     "metadata": {},
     "output_type": "execute_result"
    }
   ],
   "source": [
    "%load_ext autoreload\n",
    "  \n",
    "import graphistry\n",
    "\n",
    "graphistry.register(\n",
    "    protocol='http',\n",
    "    server='nginx'\n",
    ")\n",
    "\n",
    "graphistry.__version__"
   ]
  },
  {
   "cell_type": "markdown",
   "metadata": {
    "colab_type": "text",
    "id": "bTpEA7t5ROJw"
   },
   "source": [
    "# Data"
   ]
  },
  {
   "cell_type": "code",
   "execution_count": 2,
   "metadata": {
    "colab": {},
    "colab_type": "code",
    "id": "Z128GRx7RKB7"
   },
   "outputs": [],
   "source": [
    "import pandas as pd\n",
    "\n",
    "edges = pd.DataFrame({\n",
    "    's': [0, 1, 2, 3, 4, 5, 6, 7, 8, 9] * 1000,\n",
    "    'd': [1, 2, 3, 4, 5] * 2000\n",
    "})\n",
    "\n",
    "nodes = pd.DataFrame({\n",
    "    'n': [0, 1, 2, 3, 4, 5, 6, 7, 8, 9]\n",
    "})"
   ]
  },
  {
   "cell_type": "markdown",
   "metadata": {
    "colab_type": "text",
    "id": "mCk85uSpRSqi"
   },
   "source": [
    "# Integrations"
   ]
  },
  {
   "cell_type": "markdown",
   "metadata": {
    "colab_type": "text",
    "id": "JcxxtxYVWyCx"
   },
   "source": [
    "### networkx"
   ]
  },
  {
   "cell_type": "code",
   "execution_count": 3,
   "metadata": {
    "colab": {
     "base_uri": "https://localhost:8080/",
     "height": 51
    },
    "colab_type": "code",
    "id": "0_IrST8WRc01",
    "outputId": "410e9354-ff1d-41f2-bc4e-b882e4f1edd6"
   },
   "outputs": [
    {
     "name": "stdout",
     "output_type": "stream",
     "text": [
      "Requirement already satisfied: networkx in /opt/conda/lib/python3.7/site-packages (2.2)\n",
      "Requirement already satisfied: decorator>=4.3.0 in /opt/conda/lib/python3.7/site-packages (from networkx) (4.3.0)\n"
     ]
    }
   ],
   "source": [
    "!pip install networkx"
   ]
  },
  {
   "cell_type": "code",
   "execution_count": 4,
   "metadata": {
    "colab": {
     "base_uri": "https://localhost:8080/",
     "height": 643
    },
    "colab_type": "code",
    "id": "mo9k7rX71R_E",
    "outputId": "f9b92805-9dda-435d-b343-9c142ea45b82"
   },
   "outputs": [
    {
     "data": {
      "text/html": [
       "\n",
       "            <iframe id=\"1ddd5526-04dc-4edb-bcff-c34e93624e3f\" src=\"http://nginx/graph/graph.html?dataset=c1e2bc26c4135adc88fc741cc3ff141e&splashAfter=1550032378&\"\n",
       "                    allowfullscreen=\"true\" webkitallowfullscreen=\"true\" mozallowfullscreen=\"true\"\n",
       "                    oallowfullscreen=\"true\" msallowfullscreen=\"true\"\n",
       "                    style=\"width:100%; height:600px; border: 1px solid #DDD\">\n",
       "            </iframe>\n",
       "        \n",
       "            <script>\n",
       "                $(\"#1ddd5526-04dc-4edb-bcff-c34e93624e3f\").bind('mousewheel', function(e) {\n",
       "                e.preventDefault();\n",
       "                });\n",
       "            </script>\n",
       "        "
      ],
      "text/plain": [
       "<IPython.core.display.HTML object>"
      ]
     },
     "execution_count": 4,
     "metadata": {},
     "output_type": "execute_result"
    }
   ],
   "source": [
    "import networkx\n",
    "\n",
    "graphistry.register()\n",
    "\n",
    "graphistry \\\n",
    "  .data(graph=networkx.random_lobster(100, 0.5, 0.5)) \\\n",
    "  .plot()"
   ]
  },
  {
   "cell_type": "markdown",
   "metadata": {
    "colab_type": "text",
    "id": "deYMJIPUW1J7"
   },
   "source": [
    "### igraph"
   ]
  },
  {
   "cell_type": "code",
   "execution_count": 34,
   "metadata": {
    "colab": {
     "base_uri": "https://localhost:8080/",
     "height": 170
    },
    "colab_type": "code",
    "id": "QVVfP6aOYOvu",
    "outputId": "9deca434-90f3-4a12-b684-fff12508ff03"
   },
   "outputs": [
    {
     "name": "stdout",
     "output_type": "stream",
     "text": [
      "Collecting python-igraph\n",
      "  Using cached https://files.pythonhosted.org/packages/0f/a0/4e7134f803737aa6eebb4e5250565ace0e2599659e22be7f7eba520ff017/python-igraph-0.7.1.post6.tar.gz\n",
      "Building wheels for collected packages: python-igraph\n",
      "  Running setup.py bdist_wheel for python-igraph ... \u001b[?25lerror\n",
      "  Complete output from command /opt/conda/bin/python -u -c \"import setuptools, tokenize;__file__='/tmp/pip-install-rgqgthdl/python-igraph/setup.py';f=getattr(tokenize, 'open', open)(__file__);code=f.read().replace('\\r\\n', '\\n');f.close();exec(compile(code, __file__, 'exec'))\" bdist_wheel -d /tmp/pip-wheel-7wu06qva --python-tag cp37:\n",
      "  running bdist_wheel\n",
      "  running build\n",
      "  running build_py\n",
      "  creating build\n",
      "  creating build/lib.linux-x86_64-3.7\n",
      "  creating build/lib.linux-x86_64-3.7/igraph\n",
      "  copying igraph/summary.py -> build/lib.linux-x86_64-3.7/igraph\n",
      "  copying igraph/layout.py -> build/lib.linux-x86_64-3.7/igraph\n",
      "  copying igraph/compat.py -> build/lib.linux-x86_64-3.7/igraph\n",
      "  copying igraph/cut.py -> build/lib.linux-x86_64-3.7/igraph\n",
      "  copying igraph/utils.py -> build/lib.linux-x86_64-3.7/igraph\n",
      "  copying igraph/configuration.py -> build/lib.linux-x86_64-3.7/igraph\n",
      "  copying igraph/matching.py -> build/lib.linux-x86_64-3.7/igraph\n",
      "  copying igraph/clustering.py -> build/lib.linux-x86_64-3.7/igraph\n",
      "  copying igraph/__init__.py -> build/lib.linux-x86_64-3.7/igraph\n",
      "  copying igraph/statistics.py -> build/lib.linux-x86_64-3.7/igraph\n",
      "  copying igraph/formula.py -> build/lib.linux-x86_64-3.7/igraph\n",
      "  copying igraph/datatypes.py -> build/lib.linux-x86_64-3.7/igraph\n",
      "  creating build/lib.linux-x86_64-3.7/igraph/test\n",
      "  copying igraph/test/basic.py -> build/lib.linux-x86_64-3.7/igraph/test\n",
      "  copying igraph/test/decomposition.py -> build/lib.linux-x86_64-3.7/igraph/test\n",
      "  copying igraph/test/generators.py -> build/lib.linux-x86_64-3.7/igraph/test\n",
      "  copying igraph/test/cliques.py -> build/lib.linux-x86_64-3.7/igraph/test\n",
      "  copying igraph/test/isomorphism.py -> build/lib.linux-x86_64-3.7/igraph/test\n",
      "  copying igraph/test/operators.py -> build/lib.linux-x86_64-3.7/igraph/test\n",
      "  copying igraph/test/homepage.py -> build/lib.linux-x86_64-3.7/igraph/test\n",
      "  copying igraph/test/colortests.py -> build/lib.linux-x86_64-3.7/igraph/test\n",
      "  copying igraph/test/rng.py -> build/lib.linux-x86_64-3.7/igraph/test\n",
      "  copying igraph/test/games.py -> build/lib.linux-x86_64-3.7/igraph/test\n",
      "  copying igraph/test/bipartite.py -> build/lib.linux-x86_64-3.7/igraph/test\n",
      "  copying igraph/test/structural.py -> build/lib.linux-x86_64-3.7/igraph/test\n",
      "  copying igraph/test/layouts.py -> build/lib.linux-x86_64-3.7/igraph/test\n",
      "  copying igraph/test/foreign.py -> build/lib.linux-x86_64-3.7/igraph/test\n",
      "  copying igraph/test/utils.py -> build/lib.linux-x86_64-3.7/igraph/test\n",
      "  copying igraph/test/attributes.py -> build/lib.linux-x86_64-3.7/igraph/test\n",
      "  copying igraph/test/spectral.py -> build/lib.linux-x86_64-3.7/igraph/test\n",
      "  copying igraph/test/flow.py -> build/lib.linux-x86_64-3.7/igraph/test\n",
      "  copying igraph/test/iterators.py -> build/lib.linux-x86_64-3.7/igraph/test\n",
      "  copying igraph/test/edgeseq.py -> build/lib.linux-x86_64-3.7/igraph/test\n",
      "  copying igraph/test/matching.py -> build/lib.linux-x86_64-3.7/igraph/test\n",
      "  copying igraph/test/conversion.py -> build/lib.linux-x86_64-3.7/igraph/test\n",
      "  copying igraph/test/__init__.py -> build/lib.linux-x86_64-3.7/igraph/test\n",
      "  copying igraph/test/indexing.py -> build/lib.linux-x86_64-3.7/igraph/test\n",
      "  copying igraph/test/vertexseq.py -> build/lib.linux-x86_64-3.7/igraph/test\n",
      "  copying igraph/test/atlas.py -> build/lib.linux-x86_64-3.7/igraph/test\n",
      "  copying igraph/test/separators.py -> build/lib.linux-x86_64-3.7/igraph/test\n",
      "  creating build/lib.linux-x86_64-3.7/igraph/app\n",
      "  copying igraph/app/shell.py -> build/lib.linux-x86_64-3.7/igraph/app\n",
      "  copying igraph/app/__init__.py -> build/lib.linux-x86_64-3.7/igraph/app\n",
      "  creating build/lib.linux-x86_64-3.7/igraph/drawing\n",
      "  copying igraph/drawing/colors.py -> build/lib.linux-x86_64-3.7/igraph/drawing\n",
      "  copying igraph/drawing/utils.py -> build/lib.linux-x86_64-3.7/igraph/drawing\n",
      "  copying igraph/drawing/edge.py -> build/lib.linux-x86_64-3.7/igraph/drawing\n",
      "  copying igraph/drawing/shapes.py -> build/lib.linux-x86_64-3.7/igraph/drawing\n",
      "  copying igraph/drawing/graph.py -> build/lib.linux-x86_64-3.7/igraph/drawing\n",
      "  copying igraph/drawing/baseclasses.py -> build/lib.linux-x86_64-3.7/igraph/drawing\n",
      "  copying igraph/drawing/__init__.py -> build/lib.linux-x86_64-3.7/igraph/drawing\n",
      "  copying igraph/drawing/coord.py -> build/lib.linux-x86_64-3.7/igraph/drawing\n",
      "  copying igraph/drawing/text.py -> build/lib.linux-x86_64-3.7/igraph/drawing\n",
      "  copying igraph/drawing/metamagic.py -> build/lib.linux-x86_64-3.7/igraph/drawing\n",
      "  copying igraph/drawing/vertex.py -> build/lib.linux-x86_64-3.7/igraph/drawing\n",
      "  creating build/lib.linux-x86_64-3.7/igraph/remote\n",
      "  copying igraph/remote/nexus.py -> build/lib.linux-x86_64-3.7/igraph/remote\n",
      "  copying igraph/remote/__init__.py -> build/lib.linux-x86_64-3.7/igraph/remote\n",
      "  copying igraph/remote/gephi.py -> build/lib.linux-x86_64-3.7/igraph/remote\n",
      "  creating build/lib.linux-x86_64-3.7/igraph/vendor\n",
      "  copying igraph/vendor/__init__.py -> build/lib.linux-x86_64-3.7/igraph/vendor\n",
      "  copying igraph/vendor/texttable.py -> build/lib.linux-x86_64-3.7/igraph/vendor\n",
      "  Fixing build/lib.linux-x86_64-3.7/igraph/summary.py build/lib.linux-x86_64-3.7/igraph/layout.py build/lib.linux-x86_64-3.7/igraph/compat.py build/lib.linux-x86_64-3.7/igraph/cut.py build/lib.linux-x86_64-3.7/igraph/utils.py build/lib.linux-x86_64-3.7/igraph/configuration.py build/lib.linux-x86_64-3.7/igraph/matching.py build/lib.linux-x86_64-3.7/igraph/clustering.py build/lib.linux-x86_64-3.7/igraph/__init__.py build/lib.linux-x86_64-3.7/igraph/statistics.py build/lib.linux-x86_64-3.7/igraph/formula.py build/lib.linux-x86_64-3.7/igraph/datatypes.py build/lib.linux-x86_64-3.7/igraph/test/basic.py build/lib.linux-x86_64-3.7/igraph/test/decomposition.py build/lib.linux-x86_64-3.7/igraph/test/generators.py build/lib.linux-x86_64-3.7/igraph/test/cliques.py build/lib.linux-x86_64-3.7/igraph/test/isomorphism.py build/lib.linux-x86_64-3.7/igraph/test/operators.py build/lib.linux-x86_64-3.7/igraph/test/homepage.py build/lib.linux-x86_64-3.7/igraph/test/colortests.py build/lib.linux-x86_64-3.7/igraph/test/rng.py build/lib.linux-x86_64-3.7/igraph/test/games.py build/lib.linux-x86_64-3.7/igraph/test/bipartite.py build/lib.linux-x86_64-3.7/igraph/test/structural.py build/lib.linux-x86_64-3.7/igraph/test/layouts.py build/lib.linux-x86_64-3.7/igraph/test/foreign.py build/lib.linux-x86_64-3.7/igraph/test/utils.py build/lib.linux-x86_64-3.7/igraph/test/attributes.py build/lib.linux-x86_64-3.7/igraph/test/spectral.py build/lib.linux-x86_64-3.7/igraph/test/flow.py build/lib.linux-x86_64-3.7/igraph/test/iterators.py build/lib.linux-x86_64-3.7/igraph/test/edgeseq.py build/lib.linux-x86_64-3.7/igraph/test/matching.py build/lib.linux-x86_64-3.7/igraph/test/conversion.py build/lib.linux-x86_64-3.7/igraph/test/__init__.py build/lib.linux-x86_64-3.7/igraph/test/indexing.py build/lib.linux-x86_64-3.7/igraph/test/vertexseq.py build/lib.linux-x86_64-3.7/igraph/test/atlas.py build/lib.linux-x86_64-3.7/igraph/test/separators.py build/lib.linux-x86_64-3.7/igraph/app/shell.py build/lib.linux-x86_64-3.7/igraph/app/__init__.py build/lib.linux-x86_64-3.7/igraph/drawing/colors.py build/lib.linux-x86_64-3.7/igraph/drawing/utils.py build/lib.linux-x86_64-3.7/igraph/drawing/edge.py build/lib.linux-x86_64-3.7/igraph/drawing/shapes.py build/lib.linux-x86_64-3.7/igraph/drawing/graph.py build/lib.linux-x86_64-3.7/igraph/drawing/baseclasses.py build/lib.linux-x86_64-3.7/igraph/drawing/__init__.py build/lib.linux-x86_64-3.7/igraph/drawing/coord.py build/lib.linux-x86_64-3.7/igraph/drawing/text.py build/lib.linux-x86_64-3.7/igraph/drawing/metamagic.py build/lib.linux-x86_64-3.7/igraph/drawing/vertex.py build/lib.linux-x86_64-3.7/igraph/remote/nexus.py build/lib.linux-x86_64-3.7/igraph/remote/__init__.py build/lib.linux-x86_64-3.7/igraph/remote/gephi.py build/lib.linux-x86_64-3.7/igraph/vendor/__init__.py build/lib.linux-x86_64-3.7/igraph/vendor/texttable.py\n",
      "  Skipping optional fixer: buffer\n",
      "  Skipping optional fixer: idioms\n",
      "  Skipping optional fixer: set_literal\n",
      "  Skipping optional fixer: ws_comma\n",
      "  Fixing build/lib.linux-x86_64-3.7/igraph/summary.py build/lib.linux-x86_64-3.7/igraph/layout.py build/lib.linux-x86_64-3.7/igraph/compat.py build/lib.linux-x86_64-3.7/igraph/cut.py build/lib.linux-x86_64-3.7/igraph/utils.py build/lib.linux-x86_64-3.7/igraph/configuration.py build/lib.linux-x86_64-3.7/igraph/matching.py build/lib.linux-x86_64-3.7/igraph/clustering.py build/lib.linux-x86_64-3.7/igraph/__init__.py build/lib.linux-x86_64-3.7/igraph/statistics.py build/lib.linux-x86_64-3.7/igraph/formula.py build/lib.linux-x86_64-3.7/igraph/datatypes.py build/lib.linux-x86_64-3.7/igraph/test/basic.py build/lib.linux-x86_64-3.7/igraph/test/decomposition.py build/lib.linux-x86_64-3.7/igraph/test/generators.py build/lib.linux-x86_64-3.7/igraph/test/cliques.py build/lib.linux-x86_64-3.7/igraph/test/isomorphism.py build/lib.linux-x86_64-3.7/igraph/test/operators.py build/lib.linux-x86_64-3.7/igraph/test/homepage.py build/lib.linux-x86_64-3.7/igraph/test/colortests.py build/lib.linux-x86_64-3.7/igraph/test/rng.py build/lib.linux-x86_64-3.7/igraph/test/games.py build/lib.linux-x86_64-3.7/igraph/test/bipartite.py build/lib.linux-x86_64-3.7/igraph/test/structural.py build/lib.linux-x86_64-3.7/igraph/test/layouts.py build/lib.linux-x86_64-3.7/igraph/test/foreign.py build/lib.linux-x86_64-3.7/igraph/test/utils.py build/lib.linux-x86_64-3.7/igraph/test/attributes.py build/lib.linux-x86_64-3.7/igraph/test/spectral.py build/lib.linux-x86_64-3.7/igraph/test/flow.py build/lib.linux-x86_64-3.7/igraph/test/iterators.py build/lib.linux-x86_64-3.7/igraph/test/edgeseq.py build/lib.linux-x86_64-3.7/igraph/test/matching.py build/lib.linux-x86_64-3.7/igraph/test/conversion.py build/lib.linux-x86_64-3.7/igraph/test/__init__.py build/lib.linux-x86_64-3.7/igraph/test/indexing.py build/lib.linux-x86_64-3.7/igraph/test/vertexseq.py build/lib.linux-x86_64-3.7/igraph/test/atlas.py build/lib.linux-x86_64-3.7/igraph/test/separators.py build/lib.linux-x86_64-3.7/igraph/app/shell.py build/lib.linux-x86_64-3.7/igraph/app/__init__.py build/lib.linux-x86_64-3.7/igraph/drawing/colors.py build/lib.linux-x86_64-3.7/igraph/drawing/utils.py build/lib.linux-x86_64-3.7/igraph/drawing/edge.py build/lib.linux-x86_64-3.7/igraph/drawing/shapes.py build/lib.linux-x86_64-3.7/igraph/drawing/graph.py build/lib.linux-x86_64-3.7/igraph/drawing/baseclasses.py build/lib.linux-x86_64-3.7/igraph/drawing/__init__.py build/lib.linux-x86_64-3.7/igraph/drawing/coord.py build/lib.linux-x86_64-3.7/igraph/drawing/text.py build/lib.linux-x86_64-3.7/igraph/drawing/metamagic.py build/lib.linux-x86_64-3.7/igraph/drawing/vertex.py build/lib.linux-x86_64-3.7/igraph/remote/nexus.py build/lib.linux-x86_64-3.7/igraph/remote/__init__.py build/lib.linux-x86_64-3.7/igraph/remote/gephi.py build/lib.linux-x86_64-3.7/igraph/vendor/__init__.py build/lib.linux-x86_64-3.7/igraph/vendor/texttable.py\n",
      "  Skipping optional fixer: buffer\n",
      "  Skipping optional fixer: idioms\n",
      "  Skipping optional fixer: set_literal\n",
      "  Skipping optional fixer: ws_comma\n",
      "  running build_ext\n",
      "  Cannot find the C core of igraph on this system using pkg-config.\n",
      "  We will now try to download and compile the C core from scratch.\n",
      "  Version number of the C core: 0.7.1.post6\n",
      "  We will also try: 0.7.1\n",
      "  \n",
      "  Using temporary directory: /tmp/pip-install-rgqgthdl/python-igraph/tmp/igraph.69wkhtgk\n",
      "  Downloading igraph-0.7.1.tar.gz... 100.00%\n",
      "  Extracting igraph-0.7.1.tar.gz...\n",
      "  Configuring igraph...\n",
      "  checking for a BSD-compatible install... /usr/bin/install -c\n",
      "  checking whether build environment is sane... yes\n",
      "  checking for a thread-safe mkdir -p... /bin/mkdir -p\n",
      "  checking for gawk... no\n",
      "  checking for mawk... mawk\n",
      "  checking whether make sets $(MAKE)... no\n",
      "  checking whether make supports nested variables... no\n",
      "  checking for gcc... no\n",
      "  checking for cc... no\n",
      "  checking for cl.exe... no\n",
      "  configure: error: in `/tmp/pip-install-rgqgthdl/python-igraph/tmp/igraph.69wkhtgk/igraph-0.7.1':\n",
      "  configure: error: no acceptable C compiler found in $PATH\n",
      "  See `config.log' for more details\n",
      "  Could not download and compile the C core of igraph.\n",
      "  \n",
      "  \n",
      "  ----------------------------------------\n",
      "\u001b[31m  Failed building wheel for python-igraph\u001b[0m\n",
      "\u001b[?25h  Running setup.py clean for python-igraph\n"
     ]
    },
    {
     "name": "stdout",
     "output_type": "stream",
     "text": [
      "Failed to build python-igraph\n",
      "Installing collected packages: python-igraph\n",
      "  Running setup.py install for python-igraph ... \u001b[?25lerror\n",
      "    Complete output from command /opt/conda/bin/python -u -c \"import setuptools, tokenize;__file__='/tmp/pip-install-rgqgthdl/python-igraph/setup.py';f=getattr(tokenize, 'open', open)(__file__);code=f.read().replace('\\r\\n', '\\n');f.close();exec(compile(code, __file__, 'exec'))\" install --record /tmp/pip-record-835egx94/install-record.txt --single-version-externally-managed --compile:\n",
      "    running install\n",
      "    running build\n",
      "    running build_py\n",
      "    creating build\n",
      "    creating build/lib.linux-x86_64-3.7\n",
      "    creating build/lib.linux-x86_64-3.7/igraph\n",
      "    copying igraph/summary.py -> build/lib.linux-x86_64-3.7/igraph\n",
      "    copying igraph/layout.py -> build/lib.linux-x86_64-3.7/igraph\n",
      "    copying igraph/compat.py -> build/lib.linux-x86_64-3.7/igraph\n",
      "    copying igraph/cut.py -> build/lib.linux-x86_64-3.7/igraph\n",
      "    copying igraph/utils.py -> build/lib.linux-x86_64-3.7/igraph\n",
      "    copying igraph/configuration.py -> build/lib.linux-x86_64-3.7/igraph\n",
      "    copying igraph/matching.py -> build/lib.linux-x86_64-3.7/igraph\n",
      "    copying igraph/clustering.py -> build/lib.linux-x86_64-3.7/igraph\n",
      "    copying igraph/__init__.py -> build/lib.linux-x86_64-3.7/igraph\n",
      "    copying igraph/statistics.py -> build/lib.linux-x86_64-3.7/igraph\n",
      "    copying igraph/formula.py -> build/lib.linux-x86_64-3.7/igraph\n",
      "    copying igraph/datatypes.py -> build/lib.linux-x86_64-3.7/igraph\n",
      "    creating build/lib.linux-x86_64-3.7/igraph/test\n",
      "    copying igraph/test/basic.py -> build/lib.linux-x86_64-3.7/igraph/test\n",
      "    copying igraph/test/decomposition.py -> build/lib.linux-x86_64-3.7/igraph/test\n",
      "    copying igraph/test/generators.py -> build/lib.linux-x86_64-3.7/igraph/test\n",
      "    copying igraph/test/cliques.py -> build/lib.linux-x86_64-3.7/igraph/test\n",
      "    copying igraph/test/isomorphism.py -> build/lib.linux-x86_64-3.7/igraph/test\n",
      "    copying igraph/test/operators.py -> build/lib.linux-x86_64-3.7/igraph/test\n",
      "    copying igraph/test/homepage.py -> build/lib.linux-x86_64-3.7/igraph/test\n",
      "    copying igraph/test/colortests.py -> build/lib.linux-x86_64-3.7/igraph/test\n",
      "    copying igraph/test/rng.py -> build/lib.linux-x86_64-3.7/igraph/test\n",
      "    copying igraph/test/games.py -> build/lib.linux-x86_64-3.7/igraph/test\n",
      "    copying igraph/test/bipartite.py -> build/lib.linux-x86_64-3.7/igraph/test\n",
      "    copying igraph/test/structural.py -> build/lib.linux-x86_64-3.7/igraph/test\n",
      "    copying igraph/test/layouts.py -> build/lib.linux-x86_64-3.7/igraph/test\n",
      "    copying igraph/test/foreign.py -> build/lib.linux-x86_64-3.7/igraph/test\n",
      "    copying igraph/test/utils.py -> build/lib.linux-x86_64-3.7/igraph/test\n",
      "    copying igraph/test/attributes.py -> build/lib.linux-x86_64-3.7/igraph/test\n",
      "    copying igraph/test/spectral.py -> build/lib.linux-x86_64-3.7/igraph/test\n",
      "    copying igraph/test/flow.py -> build/lib.linux-x86_64-3.7/igraph/test\n",
      "    copying igraph/test/iterators.py -> build/lib.linux-x86_64-3.7/igraph/test\n",
      "    copying igraph/test/edgeseq.py -> build/lib.linux-x86_64-3.7/igraph/test\n",
      "    copying igraph/test/matching.py -> build/lib.linux-x86_64-3.7/igraph/test\n",
      "    copying igraph/test/conversion.py -> build/lib.linux-x86_64-3.7/igraph/test\n",
      "    copying igraph/test/__init__.py -> build/lib.linux-x86_64-3.7/igraph/test\n",
      "    copying igraph/test/indexing.py -> build/lib.linux-x86_64-3.7/igraph/test\n",
      "    copying igraph/test/vertexseq.py -> build/lib.linux-x86_64-3.7/igraph/test\n",
      "    copying igraph/test/atlas.py -> build/lib.linux-x86_64-3.7/igraph/test\n",
      "    copying igraph/test/separators.py -> build/lib.linux-x86_64-3.7/igraph/test\n",
      "    creating build/lib.linux-x86_64-3.7/igraph/app\n",
      "    copying igraph/app/shell.py -> build/lib.linux-x86_64-3.7/igraph/app\n",
      "    copying igraph/app/__init__.py -> build/lib.linux-x86_64-3.7/igraph/app\n",
      "    creating build/lib.linux-x86_64-3.7/igraph/drawing\n",
      "    copying igraph/drawing/colors.py -> build/lib.linux-x86_64-3.7/igraph/drawing\n",
      "    copying igraph/drawing/utils.py -> build/lib.linux-x86_64-3.7/igraph/drawing\n",
      "    copying igraph/drawing/edge.py -> build/lib.linux-x86_64-3.7/igraph/drawing\n",
      "    copying igraph/drawing/shapes.py -> build/lib.linux-x86_64-3.7/igraph/drawing\n",
      "    copying igraph/drawing/graph.py -> build/lib.linux-x86_64-3.7/igraph/drawing\n",
      "    copying igraph/drawing/baseclasses.py -> build/lib.linux-x86_64-3.7/igraph/drawing\n",
      "    copying igraph/drawing/__init__.py -> build/lib.linux-x86_64-3.7/igraph/drawing\n",
      "    copying igraph/drawing/coord.py -> build/lib.linux-x86_64-3.7/igraph/drawing\n",
      "    copying igraph/drawing/text.py -> build/lib.linux-x86_64-3.7/igraph/drawing\n",
      "    copying igraph/drawing/metamagic.py -> build/lib.linux-x86_64-3.7/igraph/drawing\n",
      "    copying igraph/drawing/vertex.py -> build/lib.linux-x86_64-3.7/igraph/drawing\n",
      "    creating build/lib.linux-x86_64-3.7/igraph/remote\n",
      "    copying igraph/remote/nexus.py -> build/lib.linux-x86_64-3.7/igraph/remote\n",
      "    copying igraph/remote/__init__.py -> build/lib.linux-x86_64-3.7/igraph/remote\n",
      "    copying igraph/remote/gephi.py -> build/lib.linux-x86_64-3.7/igraph/remote\n",
      "    creating build/lib.linux-x86_64-3.7/igraph/vendor\n",
      "    copying igraph/vendor/__init__.py -> build/lib.linux-x86_64-3.7/igraph/vendor\n",
      "    copying igraph/vendor/texttable.py -> build/lib.linux-x86_64-3.7/igraph/vendor\n",
      "    Fixing build/lib.linux-x86_64-3.7/igraph/summary.py build/lib.linux-x86_64-3.7/igraph/layout.py build/lib.linux-x86_64-3.7/igraph/compat.py build/lib.linux-x86_64-3.7/igraph/cut.py build/lib.linux-x86_64-3.7/igraph/utils.py build/lib.linux-x86_64-3.7/igraph/configuration.py build/lib.linux-x86_64-3.7/igraph/matching.py build/lib.linux-x86_64-3.7/igraph/clustering.py build/lib.linux-x86_64-3.7/igraph/__init__.py build/lib.linux-x86_64-3.7/igraph/statistics.py build/lib.linux-x86_64-3.7/igraph/formula.py build/lib.linux-x86_64-3.7/igraph/datatypes.py build/lib.linux-x86_64-3.7/igraph/test/basic.py build/lib.linux-x86_64-3.7/igraph/test/decomposition.py build/lib.linux-x86_64-3.7/igraph/test/generators.py build/lib.linux-x86_64-3.7/igraph/test/cliques.py build/lib.linux-x86_64-3.7/igraph/test/isomorphism.py build/lib.linux-x86_64-3.7/igraph/test/operators.py build/lib.linux-x86_64-3.7/igraph/test/homepage.py build/lib.linux-x86_64-3.7/igraph/test/colortests.py build/lib.linux-x86_64-3.7/igraph/test/rng.py build/lib.linux-x86_64-3.7/igraph/test/games.py build/lib.linux-x86_64-3.7/igraph/test/bipartite.py build/lib.linux-x86_64-3.7/igraph/test/structural.py build/lib.linux-x86_64-3.7/igraph/test/layouts.py build/lib.linux-x86_64-3.7/igraph/test/foreign.py build/lib.linux-x86_64-3.7/igraph/test/utils.py build/lib.linux-x86_64-3.7/igraph/test/attributes.py build/lib.linux-x86_64-3.7/igraph/test/spectral.py build/lib.linux-x86_64-3.7/igraph/test/flow.py build/lib.linux-x86_64-3.7/igraph/test/iterators.py build/lib.linux-x86_64-3.7/igraph/test/edgeseq.py build/lib.linux-x86_64-3.7/igraph/test/matching.py build/lib.linux-x86_64-3.7/igraph/test/conversion.py build/lib.linux-x86_64-3.7/igraph/test/__init__.py build/lib.linux-x86_64-3.7/igraph/test/indexing.py build/lib.linux-x86_64-3.7/igraph/test/vertexseq.py build/lib.linux-x86_64-3.7/igraph/test/atlas.py build/lib.linux-x86_64-3.7/igraph/test/separators.py build/lib.linux-x86_64-3.7/igraph/app/shell.py build/lib.linux-x86_64-3.7/igraph/app/__init__.py build/lib.linux-x86_64-3.7/igraph/drawing/colors.py build/lib.linux-x86_64-3.7/igraph/drawing/utils.py build/lib.linux-x86_64-3.7/igraph/drawing/edge.py build/lib.linux-x86_64-3.7/igraph/drawing/shapes.py build/lib.linux-x86_64-3.7/igraph/drawing/graph.py build/lib.linux-x86_64-3.7/igraph/drawing/baseclasses.py build/lib.linux-x86_64-3.7/igraph/drawing/__init__.py build/lib.linux-x86_64-3.7/igraph/drawing/coord.py build/lib.linux-x86_64-3.7/igraph/drawing/text.py build/lib.linux-x86_64-3.7/igraph/drawing/metamagic.py build/lib.linux-x86_64-3.7/igraph/drawing/vertex.py build/lib.linux-x86_64-3.7/igraph/remote/nexus.py build/lib.linux-x86_64-3.7/igraph/remote/__init__.py build/lib.linux-x86_64-3.7/igraph/remote/gephi.py build/lib.linux-x86_64-3.7/igraph/vendor/__init__.py build/lib.linux-x86_64-3.7/igraph/vendor/texttable.py\n",
      "    Skipping optional fixer: buffer\n",
      "    Skipping optional fixer: idioms\n",
      "    Skipping optional fixer: set_literal\n",
      "    Skipping optional fixer: ws_comma\n",
      "    Fixing build/lib.linux-x86_64-3.7/igraph/summary.py build/lib.linux-x86_64-3.7/igraph/layout.py build/lib.linux-x86_64-3.7/igraph/compat.py build/lib.linux-x86_64-3.7/igraph/cut.py build/lib.linux-x86_64-3.7/igraph/utils.py build/lib.linux-x86_64-3.7/igraph/configuration.py build/lib.linux-x86_64-3.7/igraph/matching.py build/lib.linux-x86_64-3.7/igraph/clustering.py build/lib.linux-x86_64-3.7/igraph/__init__.py build/lib.linux-x86_64-3.7/igraph/statistics.py build/lib.linux-x86_64-3.7/igraph/formula.py build/lib.linux-x86_64-3.7/igraph/datatypes.py build/lib.linux-x86_64-3.7/igraph/test/basic.py build/lib.linux-x86_64-3.7/igraph/test/decomposition.py build/lib.linux-x86_64-3.7/igraph/test/generators.py build/lib.linux-x86_64-3.7/igraph/test/cliques.py build/lib.linux-x86_64-3.7/igraph/test/isomorphism.py build/lib.linux-x86_64-3.7/igraph/test/operators.py build/lib.linux-x86_64-3.7/igraph/test/homepage.py build/lib.linux-x86_64-3.7/igraph/test/colortests.py build/lib.linux-x86_64-3.7/igraph/test/rng.py build/lib.linux-x86_64-3.7/igraph/test/games.py build/lib.linux-x86_64-3.7/igraph/test/bipartite.py build/lib.linux-x86_64-3.7/igraph/test/structural.py build/lib.linux-x86_64-3.7/igraph/test/layouts.py build/lib.linux-x86_64-3.7/igraph/test/foreign.py build/lib.linux-x86_64-3.7/igraph/test/utils.py build/lib.linux-x86_64-3.7/igraph/test/attributes.py build/lib.linux-x86_64-3.7/igraph/test/spectral.py build/lib.linux-x86_64-3.7/igraph/test/flow.py build/lib.linux-x86_64-3.7/igraph/test/iterators.py build/lib.linux-x86_64-3.7/igraph/test/edgeseq.py build/lib.linux-x86_64-3.7/igraph/test/matching.py build/lib.linux-x86_64-3.7/igraph/test/conversion.py build/lib.linux-x86_64-3.7/igraph/test/__init__.py build/lib.linux-x86_64-3.7/igraph/test/indexing.py build/lib.linux-x86_64-3.7/igraph/test/vertexseq.py build/lib.linux-x86_64-3.7/igraph/test/atlas.py build/lib.linux-x86_64-3.7/igraph/test/separators.py build/lib.linux-x86_64-3.7/igraph/app/shell.py build/lib.linux-x86_64-3.7/igraph/app/__init__.py build/lib.linux-x86_64-3.7/igraph/drawing/colors.py build/lib.linux-x86_64-3.7/igraph/drawing/utils.py build/lib.linux-x86_64-3.7/igraph/drawing/edge.py build/lib.linux-x86_64-3.7/igraph/drawing/shapes.py build/lib.linux-x86_64-3.7/igraph/drawing/graph.py build/lib.linux-x86_64-3.7/igraph/drawing/baseclasses.py build/lib.linux-x86_64-3.7/igraph/drawing/__init__.py build/lib.linux-x86_64-3.7/igraph/drawing/coord.py build/lib.linux-x86_64-3.7/igraph/drawing/text.py build/lib.linux-x86_64-3.7/igraph/drawing/metamagic.py build/lib.linux-x86_64-3.7/igraph/drawing/vertex.py build/lib.linux-x86_64-3.7/igraph/remote/nexus.py build/lib.linux-x86_64-3.7/igraph/remote/__init__.py build/lib.linux-x86_64-3.7/igraph/remote/gephi.py build/lib.linux-x86_64-3.7/igraph/vendor/__init__.py build/lib.linux-x86_64-3.7/igraph/vendor/texttable.py\n",
      "    Skipping optional fixer: buffer\n",
      "    Skipping optional fixer: idioms\n",
      "    Skipping optional fixer: set_literal\n",
      "    Skipping optional fixer: ws_comma\n",
      "    running build_ext\n",
      "    Cannot find the C core of igraph on this system using pkg-config.\n",
      "    We will now try to download and compile the C core from scratch.\n",
      "    Version number of the C core: 0.7.1.post6\n",
      "    We will also try: 0.7.1\n",
      "    \n",
      "    Using temporary directory: /tmp/pip-install-rgqgthdl/python-igraph/tmp/igraph.qody7yml\n",
      "    Downloading igraph-0.7.1.tar.gz... 100.00%\n",
      "    Extracting igraph-0.7.1.tar.gz...\n",
      "    Configuring igraph...\n",
      "    checking for a BSD-compatible install... /usr/bin/install -c\n",
      "    checking whether build environment is sane... yes\n",
      "    checking for a thread-safe mkdir -p... /bin/mkdir -p\n",
      "    checking for gawk... no\n",
      "    checking for mawk... mawk\n",
      "    checking whether make sets $(MAKE)... no\n",
      "    checking whether make supports nested variables... no\n",
      "    checking for gcc... no\n",
      "    checking for cc... no\n",
      "    checking for cl.exe... no\n",
      "    configure: error: in `/tmp/pip-install-rgqgthdl/python-igraph/tmp/igraph.qody7yml/igraph-0.7.1':\n",
      "    configure: error: no acceptable C compiler found in $PATH\n",
      "    See `config.log' for more details\n",
      "    Could not download and compile the C core of igraph.\n",
      "    \n",
      "    \n",
      "    ----------------------------------------\n",
      "\u001b[31mCommand \"/opt/conda/bin/python -u -c \"import setuptools, tokenize;__file__='/tmp/pip-install-rgqgthdl/python-igraph/setup.py';f=getattr(tokenize, 'open', open)(__file__);code=f.read().replace('\\r\\n', '\\n');f.close();exec(compile(code, __file__, 'exec'))\" install --record /tmp/pip-record-835egx94/install-record.txt --single-version-externally-managed --compile\" failed with error code 1 in /tmp/pip-install-rgqgthdl/python-igraph/\u001b[0m\n"
     ]
    },
    {
     "name": "stdout",
     "output_type": "stream",
     "text": [
      "\u001b[?25h"
     ]
    }
   ],
   "source": [
    "! pip install python-igraph"
   ]
  },
  {
   "cell_type": "code",
   "execution_count": 37,
   "metadata": {
    "colab": {
     "base_uri": "https://localhost:8080/",
     "height": 68
    },
    "colab_type": "code",
    "id": "_kgtU1AlXIJ4",
    "outputId": "9605d265-dd54-471e-ac2a-f42e852320df"
   },
   "outputs": [
    {
     "name": "stdout",
     "output_type": "stream",
     "text": [
      "  % Total    % Received % Xferd  Average Speed   Time    Time     Time  Current\n",
      "                                 Dload  Upload   Total   Spent    Left  Speed\n",
      "100  834k  100  834k    0     0   156k      0  0:00:05  0:00:05 --:--:--  185k\n"
     ]
    }
   ],
   "source": [
    "! curl \"https://raw.githubusercontent.com/graphistry/pygraphistry/master/demos/data/facebook_combined.txt\" -o facebook_combined.txt"
   ]
  },
  {
   "cell_type": "code",
   "execution_count": 3,
   "metadata": {
    "colab": {},
    "colab_type": "code",
    "id": "m-Rlrf89Ww_a"
   },
   "outputs": [],
   "source": [
    "import igraph\n",
    "graph = igraph.read('./facebook_combined.txt', format='edgelist', directed=False)"
   ]
  },
  {
   "cell_type": "code",
   "execution_count": 4,
   "metadata": {
    "colab": {
     "base_uri": "https://localhost:8080/",
     "height": 163
    },
    "colab_type": "code",
    "id": "MQHoffnHb8vI",
    "outputId": "df9c693a-1e37-40c3-8256-dd883a0ae518"
   },
   "outputs": [
    {
     "data": {
      "text/html": [
       "\n",
       "            <iframe id=\"ee63e3b4-17d2-4d1d-bc8f-0ed9d43de113\" src=\"http://nginx/graph/graph.html?dataset=2882d69d51e55553b9bf696f4c94cc58&splashAfter=1550036084&\"\n",
       "                    allowfullscreen=\"true\" webkitallowfullscreen=\"true\" mozallowfullscreen=\"true\"\n",
       "                    oallowfullscreen=\"true\" msallowfullscreen=\"true\"\n",
       "                    style=\"width:100%; height:600px; border: 1px solid #DDD\">\n",
       "            </iframe>\n",
       "        \n",
       "            <script>\n",
       "                $(\"#ee63e3b4-17d2-4d1d-bc8f-0ed9d43de113\").bind('mousewheel', function(e) {\n",
       "                e.preventDefault();\n",
       "                });\n",
       "            </script>\n",
       "        "
      ],
      "text/plain": [
       "<IPython.core.display.HTML object>"
      ]
     },
     "execution_count": 4,
     "metadata": {},
     "output_type": "execute_result"
    }
   ],
   "source": [
    "graphistry \\\n",
    "    .bind(\n",
    "        source='src',\n",
    "        destination='dst'\n",
    "    ) \\\n",
    "    .plot(graph)"
   ]
  },
  {
   "cell_type": "markdown",
   "metadata": {
    "colab_type": "text",
    "id": "ncv7xwjqW3F1"
   },
   "source": [
    "### neo4j"
   ]
  },
  {
   "cell_type": "code",
   "execution_count": 40,
   "metadata": {
    "colab": {
     "base_uri": "https://localhost:8080/",
     "height": 340
    },
    "colab_type": "code",
    "id": "u-Kd3ua2cKWz",
    "outputId": "a81d67be-aa2c-4ed2-b671-b036322fe0c3"
   },
   "outputs": [
    {
     "name": "stdout",
     "output_type": "stream",
     "text": [
      "Requirement already satisfied: neo4j in /opt/conda/lib/python3.7/site-packages (1.7.1)\n",
      "Requirement already satisfied: neotime<2,>=1.7.1 in /opt/conda/lib/python3.7/site-packages (from neo4j) (1.7.4)\n",
      "Requirement already satisfied: neobolt<2,>=1.7.3 in /opt/conda/lib/python3.7/site-packages (from neo4j) (1.7.4)\n",
      "Requirement already satisfied: six in /opt/conda/lib/python3.7/site-packages (from neotime<2,>=1.7.1->neo4j) (1.11.0)\n",
      "Requirement already satisfied: pytz in /opt/conda/lib/python3.7/site-packages (from neotime<2,>=1.7.1->neo4j) (2018.9)\n"
     ]
    }
   ],
   "source": [
    "!pip install neo4j"
   ]
  },
  {
   "cell_type": "code",
   "execution_count": 41,
   "metadata": {
    "colab": {
     "base_uri": "https://localhost:8080/",
     "height": 643
    },
    "colab_type": "code",
    "id": "i-TcMPRLxZJk",
    "outputId": "cdf535eb-d608-4cd7-aa42-8d72dd8cd4f4"
   },
   "outputs": [
    {
     "data": {
      "text/html": [
       "\n",
       "            <iframe id=\"0df37cb4-5eed-4674-af47-9a943cb6593c\" src=\"http://nginx/graph/graph.html?dataset=abf50a81e1b75024b00aa953ba978f56&splashAfter=1550035692&\"\n",
       "                    allowfullscreen=\"true\" webkitallowfullscreen=\"true\" mozallowfullscreen=\"true\"\n",
       "                    oallowfullscreen=\"true\" msallowfullscreen=\"true\"\n",
       "                    style=\"width:100%; height:600px; border: 1px solid #DDD\">\n",
       "            </iframe>\n",
       "        \n",
       "            <script>\n",
       "                $(\"#0df37cb4-5eed-4674-af47-9a943cb6593c\").bind('mousewheel', function(e) {\n",
       "                e.preventDefault();\n",
       "                });\n",
       "            </script>\n",
       "        "
      ],
      "text/plain": [
       "<IPython.core.display.HTML object>"
      ]
     },
     "execution_count": 41,
     "metadata": {},
     "output_type": "execute_result"
    }
   ],
   "source": [
    "\n",
    "        for item in [(k, v) for k, v in self._defaults.items() if v is not None]:\n",
    "            yield itemgraphistry.register(bolt={\n",
    "    'uri': \"bolt://staging.graphistry.com:10000\", \n",
    "    'auth': (\"neo4j\", \"isgraphing414\")\n",
    "})\n",
    "\n",
    "graphistry.cypher(\"\"\"\n",
    "MATCH (a)-[r]-(b) RETURN a, r, b LIMIT 20\n",
    "\"\"\").plot()"
   ]
  },
  {
   "cell_type": "markdown",
   "metadata": {
    "colab_type": "text",
    "id": "AEKajXCvRWf5"
   },
   "source": [
    "# Core\n",
    "pandas/arrow"
   ]
  },
  {
   "cell_type": "code",
   "execution_count": 7,
   "metadata": {
    "colab": {
     "base_uri": "https://localhost:8080/",
     "height": 643
    },
    "colab_type": "code",
    "id": "Jcyuo3wI9jGt",
    "outputId": "f38fa491-4c3f-41d0-949f-c83041a01988"
   },
   "outputs": [
    {
     "data": {
      "text/html": [
       "\n",
       "            <iframe id=\"3d0ad4c4-1c9e-4ddd-9450-8e588fba9339\" src=\"http://nginx/graph/graph.html?dataset=d15f9c08e04c52209c91455c84aa6242&splashAfter=1550083153&\"\n",
       "                    allowfullscreen=\"true\" webkitallowfullscreen=\"true\" mozallowfullscreen=\"true\"\n",
       "                    oallowfullscreen=\"true\" msallowfullscreen=\"true\"\n",
       "                    style=\"width:100%; height:600px; border: 1px solid #DDD\">\n",
       "            </iframe>\n",
       "        \n",
       "            <script>\n",
       "                $(\"#3d0ad4c4-1c9e-4ddd-9450-8e588fba9339\").bind('mousewheel', function(e) {\n",
       "                e.preventDefault();\n",
       "                });\n",
       "            </script>\n",
       "        "
      ],
      "text/plain": [
       "<IPython.core.display.HTML object>"
      ]
     },
     "execution_count": 7,
     "metadata": {},
     "output_type": "execute_result"
    }
   ],
   "source": [
    "graphistry \\\n",
    "  .data(\n",
    "    edges=edges,\n",
    "    nodes=nodes\n",
    "  ) \\\n",
    "  .bind(\n",
    "      node='n',\n",
    "      source='s',\n",
    "      destination='d'\n",
    "  ) \\\n",
    "  .plot()"
   ]
  },
  {
   "cell_type": "code",
   "execution_count": 43,
   "metadata": {
    "colab": {
     "base_uri": "https://localhost:8080/",
     "height": 643
    },
    "colab_type": "code",
    "id": "F-f5wnP-_NIl",
    "outputId": "6a993c6c-37c0-40ab-bf04-d03af08e4fdc"
   },
   "outputs": [
    {
     "data": {
      "text/html": [
       "\n",
       "            <iframe id=\"79be8f7f-297a-4c37-9563-57a60e480570\" src=\"http://nginx/graph/graph.html?dataset=69dff9ddefa6501fbb5683ecac29a6ae&splashAfter=1550035695&\"\n",
       "                    allowfullscreen=\"true\" webkitallowfullscreen=\"true\" mozallowfullscreen=\"true\"\n",
       "                    oallowfullscreen=\"true\" msallowfullscreen=\"true\"\n",
       "                    style=\"width:100%; height:600px; border: 1px solid #DDD\">\n",
       "            </iframe>\n",
       "        \n",
       "            <script>\n",
       "                $(\"#79be8f7f-297a-4c37-9563-57a60e480570\").bind('mousewheel', function(e) {\n",
       "                e.preventDefault();\n",
       "                });\n",
       "            </script>\n",
       "        "
      ],
      "text/plain": [
       "<IPython.core.display.HTML object>"
      ]
     },
     "execution_count": 43,
     "metadata": {},
     "output_type": "execute_result"
    }
   ],
   "source": [
    "graphistry \\\n",
    "  .data(edges=edges) \\\n",
    "  .bind(\n",
    "      source='s',\n",
    "      destination='d'\n",
    "  ) \\\n",
    "  .plot()"
   ]
  },
  {
   "cell_type": "code",
   "execution_count": 44,
   "metadata": {
    "colab": {
     "base_uri": "https://localhost:8080/",
     "height": 643
    },
    "colab_type": "code",
    "id": "LC_PQisXGDYk",
    "outputId": "6dd1d644-11f3-4f9c-9894-97111a69575b"
   },
   "outputs": [
    {
     "data": {
      "text/html": [
       "\n",
       "            <iframe id=\"ec63590e-2bcb-4ff7-a382-3766da0ba108\" src=\"http://nginx/graph/graph.html?dataset=9f3a12c5ce6351adaab2c9f28cde52b9&splashAfter=1550035697&\"\n",
       "                    allowfullscreen=\"true\" webkitallowfullscreen=\"true\" mozallowfullscreen=\"true\"\n",
       "                    oallowfullscreen=\"true\" msallowfullscreen=\"true\"\n",
       "                    style=\"width:100%; height:600px; border: 1px solid #DDD\">\n",
       "            </iframe>\n",
       "        \n",
       "            <script>\n",
       "                $(\"#ec63590e-2bcb-4ff7-a382-3766da0ba108\").bind('mousewheel', function(e) {\n",
       "                e.preventDefault();\n",
       "                });\n",
       "            </script>\n",
       "        "
      ],
      "text/plain": [
       "<IPython.core.display.HTML object>"
      ]
     },
     "execution_count": 44,
     "metadata": {},
     "output_type": "execute_result"
    }
   ],
   "source": [
    "graphistry \\\n",
    "  .edges(edges) \\\n",
    "  .bind(source='s', destination='d') \\\n",
    "  .plot()"
   ]
  },
  {
   "cell_type": "code",
   "execution_count": 66,
   "metadata": {
    "colab": {
     "base_uri": "https://localhost:8080/",
     "height": 643
    },
    "colab_type": "code",
    "id": "mtuF7AbZGXiA",
    "outputId": "a7626dd9-3bc8-4345-b4ee-11036fd4bf3f"
   },
   "outputs": [
    {
     "data": {
      "text/html": [
       "\n",
       "            <iframe id=\"fed59332-461b-4b2a-b098-bbbbf8d09f07\" src=\"http://nginx/graph/graph.html?dataset=41c5e9a9aaee5c8ebcdf868ef1be99d0&splashAfter=1550035793&\"\n",
       "                    allowfullscreen=\"true\" webkitallowfullscreen=\"true\" mozallowfullscreen=\"true\"\n",
       "                    oallowfullscreen=\"true\" msallowfullscreen=\"true\"\n",
       "                    style=\"width:100%; height:600px; border: 1px solid #DDD\">\n",
       "            </iframe>\n",
       "        \n",
       "            <script>\n",
       "                $(\"#fed59332-461b-4b2a-b098-bbbbf8d09f07\").bind('mousewheel', function(e) {\n",
       "                e.preventDefault();\n",
       "                });\n",
       "            </script>\n",
       "        "
      ],
      "text/plain": [
       "<IPython.core.display.HTML object>"
      ]
     },
     "execution_count": 66,
     "metadata": {},
     "output_type": "execute_result"
    }
   ],
   "source": [
    "graphistry \\\n",
    "  .bind(source='s', destination='d') \\\n",
    "  .edges(edges) \\\n",
    "  .plot()"
   ]
  },
  {
   "cell_type": "code",
   "execution_count": 67,
   "metadata": {
    "colab": {
     "base_uri": "https://localhost:8080/",
     "height": 643
    },
    "colab_type": "code",
    "id": "DEhugGjDGjc4",
    "outputId": "4551065a-e3dc-4f4f-89f4-7118a945c162"
   },
   "outputs": [
    {
     "data": {
      "text/html": [
       "\n",
       "            <iframe id=\"3dc09164-8c48-4d2b-8414-5ef85863947a\" src=\"http://nginx/graph/graph.html?dataset=5951f5d4280959cbbd495d3769ac8cce&splashAfter=1550035795&\"\n",
       "                    allowfullscreen=\"true\" webkitallowfullscreen=\"true\" mozallowfullscreen=\"true\"\n",
       "                    oallowfullscreen=\"true\" msallowfullscreen=\"true\"\n",
       "                    style=\"width:100%; height:600px; border: 1px solid #DDD\">\n",
       "            </iframe>\n",
       "        \n",
       "            <script>\n",
       "                $(\"#3dc09164-8c48-4d2b-8414-5ef85863947a\").bind('mousewheel', function(e) {\n",
       "                e.preventDefault();\n",
       "                });\n",
       "            </script>\n",
       "        "
      ],
      "text/plain": [
       "<IPython.core.display.HTML object>"
      ]
     },
     "execution_count": 67,
     "metadata": {},
     "output_type": "execute_result"
    }
   ],
   "source": [
    "graphistry \\\n",
    "  .bind(source='s', destination='d') \\\n",
    "  .plot(edges)"
   ]
  },
  {
   "cell_type": "code",
   "execution_count": 68,
   "metadata": {
    "colab": {
     "base_uri": "https://localhost:8080/",
     "height": 643
    },
    "colab_type": "code",
    "id": "MPuNJ-F3GpZW",
    "outputId": "e5d77d7c-72e6-40f1-d83f-24f0660e7bac"
   },
   "outputs": [
    {
     "data": {
      "text/html": [
       "\n",
       "            <iframe id=\"c71203df-d0ef-40b0-8894-b0f873998e16\" src=\"http://nginx/graph/graph.html?dataset=b9e51c473a3f54368fc4dca8c9bc0a65&splashAfter=1550035798&\"\n",
       "                    allowfullscreen=\"true\" webkitallowfullscreen=\"true\" mozallowfullscreen=\"true\"\n",
       "                    oallowfullscreen=\"true\" msallowfullscreen=\"true\"\n",
       "                    style=\"width:100%; height:600px; border: 1px solid #DDD\">\n",
       "            </iframe>\n",
       "        \n",
       "            <script>\n",
       "                $(\"#c71203df-d0ef-40b0-8894-b0f873998e16\").bind('mousewheel', function(e) {\n",
       "                e.preventDefault();\n",
       "                });\n",
       "            </script>\n",
       "        "
      ],
      "text/plain": [
       "<IPython.core.display.HTML object>"
      ]
     },
     "execution_count": 68,
     "metadata": {},
     "output_type": "execute_result"
    }
   ],
   "source": [
    "graphistry \\\n",
    "  .bind(source='s', destination='d') \\\n",
    "  .edges(edges) \\\n",
    "  .plot()"
   ]
  },
  {
   "cell_type": "code",
   "execution_count": 7,
   "metadata": {
    "colab": {
     "base_uri": "https://localhost:8080/",
     "height": 643
    },
    "colab_type": "code",
    "id": "DKLTQK_CGy7p",
    "outputId": "7616ac3e-e3d4-4298-948c-7b8076f633cb"
   },
   "outputs": [
    {
     "data": {
      "text/html": [
       "\n",
       "            <iframe id=\"90247c01-6b49-4fbc-8c85-3720a9c59d86\" src=\"http://nginx/graph/graph.html?dataset=18dacea656f4569bbc4851e28c88126e&splashAfter=1550083331&\"\n",
       "                    allowfullscreen=\"true\" webkitallowfullscreen=\"true\" mozallowfullscreen=\"true\"\n",
       "                    oallowfullscreen=\"true\" msallowfullscreen=\"true\"\n",
       "                    style=\"width:100%; height:600px; border: 1px solid #DDD\">\n",
       "            </iframe>\n",
       "        \n",
       "            <script>\n",
       "                $(\"#90247c01-6b49-4fbc-8c85-3720a9c59d86\").bind('mousewheel', function(e) {\n",
       "                e.preventDefault();\n",
       "                });\n",
       "            </script>\n",
       "        "
      ],
      "text/plain": [
       "<IPython.core.display.HTML object>"
      ]
     },
     "execution_count": 7,
     "metadata": {},
     "output_type": "execute_result"
    }
   ],
   "source": [
    "import graphistry\n",
    "\n",
    "graphistry \\\n",
    "  .bind(\n",
    "    source='s', \\\n",
    "    destination='d'\n",
    "  ) \\\n",
    "  .edges(edges) \\\n",
    "  .nodes(nodes) \\\n",
    "  .bind(node='n') \\\n",
    ".plot()"
   ]
  },
  {
   "cell_type": "code",
   "execution_count": 70,
   "metadata": {
    "colab": {
     "base_uri": "https://localhost:8080/",
     "height": 694
    },
    "colab_type": "code",
    "id": "62YnMBNfHyms",
    "outputId": "939f81ac-618e-425e-a178-7d7e75967c98"
   },
   "outputs": [
    {
     "name": "stdout",
     "output_type": "stream",
     "text": [
      "# links 20000\n",
      "# events 10000\n",
      "# attrib entities 15\n"
     ]
    },
    {
     "data": {
      "text/html": [
       "\n",
       "            <iframe id=\"1b2797d5-6923-42cf-9b1f-f64a2b574826\" src=\"http://nginx/graph/graph.html?dataset=270f6fda1065510aad9211ea932fc142&splashAfter=1550035804&\"\n",
       "                    allowfullscreen=\"true\" webkitallowfullscreen=\"true\" mozallowfullscreen=\"true\"\n",
       "                    oallowfullscreen=\"true\" msallowfullscreen=\"true\"\n",
       "                    style=\"width:100%; height:600px; border: 1px solid #DDD\">\n",
       "            </iframe>\n",
       "        \n",
       "            <script>\n",
       "                $(\"#1b2797d5-6923-42cf-9b1f-f64a2b574826\").bind('mousewheel', function(e) {\n",
       "                e.preventDefault();\n",
       "                });\n",
       "            </script>\n",
       "        "
      ],
      "text/plain": [
       "<IPython.core.display.HTML object>"
      ]
     },
     "execution_count": 70,
     "metadata": {},
     "output_type": "execute_result"
    }
   ],
   "source": [
    "import graphistry\n",
    "\n",
    "graphistry \\\n",
    "  .hypergraph(edges) \\\n",
    "  ['graph'] \\\n",
    "  .plot()"
   ]
  },
  {
   "cell_type": "markdown",
   "metadata": {
    "colab_type": "text",
    "id": "EC8VCvq2TeDA"
   },
   "source": [
    "# Arrow"
   ]
  },
  {
   "cell_type": "code",
   "execution_count": 71,
   "metadata": {
    "colab": {
     "base_uri": "https://localhost:8080/",
     "height": 643
    },
    "colab_type": "code",
    "id": "C3k44mPDGwPQ",
    "outputId": "86e29062-6df6-409f-a5c4-a1c2fd8ab068"
   },
   "outputs": [
    {
     "data": {
      "text/html": [
       "\n",
       "            <iframe id=\"005e06fa-d380-4360-b26a-af0ba5843586\" src=\"http://nginx/graph/graph.html?dataset=9b8ec5faa28d56428d153085230d5bac&splashAfter=1550035806&\"\n",
       "                    allowfullscreen=\"true\" webkitallowfullscreen=\"true\" mozallowfullscreen=\"true\"\n",
       "                    oallowfullscreen=\"true\" msallowfullscreen=\"true\"\n",
       "                    style=\"width:100%; height:600px; border: 1px solid #DDD\">\n",
       "            </iframe>\n",
       "        \n",
       "            <script>\n",
       "                $(\"#005e06fa-d380-4360-b26a-af0ba5843586\").bind('mousewheel', function(e) {\n",
       "                e.preventDefault();\n",
       "                });\n",
       "            </script>\n",
       "        "
      ],
      "text/plain": [
       "<IPython.core.display.HTML object>"
      ]
     },
     "execution_count": 71,
     "metadata": {},
     "output_type": "execute_result"
    }
   ],
   "source": [
    "import pyarrow as pa\n",
    "\n",
    "graphistry \\\n",
    "  .bind(source='s', destination='d') \\\n",
    "  .edges(pa.Table.from_pandas(edges)) \\\n",
    "  .plot()"
   ]
  },
  {
   "cell_type": "code",
   "execution_count": 8,
   "metadata": {
    "colab": {
     "base_uri": "https://localhost:8080/",
     "height": 643
    },
    "colab_type": "code",
    "id": "4JzQWIj7SL0r",
    "outputId": "bf352fdb-934a-4d6c-b2cd-a4b9ac498b92"
   },
   "outputs": [
    {
     "data": {
      "text/html": [
       "\n",
       "            <iframe id=\"8c7aba1d-42b4-4ba5-ba61-a40634534747\" src=\"http://nginx/graph/graph.html?dataset=1768aa1d42da59b3b32189730ddeb6ad&splashAfter=1550082931&\"\n",
       "                    allowfullscreen=\"true\" webkitallowfullscreen=\"true\" mozallowfullscreen=\"true\"\n",
       "                    oallowfullscreen=\"true\" msallowfullscreen=\"true\"\n",
       "                    style=\"width:100%; height:600px; border: 1px solid #DDD\">\n",
       "            </iframe>\n",
       "        \n",
       "            <script>\n",
       "                $(\"#8c7aba1d-42b4-4ba5-ba61-a40634534747\").bind('mousewheel', function(e) {\n",
       "                e.preventDefault();\n",
       "                });\n",
       "            </script>\n",
       "        "
      ],
      "text/plain": [
       "<IPython.core.display.HTML object>"
      ]
     },
     "execution_count": 8,
     "metadata": {},
     "output_type": "execute_result"
    }
   ],
   "source": [
    "import pyarrow as pa\n",
    "\n",
    "graphistry \\\n",
    "  .bind(source='s', destination='d') \\\n",
    "  .edges(pa.Table.from_pandas(edges)) \\\n",
    "  .nodes(pa.Table.from_pandas(nodes)) \\\n",
    "  .bind(node='n') \\\n",
    "  .plot()"
   ]
  },
  {
   "cell_type": "markdown",
   "metadata": {
    "colab_type": "text",
    "id": "q1OSA1LlQ4Lw"
   },
   "source": [
    "# Settings"
   ]
  },
  {
   "cell_type": "code",
   "execution_count": 73,
   "metadata": {
    "colab": {},
    "colab_type": "code",
    "id": "-pK1mTyYTgyV"
   },
   "outputs": [],
   "source": [
    "g = graphistry.edges(edges).bind(source='s', destination='d')"
   ]
  },
  {
   "cell_type": "code",
   "execution_count": 74,
   "metadata": {
    "colab": {
     "base_uri": "https://localhost:8080/",
     "height": 643
    },
    "colab_type": "code",
    "id": "Ge_jFdICUCB7",
    "outputId": "722eb1d4-136e-4124-fb60-6dd468fa6bee"
   },
   "outputs": [
    {
     "data": {
      "text/html": [
       "\n",
       "            <iframe id=\"9142ba42-b2e6-4702-a7ec-51fbbbceea79\" src=\"http://nginx/graph/graph.html?dataset=6f553284d03452de822f701c76883f23&splashAfter=1550035822&bg=%23FFF\"\n",
       "                    allowfullscreen=\"true\" webkitallowfullscreen=\"true\" mozallowfullscreen=\"true\"\n",
       "                    oallowfullscreen=\"true\" msallowfullscreen=\"true\"\n",
       "                    style=\"width:100%; height:600px; border: 1px solid #DDD\">\n",
       "            </iframe>\n",
       "        \n",
       "            <script>\n",
       "                $(\"#9142ba42-b2e6-4702-a7ec-51fbbbceea79\").bind('mousewheel', function(e) {\n",
       "                e.preventDefault();\n",
       "                });\n",
       "            </script>\n",
       "        "
      ],
      "text/plain": [
       "<IPython.core.display.HTML object>"
      ]
     },
     "execution_count": 74,
     "metadata": {},
     "output_type": "execute_result"
    }
   ],
   "source": [
    "g.settings(url_params={'bg': '#FFF'}).plot()"
   ]
  },
  {
   "cell_type": "code",
   "execution_count": 75,
   "metadata": {
    "colab": {
     "base_uri": "https://localhost:8080/",
     "height": 643
    },
    "colab_type": "code",
    "id": "bSPHEb1uVA2f",
    "outputId": "dcffb034-2379-4ef1-e96c-90255fa70ad3"
   },
   "outputs": [
    {
     "data": {
      "text/html": [
       "\n",
       "            <iframe id=\"796515ed-d776-49d1-8100-fc04c57dd756\" src=\"http://nginx/graph/graph.html?dataset=0a2a42fcec0a558bbc15303d74b0cf8e&splashAfter=1550035825&workbook=my_workbook_1\"\n",
       "                    allowfullscreen=\"true\" webkitallowfullscreen=\"true\" mozallowfullscreen=\"true\"\n",
       "                    oallowfullscreen=\"true\" msallowfullscreen=\"true\"\n",
       "                    style=\"width:100%; height:600px; border: 1px solid #DDD\">\n",
       "            </iframe>\n",
       "        \n",
       "            <script>\n",
       "                $(\"#796515ed-d776-49d1-8100-fc04c57dd756\").bind('mousewheel', function(e) {\n",
       "                e.preventDefault();\n",
       "                });\n",
       "            </script>\n",
       "        "
      ],
      "text/plain": [
       "<IPython.core.display.HTML object>"
      ]
     },
     "execution_count": 75,
     "metadata": {},
     "output_type": "execute_result"
    }
   ],
   "source": [
    "g.settings(url_params={'workbook': 'my_workbook_1'}).plot()"
   ]
  },
  {
   "cell_type": "code",
   "execution_count": 77,
   "metadata": {
    "colab": {
     "base_uri": "https://localhost:8080/",
     "height": 643
    },
    "colab_type": "code",
    "id": "3GOwnFQcVFua",
    "outputId": "7537e55c-7e1e-4f9e-d85f-2f43b8c19031"
   },
   "outputs": [
    {
     "data": {
      "text/html": [
       "\n",
       "            <iframe id=\"e416ce0d-8125-4e8d-bb99-e9988459301e\" src=\"http://nginx/graph/graph.html?dataset=0c0ffce4acfe55d5891028d560d2c566&splashAfter=1550035865&play=111\"\n",
       "                    allowfullscreen=\"true\" webkitallowfullscreen=\"true\" mozallowfullscreen=\"true\"\n",
       "                    oallowfullscreen=\"true\" msallowfullscreen=\"true\"\n",
       "                    style=\"width:100%; height:600px; border: 1px solid #DDD\">\n",
       "            </iframe>\n",
       "        \n",
       "            <script>\n",
       "                $(\"#e416ce0d-8125-4e8d-bb99-e9988459301e\").bind('mousewheel', function(e) {\n",
       "                e.preventDefault();\n",
       "                });\n",
       "            </script>\n",
       "        "
      ],
      "text/plain": [
       "<IPython.core.display.HTML object>"
      ]
     },
     "execution_count": 77,
     "metadata": {},
     "output_type": "execute_result"
    }
   ],
   "source": [
    "g.settings(url_params={'play': 111}).plot()"
   ]
  },
  {
   "cell_type": "code",
   "execution_count": 78,
   "metadata": {
    "colab": {
     "base_uri": "https://localhost:8080/",
     "height": 58
    },
    "colab_type": "code",
    "id": "ewCY-LE8UjLf",
    "outputId": "c9a6176d-fc48-422f-9f27-7dcee22fe127"
   },
   "outputs": [
    {
     "data": {
      "text/html": [
       "\n",
       "            <iframe id=\"27942c83-e3ae-4d19-9a62-b9bd4d638ccb\" src=\"http://nginx/graph/graph.html?dataset=388a7adafa3d58bd9c42317ca916b596&splashAfter=1550035871&\"\n",
       "                    allowfullscreen=\"true\" webkitallowfullscreen=\"true\" mozallowfullscreen=\"true\"\n",
       "                    oallowfullscreen=\"true\" msallowfullscreen=\"true\"\n",
       "                    style=\"width:100%; height:15px; border: 1px solid #DDD\">\n",
       "            </iframe>\n",
       "        \n",
       "            <script>\n",
       "                $(\"#27942c83-e3ae-4d19-9a62-b9bd4d638ccb\").bind('mousewheel', function(e) {\n",
       "                e.preventDefault();\n",
       "                });\n",
       "            </script>\n",
       "        "
      ],
      "text/plain": [
       "<IPython.core.display.HTML object>"
      ]
     },
     "execution_count": 78,
     "metadata": {},
     "output_type": "execute_result"
    }
   ],
   "source": [
    "g.settings(height=15).plot()"
   ]
  },
  {
   "cell_type": "code",
   "execution_count": 79,
   "metadata": {
    "colab": {
     "base_uri": "https://localhost:8080/",
     "height": 34
    },
    "colab_type": "code",
    "id": "gIYn2k9gUJsz",
    "outputId": "8a516ba0-8e21-4c30-fac4-8d437dd5177d"
   },
   "outputs": [
    {
     "data": {
      "text/plain": [
       "'http://nginx/graph/graph.html?dataset=122e9c4532c954749c287de9df07e863&splashAfter=1550035873&'"
      ]
     },
     "execution_count": 79,
     "metadata": {},
     "output_type": "execute_result"
    }
   ],
   "source": [
    "g.settings(render=False).plot()"
   ]
  },
  {
   "cell_type": "markdown",
   "metadata": {
    "colab_type": "text",
    "id": "p97xDI0WVVRD"
   },
   "source": [
    "# Renderer"
   ]
  },
  {
   "cell_type": "code",
   "execution_count": 80,
   "metadata": {
    "colab": {},
    "colab_type": "code",
    "id": "BNokIjbTVWW6"
   },
   "outputs": [],
   "source": [
    "g = graphistry.edges(edges).bind(source='s', destination='d')"
   ]
  },
  {
   "cell_type": "code",
   "execution_count": 81,
   "metadata": {
    "colab": {
     "base_uri": "https://localhost:8080/",
     "height": 34
    },
    "colab_type": "code",
    "id": "6S5DXuBEVZf2",
    "outputId": "c6b744f7-32e0-469e-a53d-607c8a59cc65"
   },
   "outputs": [
    {
     "data": {
      "text/plain": [
       "'http://nginx/graph/graph.html?dataset=a06da79322515d3fac503e92e51359a7&splashAfter=1550035876&'"
      ]
     },
     "execution_count": 81,
     "metadata": {},
     "output_type": "execute_result"
    }
   ],
   "source": [
    "# Note: this can be aliased/deprecated (but not removed) for something like .upload() returning the url\n",
    "g.plot(render=False)"
   ]
  },
  {
   "cell_type": "code",
   "execution_count": 82,
   "metadata": {
    "colab": {
     "base_uri": "https://localhost:8080/",
     "height": 282
    },
    "colab_type": "code",
    "id": "b82aOthEVbsd",
    "outputId": "f8e99bb6-df14-4fbf-8a53-1b47528525b0"
   },
   "outputs": [
    {
     "data": {
      "text/plain": [
       "{'bindings': {'nodeId': '__node_id__',\n",
       "  'edgeId': '__edge_id__',\n",
       "  'source': 's',\n",
       "  'destination': 'd'},\n",
       " 'edges': pyarrow.Table\n",
       " s: int32\n",
       " d: int32\n",
       " __edge_id__: int32\n",
       " metadata\n",
       " --------\n",
       " {b'pandas': b'{\"index_columns\": [], \"column_indexes\": [], \"columns\": [{\"name\":'\n",
       "             b' \"s\", \"field_name\": \"s\", \"pandas_type\": \"int64\", \"numpy_type\": \"'\n",
       "             b'int64\", \"metadata\": null}, {\"name\": \"d\", \"field_name\": \"d\", \"pan'\n",
       "             b'das_type\": \"int64\", \"numpy_type\": \"int64\", \"metadata\": null}], \"'\n",
       "             b'pandas_version\": \"0.23.4\"}'},\n",
       " 'nodes': pyarrow.Table\n",
       " __node_id__: int32\n",
       " metadata\n",
       " --------\n",
       " {b'pandas': b'{\"index_columns\": [], \"column_indexes\": [], \"columns\": [{\"name\":'\n",
       "             b' \"__node_id__\", \"field_name\": \"__node_id__\", \"pandas_type\": \"int'\n",
       "             b'64\", \"numpy_type\": \"int64\", \"metadata\": null}], \"pandas_version\"'\n",
       "             b': \"0.23.4\"}'}}"
      ]
     },
     "execution_count": 82,
     "metadata": {},
     "output_type": "execute_result"
    }
   ],
   "source": [
    "## Note: this can be aliased something like .bindings() returning all bindings\n",
    "g.plot(skip_upload=True)"
   ]
  },
  {
   "cell_type": "markdown",
   "metadata": {
    "colab_type": "text",
    "id": "nIGBOINXYnjk"
   },
   "source": [
    "# Hypergraph"
   ]
  },
  {
   "cell_type": "code",
   "execution_count": 83,
   "metadata": {
    "colab": {
     "base_uri": "https://localhost:8080/",
     "height": 694
    },
    "colab_type": "code",
    "id": "hKShEBDCYpbe",
    "outputId": "3d8378f0-9fd3-4907-9d1b-8c26f6d66f9e"
   },
   "outputs": [
    {
     "name": "stdout",
     "output_type": "stream",
     "text": [
      "# links 20000\n",
      "# events 10000\n",
      "# attrib entities 15\n"
     ]
    },
    {
     "data": {
      "text/html": [
       "\n",
       "            <iframe id=\"8c5ba712-048f-46bf-bdab-9c8ecad2b969\" src=\"http://nginx/graph/graph.html?dataset=a9b74774cd985694837f33efe4dffd31&splashAfter=1550035880&\"\n",
       "                    allowfullscreen=\"true\" webkitallowfullscreen=\"true\" mozallowfullscreen=\"true\"\n",
       "                    oallowfullscreen=\"true\" msallowfullscreen=\"true\"\n",
       "                    style=\"width:100%; height:600px; border: 1px solid #DDD\">\n",
       "            </iframe>\n",
       "        \n",
       "            <script>\n",
       "                $(\"#8c5ba712-048f-46bf-bdab-9c8ecad2b969\").bind('mousewheel', function(e) {\n",
       "                e.preventDefault();\n",
       "                });\n",
       "            </script>\n",
       "        "
      ],
      "text/plain": [
       "<IPython.core.display.HTML object>"
      ]
     },
     "execution_count": 83,
     "metadata": {},
     "output_type": "execute_result"
    }
   ],
   "source": [
    "graphistry.hypergraph(edges)['graph'].plot()"
   ]
  },
  {
   "cell_type": "code",
   "execution_count": 84,
   "metadata": {
    "colab": {
     "base_uri": "https://localhost:8080/",
     "height": 694
    },
    "colab_type": "code",
    "id": "A2q4PEqgYtiS",
    "outputId": "627b96f0-7b4b-4ee5-afef-996ac0969a8f"
   },
   "outputs": [
    {
     "name": "stdout",
     "output_type": "stream",
     "text": [
      "# links 10000\n",
      "# events 10000\n",
      "# attrib entities 10\n"
     ]
    },
    {
     "data": {
      "text/html": [
       "\n",
       "            <iframe id=\"409fce6c-073b-48a1-bb9a-75a87d05983a\" src=\"http://nginx/graph/graph.html?dataset=183a06e34f945602b62122c49c0c6969&splashAfter=1550035883&\"\n",
       "                    allowfullscreen=\"true\" webkitallowfullscreen=\"true\" mozallowfullscreen=\"true\"\n",
       "                    oallowfullscreen=\"true\" msallowfullscreen=\"true\"\n",
       "                    style=\"width:100%; height:600px; border: 1px solid #DDD\">\n",
       "            </iframe>\n",
       "        \n",
       "            <script>\n",
       "                $(\"#409fce6c-073b-48a1-bb9a-75a87d05983a\").bind('mousewheel', function(e) {\n",
       "                e.preventDefault();\n",
       "                });\n",
       "            </script>\n",
       "        "
      ],
      "text/plain": [
       "<IPython.core.display.HTML object>"
      ]
     },
     "execution_count": 84,
     "metadata": {},
     "output_type": "execute_result"
    }
   ],
   "source": [
    "graphistry.hypergraph(edges, ['s'])['graph'].plot()"
   ]
  },
  {
   "cell_type": "code",
   "execution_count": 85,
   "metadata": {
    "colab": {
     "base_uri": "https://localhost:8080/",
     "height": 452
    },
    "colab_type": "code",
    "id": "B6IQX1vMYypV",
    "outputId": "d0a0f1ec-f7c4-4df5-c7a9-2f9e2d928503"
   },
   "outputs": [
    {
     "name": "stdout",
     "output_type": "stream",
     "text": [
      "# links 10000\n",
      "# events 10000\n",
      "# attrib entities 15\n"
     ]
    },
    {
     "data": {
      "text/html": [
       "\n",
       "            <iframe id=\"7fe048ab-1e13-4ff6-a337-7ff86579c842\" src=\"http://nginx/graph/graph.html?dataset=2608d500626e5a868739f068d62f0c40&splashAfter=1550035885&\"\n",
       "                    allowfullscreen=\"true\" webkitallowfullscreen=\"true\" mozallowfullscreen=\"true\"\n",
       "                    oallowfullscreen=\"true\" msallowfullscreen=\"true\"\n",
       "                    style=\"width:100%; height:600px; border: 1px solid #DDD\">\n",
       "            </iframe>\n",
       "        \n",
       "            <script>\n",
       "                $(\"#7fe048ab-1e13-4ff6-a337-7ff86579c842\").bind('mousewheel', function(e) {\n",
       "                e.preventDefault();\n",
       "                });\n",
       "            </script>\n",
       "        "
      ],
      "text/plain": [
       "<IPython.core.display.HTML object>"
      ]
     },
     "execution_count": 85,
     "metadata": {},
     "output_type": "execute_result"
    }
   ],
   "source": [
    "# labs.* & alpha.* work: https://colab.research.google.com/drive/1dhfQFOE1VOW6YrAPmkUmRrP7c5ve4mOz#scrollTo=a0baxfWydZHb \n",
    "graphistry.hypergraph(edges, ['s', 'd'], direct=True)['graph'].plot()"
   ]
  },
  {
   "cell_type": "code",
   "execution_count": 86,
   "metadata": {
    "colab": {
     "base_uri": "https://localhost:8080/",
     "height": 452
    },
    "colab_type": "code",
    "id": "UC3MdMILY4hT",
    "outputId": "5b777015-d74e-4589-8476-580b67898d2d"
   },
   "outputs": [
    {
     "name": "stdout",
     "output_type": "stream",
     "text": [
      "# links 10000\n",
      "# events 10000\n",
      "# attrib entities 15\n"
     ]
    },
    {
     "data": {
      "text/html": [
       "\n",
       "            <iframe id=\"c0c5288b-c658-41d6-89d6-6296c90be773\" src=\"http://nginx/graph/graph.html?dataset=10d236ea4df55c7e9ec9cae125875683&splashAfter=1550035888&\"\n",
       "                    allowfullscreen=\"true\" webkitallowfullscreen=\"true\" mozallowfullscreen=\"true\"\n",
       "                    oallowfullscreen=\"true\" msallowfullscreen=\"true\"\n",
       "                    style=\"width:100%; height:600px; border: 1px solid #DDD\">\n",
       "            </iframe>\n",
       "        \n",
       "            <script>\n",
       "                $(\"#c0c5288b-c658-41d6-89d6-6296c90be773\").bind('mousewheel', function(e) {\n",
       "                e.preventDefault();\n",
       "                });\n",
       "            </script>\n",
       "        "
      ],
      "text/plain": [
       "<IPython.core.display.HTML object>"
      ]
     },
     "execution_count": 86,
     "metadata": {},
     "output_type": "execute_result"
    }
   ],
   "source": [
    "graphistry.hypergraph(edges, ['s', 'd'], direct=True, opts={'EDGES': {'d': ['s']}})['graph'].plot()"
   ]
  },
  {
   "cell_type": "code",
   "execution_count": null,
   "metadata": {
    "colab": {},
    "colab_type": "code",
    "id": "aKKWvy08dwHm"
   },
   "outputs": [],
   "source": []
  }
 ],
 "metadata": {
  "colab": {
   "collapsed_sections": [],
   "name": "PyGraphistry 1.0a - integration test suite",
   "provenance": [],
   "version": "0.3.2"
  },
  "kernelspec": {
   "display_name": "Python [conda env:graphistry]",
   "language": "python",
   "name": "conda-env-graphistry-py"
  },
  "language_info": {
   "codemirror_mode": {
    "name": "ipython",
    "version": 3
   },
   "file_extension": ".py",
   "mimetype": "text/x-python",
   "name": "python",
   "nbconvert_exporter": "python",
   "pygments_lexer": "ipython3",
   "version": "3.7.1"
  }
 },
 "nbformat": 4,
 "nbformat_minor": 1
}
