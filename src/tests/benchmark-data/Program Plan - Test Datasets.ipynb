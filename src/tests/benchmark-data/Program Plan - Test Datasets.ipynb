{
 "cells": [
  {
   "cell_type": "code",
   "execution_count": null,
   "metadata": {
    "collapsed": false
   },
   "outputs": [],
   "source": [
    "import random\n",
    "import graphistry as g\n",
    "import pandas as pd\n",
    "g.register(api=2)"
   ]
  },
  {
   "cell_type": "markdown",
   "metadata": {},
   "source": [
    "# 800K Edges, 1K Nodes (no attributes)"
   ]
  },
  {
   "cell_type": "code",
   "execution_count": null,
   "metadata": {
    "collapsed": false
   },
   "outputs": [],
   "source": [
    "edges = pd.DataFrame({'src': [ random.randint(0, 1000) for x in range(800000)], 'dest': [random.randint(0, 1000) for x in range(800000)]})\n",
    "edges[:3]"
   ]
  },
  {
   "cell_type": "code",
   "execution_count": null,
   "metadata": {
    "collapsed": false
   },
   "outputs": [],
   "source": [
    "g.edges(edges).bind(source='src', destination='dest').plot()"
   ]
  },
  {
   "cell_type": "markdown",
   "metadata": {},
   "source": [
    "# 800K Edges, 1K Nodes (5 integer node and edge attributes)"
   ]
  },
  {
   "cell_type": "code",
   "execution_count": null,
   "metadata": {
    "collapsed": true
   },
   "outputs": [],
   "source": [
    "edges2 = edges;"
   ]
  },
  {
   "cell_type": "code",
   "execution_count": null,
   "metadata": {
    "collapsed": false
   },
   "outputs": [],
   "source": [
    "edges2['intFld1'] = edges2.src.map(lambda x: random.randint(0, 100000))\n",
    "edges2['intFld2'] = edges2.src.map(lambda x: random.randint(0, 100000))\n",
    "edges2['intFld3'] = edges2.src.map(lambda x: random.randint(0, 100000))\n",
    "edges2['intFld4'] = edges2.src.map(lambda x: random.randint(0, 100000))\n",
    "edges2['intFld5'] = edges2.src.map(lambda x: random.randint(0, 100000))"
   ]
  },
  {
   "cell_type": "code",
   "execution_count": null,
   "metadata": {
    "collapsed": false
   },
   "outputs": [],
   "source": [
    "nodes = pd.concat([edges['src'].drop_duplicates(), edges['dest'].drop_duplicates()])"
   ]
  },
  {
   "cell_type": "code",
   "execution_count": null,
   "metadata": {
    "collapsed": false
   },
   "outputs": [],
   "source": [
    "nodes = pd.DataFrame({'name':[x for x in range(0, 1000)]})"
   ]
  },
  {
   "cell_type": "code",
   "execution_count": null,
   "metadata": {
    "collapsed": false
   },
   "outputs": [],
   "source": [
    "nodes['intFld1'] = nodes.name.map(lambda x: random.randint(0, 100000))\n",
    "nodes['intFld2'] = nodes.name.map(lambda x: random.randint(0, 100000))\n",
    "nodes['intFld3'] = nodes.name.map(lambda x: random.randint(0, 100000))\n",
    "nodes['intFld4'] = nodes.name.map(lambda x: random.randint(0, 100000))\n",
    "nodes['intFld5'] = nodes.name.map(lambda x: random.randint(0, 100000))"
   ]
  },
  {
   "cell_type": "code",
   "execution_count": null,
   "metadata": {
    "collapsed": false,
    "scrolled": true
   },
   "outputs": [],
   "source": [
    "g.edges(edges2).nodes(nodes).bind(source='src', destination='dest', node='name').plot()"
   ]
  },
  {
   "cell_type": "markdown",
   "metadata": {},
   "source": [
    "# 50K edges, 100 nodes, 100 integer edges attributes 5 integer node attributes"
   ]
  },
  {
   "cell_type": "code",
   "execution_count": null,
   "metadata": {
    "collapsed": false
   },
   "outputs": [],
   "source": [
    "edges = pd.DataFrame({'src': [ random.randint(0, 100) for x in range(50000)], 'dest': [random.randint(0, 100) for x in range(50000)]})"
   ]
  },
  {
   "cell_type": "code",
   "execution_count": null,
   "metadata": {
    "collapsed": true
   },
   "outputs": [],
   "source": [
    "nodes = pd.DataFrame({'name':[x for x in range(0, 100)]})"
   ]
  },
  {
   "cell_type": "code",
   "execution_count": null,
   "metadata": {
    "collapsed": false
   },
   "outputs": [],
   "source": [
    "for i in range(100):\n",
    "    edges['intFld' + str(i)] = edges.src.map(lambda x: random.randint(0, 100000))\n",
    "    \n",
    "for i in range(5):\n",
    "    nodes['intFld' + str(i)] = nodes.name.map(lambda x: random.randint(0, 100000))"
   ]
  },
  {
   "cell_type": "code",
   "execution_count": null,
   "metadata": {
    "collapsed": false,
    "scrolled": true
   },
   "outputs": [],
   "source": [
    "g.edges(edges).nodes(nodes).bind(source='src', destination='dest', node='name').plot()"
   ]
  },
  {
   "cell_type": "markdown",
   "metadata": {},
   "source": [
    "# 10K Edges, 100 Nodes (100 32 bytes random string edge attributes, 5 integer node attributes)\n"
   ]
  },
  {
   "cell_type": "code",
   "execution_count": null,
   "metadata": {
    "collapsed": true
   },
   "outputs": [],
   "source": [
    "edges = pd.DataFrame({'src': [ random.randint(0, 100) for x in range(10000)], 'dest': [random.randint(0, 100) for x in range(10000)]})"
   ]
  },
  {
   "cell_type": "code",
   "execution_count": null,
   "metadata": {
    "collapsed": false
   },
   "outputs": [],
   "source": [
    "from random import choice\n",
    "from string import ascii_letters\n",
    "print(''.join(choice(ascii_letters) for i in range(32)))"
   ]
  },
  {
   "cell_type": "code",
   "execution_count": null,
   "metadata": {
    "collapsed": true
   },
   "outputs": [],
   "source": [
    "for i in range(100):\n",
    "    edges['intFld' + str(i)] = edges.src.map(lambda x: (''.join(choice(ascii_letters) for i in range(32))))\n",
    "    \n",
    "for i in range(5):\n",
    "    nodes['intFld' + str(i)] = nodes.name.map(lambda x: random.randint(0, 100000))"
   ]
  },
  {
   "cell_type": "code",
   "execution_count": null,
   "metadata": {
    "collapsed": false
   },
   "outputs": [],
   "source": [
    "g.edges(edges).nodes(nodes).bind(source='src', destination='dest', node='name').plot()"
   ]
  },
  {
   "cell_type": "code",
   "execution_count": null,
   "metadata": {
    "collapsed": true
   },
   "outputs": [],
   "source": []
  }
 ],
 "metadata": {
  "kernelspec": {
   "display_name": "Python 2",
   "language": "python",
   "name": "python2"
  },
  "language_info": {
   "codemirror_mode": {
    "name": "ipython",
    "version": 2
   },
   "file_extension": ".py",
   "mimetype": "text/x-python",
   "name": "python",
   "nbconvert_exporter": "python",
   "pygments_lexer": "ipython2",
   "version": "2.7.12"
  }
 },
 "nbformat": 4,
 "nbformat_minor": 0
}
