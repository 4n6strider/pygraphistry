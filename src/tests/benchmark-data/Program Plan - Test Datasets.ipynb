{
 "cells": [
  {
   "cell_type": "code",
   "execution_count": 1,
   "metadata": {
    "collapsed": false
   },
   "outputs": [],
   "source": [
    "import random\n",
    "import graphistry as g\n",
    "import pandas as pd\n",
    "from IPython.display import IFrame\n",
    "g.register(api=2)"
   ]
  },
  {
   "cell_type": "markdown",
   "metadata": {},
   "source": [
    "# 800K Edges, 1K Nodes (no attributes)"
   ]
  },
  {
   "cell_type": "code",
   "execution_count": 2,
   "metadata": {
    "collapsed": false
   },
   "outputs": [
    {
     "data": {
      "text/html": [
       "<div>\n",
       "<table border=\"1\" class=\"dataframe\">\n",
       "  <thead>\n",
       "    <tr style=\"text-align: right;\">\n",
       "      <th></th>\n",
       "      <th>dest</th>\n",
       "      <th>src</th>\n",
       "    </tr>\n",
       "  </thead>\n",
       "  <tbody>\n",
       "    <tr>\n",
       "      <th>0</th>\n",
       "      <td>657</td>\n",
       "      <td>268</td>\n",
       "    </tr>\n",
       "    <tr>\n",
       "      <th>1</th>\n",
       "      <td>191</td>\n",
       "      <td>550</td>\n",
       "    </tr>\n",
       "    <tr>\n",
       "      <th>2</th>\n",
       "      <td>220</td>\n",
       "      <td>687</td>\n",
       "    </tr>\n",
       "  </tbody>\n",
       "</table>\n",
       "</div>"
      ],
      "text/plain": [
       "   dest  src\n",
       "0   657  268\n",
       "1   191  550\n",
       "2   220  687"
      ]
     },
     "execution_count": 2,
     "metadata": {},
     "output_type": "execute_result"
    }
   ],
   "source": [
    "edges = pd.DataFrame({'src': [ random.randint(0, 1000) for x in range(800000)], 'dest': [random.randint(0, 1000) for x in range(800000)]})\n",
    "edges[:3]"
   ]
  },
  {
   "cell_type": "code",
   "execution_count": 3,
   "metadata": {
    "collapsed": false
   },
   "outputs": [
    {
     "data": {
      "text/html": [
       "\n",
       "            <iframe id=\"6b1dbac3-8428-4c63-af61-236c37a8b1c8\" src=\"https://labs.graphistry.com/graph/graph.html?dataset=s3://graphistry.data/pygraphistry/7e048ffa52d2b341537fe582d06c2fae/dataset.json&type=jsonMeta&viztoken=8fac9e1d5e54c139a313ae2ab3c4cd9aab6f11fd&usertag=45d0e486-pygraphistry-0.9.30&splashAfter=1475858344&info=true\"\n",
       "                    allowfullscreen=\"true\" webkitallowfullscreen=\"true\" mozallowfullscreen=\"true\"\n",
       "                    oallowfullscreen=\"true\" msallowfullscreen=\"true\"\n",
       "                    style=\"width:100%; height:500px; border: 1px solid #DDD\">\n",
       "            </iframe>\n",
       "        \n",
       "            <script>\n",
       "                $(\"#6b1dbac3-8428-4c63-af61-236c37a8b1c8\").bind('mousewheel', function(e) {\n",
       "                e.preventDefault();\n",
       "                });\n",
       "            </script>\n",
       "        "
      ],
      "text/plain": [
       "<IPython.core.display.HTML object>"
      ]
     },
     "execution_count": 3,
     "metadata": {},
     "output_type": "execute_result"
    }
   ],
   "source": [
    "g.edges(edges).bind(source='src', destination='dest').plot()"
   ]
  },
  {
   "cell_type": "markdown",
   "metadata": {},
   "source": [
    "# 800K Edges, 1K Nodes (5 integer node and edge attributes)"
   ]
  },
  {
   "cell_type": "code",
   "execution_count": 4,
   "metadata": {
    "collapsed": true
   },
   "outputs": [],
   "source": [
    "edges2 = edges;"
   ]
  },
  {
   "cell_type": "code",
   "execution_count": 5,
   "metadata": {
    "collapsed": false
   },
   "outputs": [],
   "source": [
    "edges2['intFld1'] = edges2.src.map(lambda x: random.randint(0, 100000))\n",
    "edges2['intFld2'] = edges2.src.map(lambda x: random.randint(0, 100000))\n",
    "edges2['intFld3'] = edges2.src.map(lambda x: random.randint(0, 100000))\n",
    "edges2['intFld4'] = edges2.src.map(lambda x: random.randint(0, 100000))\n",
    "edges2['intFld5'] = edges2.src.map(lambda x: random.randint(0, 100000))"
   ]
  },
  {
   "cell_type": "code",
   "execution_count": 6,
   "metadata": {
    "collapsed": false
   },
   "outputs": [],
   "source": [
    "nodes = pd.concat([edges['src'].drop_duplicates(), edges['dest'].drop_duplicates()])"
   ]
  },
  {
   "cell_type": "code",
   "execution_count": 7,
   "metadata": {
    "collapsed": false
   },
   "outputs": [],
   "source": [
    "nodes = pd.DataFrame({'name':[x for x in range(0, 1000)]})"
   ]
  },
  {
   "cell_type": "code",
   "execution_count": 8,
   "metadata": {
    "collapsed": false
   },
   "outputs": [],
   "source": [
    "nodes['intFld1'] = nodes.name.map(lambda x: random.randint(0, 100000))\n",
    "nodes['intFld2'] = nodes.name.map(lambda x: random.randint(0, 100000))\n",
    "nodes['intFld3'] = nodes.name.map(lambda x: random.randint(0, 100000))\n",
    "nodes['intFld4'] = nodes.name.map(lambda x: random.randint(0, 100000))\n",
    "nodes['intFld5'] = nodes.name.map(lambda x: random.randint(0, 100000))"
   ]
  },
  {
   "cell_type": "code",
   "execution_count": 9,
   "metadata": {
    "collapsed": false,
    "scrolled": false
   },
   "outputs": [
    {
     "name": "stdout",
     "output_type": "stream",
     "text": [
      "Uploading 12552 kB. This may take a while...\n"
     ]
    },
    {
     "data": {
      "text/html": [
       "\n",
       "            <iframe id=\"a51294fb-e7ed-4e95-a5a9-6b860b88188c\" src=\"https://labs.graphistry.com/graph/graph.html?dataset=s3://graphistry.data/pygraphistry/d933b539b1c90b0b5c040700c32c37fc/dataset.json&type=jsonMeta&viztoken=7dd2acf9e80d6a9b0f56fc3efbf61954ac44136e&usertag=45d0e486-pygraphistry-0.9.30&splashAfter=1475858393&info=true\"\n",
       "                    allowfullscreen=\"true\" webkitallowfullscreen=\"true\" mozallowfullscreen=\"true\"\n",
       "                    oallowfullscreen=\"true\" msallowfullscreen=\"true\"\n",
       "                    style=\"width:100%; height:500px; border: 1px solid #DDD\">\n",
       "            </iframe>\n",
       "        \n",
       "            <script>\n",
       "                $(\"#a51294fb-e7ed-4e95-a5a9-6b860b88188c\").bind('mousewheel', function(e) {\n",
       "                e.preventDefault();\n",
       "                });\n",
       "            </script>\n",
       "        "
      ],
      "text/plain": [
       "<IPython.core.display.HTML object>"
      ]
     },
     "execution_count": 9,
     "metadata": {},
     "output_type": "execute_result"
    }
   ],
   "source": [
    "g.edges(edges2).nodes(nodes).bind(source='src', destination='dest', node='name').plot()"
   ]
  },
  {
   "cell_type": "markdown",
   "metadata": {},
   "source": [
    "# 50K edges, 100 nodes, 100 integer edges attributes 5 integer node attributes"
   ]
  },
  {
   "cell_type": "code",
   "execution_count": 10,
   "metadata": {
    "collapsed": false
   },
   "outputs": [],
   "source": [
    "edges = pd.DataFrame({'src': [ random.randint(0, 100) for x in range(50000)], 'dest': [random.randint(0, 100) for x in range(50000)]})"
   ]
  },
  {
   "cell_type": "code",
   "execution_count": 11,
   "metadata": {
    "collapsed": true
   },
   "outputs": [],
   "source": [
    "nodes = pd.DataFrame({'name':[x for x in range(0, 100)]})"
   ]
  },
  {
   "cell_type": "code",
   "execution_count": 12,
   "metadata": {
    "collapsed": false
   },
   "outputs": [],
   "source": [
    "for i in range(100):\n",
    "    edges['intFld' + str(i)] = edges.src.map(lambda x: random.randint(0, 100000))\n",
    "    \n",
    "for i in range(5):\n",
    "    nodes['intFld' + str(i)] = nodes.name.map(lambda x: random.randint(0, 100000))"
   ]
  },
  {
   "cell_type": "code",
   "execution_count": 13,
   "metadata": {
    "collapsed": false,
    "scrolled": true
   },
   "outputs": [
    {
     "name": "stdout",
     "output_type": "stream",
     "text": [
      "Uploading 12012 kB. This may take a while...\n"
     ]
    },
    {
     "data": {
      "text/html": [
       "\n",
       "            <iframe id=\"fe4ebd4b-92c5-4889-a09c-6c1bbbb6e614\" src=\"https://labs.graphistry.com/graph/graph.html?dataset=s3://graphistry.data/pygraphistry/55942523c06c97c42f1c872951195988/dataset.json&type=jsonMeta&viztoken=a5c8408fb073b3dff9f416b491ecf46cc4f914c1&usertag=45d0e486-pygraphistry-0.9.30&splashAfter=1475858430&info=true\"\n",
       "                    allowfullscreen=\"true\" webkitallowfullscreen=\"true\" mozallowfullscreen=\"true\"\n",
       "                    oallowfullscreen=\"true\" msallowfullscreen=\"true\"\n",
       "                    style=\"width:100%; height:500px; border: 1px solid #DDD\">\n",
       "            </iframe>\n",
       "        \n",
       "            <script>\n",
       "                $(\"#fe4ebd4b-92c5-4889-a09c-6c1bbbb6e614\").bind('mousewheel', function(e) {\n",
       "                e.preventDefault();\n",
       "                });\n",
       "            </script>\n",
       "        "
      ],
      "text/plain": [
       "<IPython.core.display.HTML object>"
      ]
     },
     "execution_count": 13,
     "metadata": {},
     "output_type": "execute_result"
    }
   ],
   "source": [
    "g.edges(edges).nodes(nodes).bind(source='src', destination='dest', node='name').plot()"
   ]
  },
  {
   "cell_type": "markdown",
   "metadata": {},
   "source": [
    "# 10K Edges, 100 Nodes (100 32 bytes random string edge attributes, 5 integer node attributes)\n"
   ]
  },
  {
   "cell_type": "code",
   "execution_count": 14,
   "metadata": {
    "collapsed": true
   },
   "outputs": [],
   "source": [
    "edges = pd.DataFrame({'src': [ random.randint(0, 100) for x in range(10000)], 'dest': [random.randint(0, 100) for x in range(10000)]})"
   ]
  },
  {
   "cell_type": "code",
   "execution_count": 15,
   "metadata": {
    "collapsed": false
   },
   "outputs": [
    {
     "name": "stdout",
     "output_type": "stream",
     "text": [
      "CVXlACxTRjiHoezlqRqIQjFEdWbEFNwO\n"
     ]
    }
   ],
   "source": [
    "from random import choice\n",
    "from string import ascii_letters\n",
    "print(''.join(choice(ascii_letters) for i in range(32)))"
   ]
  },
  {
   "cell_type": "code",
   "execution_count": 16,
   "metadata": {
    "collapsed": true
   },
   "outputs": [],
   "source": [
    "for i in range(100):\n",
    "    edges['intFld' + str(i)] = edges.src.map(lambda x: (''.join(choice(ascii_letters) for i in range(32))))\n",
    "    \n",
    "for i in range(5):\n",
    "    nodes['intFld' + str(i)] = nodes.name.map(lambda x: random.randint(0, 100000))"
   ]
  },
  {
   "cell_type": "code",
   "execution_count": 17,
   "metadata": {
    "collapsed": false
   },
   "outputs": [
    {
     "name": "stdout",
     "output_type": "stream",
     "text": [
      "Uploading 24145 kB. This may take a while...\n"
     ]
    },
    {
     "data": {
      "text/html": [
       "\n",
       "            <iframe id=\"430d42cc-4b01-4b49-94db-84c970de2188\" src=\"https://labs.graphistry.com/graph/graph.html?dataset=s3://graphistry.data/pygraphistry/0fb65b15dbea0dbf029fe2df9ff11748/dataset.json&type=jsonMeta&viztoken=6dce0b64b2cd05b68042817d747488c1889afb5e&usertag=45d0e486-pygraphistry-0.9.30&splashAfter=1475858462&info=true\"\n",
       "                    allowfullscreen=\"true\" webkitallowfullscreen=\"true\" mozallowfullscreen=\"true\"\n",
       "                    oallowfullscreen=\"true\" msallowfullscreen=\"true\"\n",
       "                    style=\"width:100%; height:500px; border: 1px solid #DDD\">\n",
       "            </iframe>\n",
       "        \n",
       "            <script>\n",
       "                $(\"#430d42cc-4b01-4b49-94db-84c970de2188\").bind('mousewheel', function(e) {\n",
       "                e.preventDefault();\n",
       "                });\n",
       "            </script>\n",
       "        "
      ],
      "text/plain": [
       "<IPython.core.display.HTML object>"
      ]
     },
     "execution_count": 17,
     "metadata": {},
     "output_type": "execute_result"
    }
   ],
   "source": [
    "g.edges(edges).nodes(nodes).bind(source='src', destination='dest', node='name').plot()"
   ]
  },
  {
   "cell_type": "code",
   "execution_count": 21,
   "metadata": {
    "collapsed": false
   },
   "outputs": [
    {
     "data": {
      "text/html": [
       "\n",
       "        <iframe\n",
       "            width=\"700\"\n",
       "            height=\"350\"\n",
       "            src=\"http://labs.graphistry.com/graph/graph.html?dataset=Epinions&scene=default&info=true&play=10000&mapper=splunk&legend=%7B%22title%22%3A%22%3Ch3%3EEpinions%20Trust%20Relationships%3C%2Fh3%3E%22%2C%22subtitle%22%3A%22%3Cp%3E%3Ca%20href%3D%5C%22mailto%3Ainfo%40graphistry.com%5C%22%3EEmail%3C%2Fa%3E%20us%20for%20a%20tool%20preview%3C%2Fp%3E%22%2C%22nodes%22%3A%22Users%22%2C%22edges%22%3A%22Trust%20relationship%22%7D\"\n",
       "            frameborder=\"0\"\n",
       "            allowfullscreen\n",
       "        ></iframe>\n",
       "        "
      ],
      "text/plain": [
       "<IPython.lib.display.IFrame at 0x1506d1590>"
      ]
     },
     "execution_count": 21,
     "metadata": {},
     "output_type": "execute_result"
    }
   ],
   "source": [
    "url = 'http://labs.graphistry.com/graph/graph.html?dataset=Epinions&scene=default&info=true&play=10000&mapper=splunk&legend=%7B%22title%22%3A%22%3Ch3%3EEpinions%20Trust%20Relationships%3C%2Fh3%3E%22%2C%22subtitle%22%3A%22%3Cp%3E%3Ca%20href%3D%5C%22mailto%3Ainfo%40graphistry.com%5C%22%3EEmail%3C%2Fa%3E%20us%20for%20a%20tool%20preview%3C%2Fp%3E%22%2C%22nodes%22%3A%22Users%22%2C%22edges%22%3A%22Trust%20relationship%22%7D';\n",
    "IFrame(url, width=700, height=350)"
   ]
  },
  {
   "cell_type": "code",
   "execution_count": 23,
   "metadata": {
    "collapsed": false
   },
   "outputs": [
    {
     "data": {
      "text/html": [
       "\n",
       "        <iframe\n",
       "            width=\"700\"\n",
       "            height=\"350\"\n",
       "            src=\"http://labs.graphistry.com/graph/graph.html?dataset=Facebook&scene=default&info=true&play=10000&mapper=opentsdb&legend=%7B%22title%22%3A%22%3Ch3%3EFacebook%20friendships%3C%2Fh3%3E%22%2C%22subtitle%22%3A%22%3Cp%3E%3Ca%20href%3D%5C%22mailto%3Ainfo%40graphistry.com%5C%22%3EEmail%3C%2Fa%3E%20us%20for%20a%20tool%20preview%3C%2Fp%3E%22%2C%22nodes%22%3A%22People.%20Color%20indicates%20community%20and%20size%20shows%20popularity.%22%2C%22edges%22%3A%22Friendships%22%7D\"\n",
       "            frameborder=\"0\"\n",
       "            allowfullscreen\n",
       "        ></iframe>\n",
       "        "
      ],
      "text/plain": [
       "<IPython.lib.display.IFrame at 0x1506d10d0>"
      ]
     },
     "execution_count": 23,
     "metadata": {},
     "output_type": "execute_result"
    }
   ],
   "source": [
    "url = 'http://labs.graphistry.com/graph/graph.html?dataset=Facebook&scene=default&info=true&play=10000&mapper=opentsdb&legend=%7B%22title%22%3A%22%3Ch3%3EFacebook%20friendships%3C%2Fh3%3E%22%2C%22subtitle%22%3A%22%3Cp%3E%3Ca%20href%3D%5C%22mailto%3Ainfo%40graphistry.com%5C%22%3EEmail%3C%2Fa%3E%20us%20for%20a%20tool%20preview%3C%2Fp%3E%22%2C%22nodes%22%3A%22People.%20Color%20indicates%20community%20and%20size%20shows%20popularity.%22%2C%22edges%22%3A%22Friendships%22%7D'\n",
    "IFrame(url, width=700, height=350)"
   ]
  },
  {
   "cell_type": "code",
   "execution_count": 24,
   "metadata": {
    "collapsed": false
   },
   "outputs": [
    {
     "data": {
      "text/html": [
       "\n",
       "        <iframe\n",
       "            width=\"700\"\n",
       "            height=\"350\"\n",
       "            src=\"http://labs.graphistry.com/graph/graph.html?dataset=Amazon&scene=default&info=true&play=10000&mapper=splunk&legend=%7B%22title%22%3A%22%3Ch3%3EAmazon%20Product%20Co-Purchases%3C%2Fh3%3E%22%2C%22subtitle%22%3A%22%3Cp%3E%3Ca%20href%3D%5C%22mailto%3Ainfo%40graphistry.com%5C%22%3EEmail%3C%2Fa%3E%20us%20for%20a%20tool%20preview%3C%2Fp%3E%22%2C%22nodes%22%3A%22Product%20or%20a%20customer%22%2C%22edges%22%3A%22Product%20reviewd%20by%20a%20customer%22%7D#endships%3C%2Fh3%3E%22%2C%22subtitle%22%3A%22%3Cp%3E%3Ca%20href%3D%5C%22mailto%3Ainfo%40graphistry.com%5C%22%3EEmail%3C%2Fa%3E%20us%20for%20a%20tool%20preview%3C%2Fp%3E%22%2C%22nodes%22%3A%22People.%20Color%20indicates%20community%20and%20size%20shows%20popularity.%22%2C%22edges%22%3A%22Friendships%22%7D\"\n",
       "            frameborder=\"0\"\n",
       "            allowfullscreen\n",
       "        ></iframe>\n",
       "        "
      ],
      "text/plain": [
       "<IPython.lib.display.IFrame at 0x1506d1490>"
      ]
     },
     "execution_count": 24,
     "metadata": {},
     "output_type": "execute_result"
    }
   ],
   "source": [
    "# Much larger than 800,000 nodes + edges. Does not need to render in 20 seconds. \n",
    "url = 'http://labs.graphistry.com/graph/graph.html?dataset=Amazon&scene=default&info=true&play=10000&mapper=splunk&legend=%7B%22title%22%3A%22%3Ch3%3EAmazon%20Product%20Co-Purchases%3C%2Fh3%3E%22%2C%22subtitle%22%3A%22%3Cp%3E%3Ca%20href%3D%5C%22mailto%3Ainfo%40graphistry.com%5C%22%3EEmail%3C%2Fa%3E%20us%20for%20a%20tool%20preview%3C%2Fp%3E%22%2C%22nodes%22%3A%22Product%20or%20a%20customer%22%2C%22edges%22%3A%22Product%20reviewd%20by%20a%20customer%22%7D#endships%3C%2Fh3%3E%22%2C%22subtitle%22%3A%22%3Cp%3E%3Ca%20href%3D%5C%22mailto%3Ainfo%40graphistry.com%5C%22%3EEmail%3C%2Fa%3E%20us%20for%20a%20tool%20preview%3C%2Fp%3E%22%2C%22nodes%22%3A%22People.%20Color%20indicates%20community%20and%20size%20shows%20popularity.%22%2C%22edges%22%3A%22Friendships%22%7D'\n",
    "IFrame(url, width=700, height=350)"
   ]
  }
 ],
 "metadata": {
  "kernelspec": {
   "display_name": "Python 2",
   "language": "python",
   "name": "python2"
  },
  "language_info": {
   "codemirror_mode": {
    "name": "ipython",
    "version": 2
   },
   "file_extension": ".py",
   "mimetype": "text/x-python",
   "name": "python",
   "nbconvert_exporter": "python",
   "pygments_lexer": "ipython2",
   "version": "2.7.12"
  }
 },
 "nbformat": 4,
 "nbformat_minor": 0
}
