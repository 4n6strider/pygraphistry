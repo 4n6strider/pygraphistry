{
 "cells": [
  {
   "cell_type": "code",
   "execution_count": 17,
   "metadata": {
    "collapsed": false
   },
   "outputs": [],
   "source": [
    "import random\n",
    "import graphistry as g\n",
    "import pandas as pd\n",
    "g.register(api=2)"
   ]
  },
  {
   "cell_type": "markdown",
   "metadata": {},
   "source": [
    "# 800K Edges, 800 Nodes no attributes\n",
    "\n",
    "The time-to-render for an existing upload should be 20s"
   ]
  },
  {
   "cell_type": "code",
   "execution_count": 18,
   "metadata": {
    "collapsed": false
   },
   "outputs": [
    {
     "data": {
      "text/html": [
       "<div>\n",
       "<table border=\"1\" class=\"dataframe\">\n",
       "  <thead>\n",
       "    <tr style=\"text-align: right;\">\n",
       "      <th></th>\n",
       "      <th>dst</th>\n",
       "      <th>src</th>\n",
       "    </tr>\n",
       "  </thead>\n",
       "  <tbody>\n",
       "    <tr>\n",
       "      <th>0</th>\n",
       "      <td>1</td>\n",
       "      <td>0</td>\n",
       "    </tr>\n",
       "    <tr>\n",
       "      <th>1</th>\n",
       "      <td>2</td>\n",
       "      <td>1</td>\n",
       "    </tr>\n",
       "    <tr>\n",
       "      <th>2</th>\n",
       "      <td>3</td>\n",
       "      <td>2</td>\n",
       "    </tr>\n",
       "  </tbody>\n",
       "</table>\n",
       "</div>"
      ],
      "text/plain": [
       "   dst  src\n",
       "0    1    0\n",
       "1    2    1\n",
       "2    3    2"
      ]
     },
     "execution_count": 18,
     "metadata": {},
     "output_type": "execute_result"
    }
   ],
   "source": [
    "edges = pd.DataFrame({'src': [x % 300 for x in range(0, 800000)], 'dst': [(x+1) % 800 for x in range(0, 800000)]})\n",
    "edges[:3]"
   ]
  },
  {
   "cell_type": "code",
   "execution_count": 19,
   "metadata": {
    "collapsed": false
   },
   "outputs": [
    {
     "data": {
      "text/html": [
       "\n",
       "            <iframe id=\"82d8721c-6311-421a-87a9-f8e008596480\" src=\"https://labs.graphistry.com/graph/graph.html?dataset=s3://graphistry.data/pygraphistry/45ed948b1553e3650368a042401dcc8c/dataset.json&type=jsonMeta&viztoken=a1ce768e2da23c48399f8aef775dd5c656bdff16&usertag=e70908d8-pygraphistry-0.9.30&splashAfter=1475462321&info=true\"\n",
       "                    allowfullscreen=\"true\" webkitallowfullscreen=\"true\" mozallowfullscreen=\"true\"\n",
       "                    oallowfullscreen=\"true\" msallowfullscreen=\"true\"\n",
       "                    style=\"width:100%; height:500px; border: 1px solid #DDD\">\n",
       "            </iframe>\n",
       "        \n",
       "            <script>\n",
       "                $(\"#82d8721c-6311-421a-87a9-f8e008596480\").bind('mousewheel', function(e) {\n",
       "                e.preventDefault();\n",
       "                });\n",
       "            </script>\n",
       "        "
      ],
      "text/plain": [
       "<IPython.core.display.HTML object>"
      ]
     },
     "execution_count": 19,
     "metadata": {},
     "output_type": "execute_result"
    }
   ],
   "source": [
    "g.edges(edges).bind(source='src', destination='dst').plot()"
   ]
  },
  {
   "cell_type": "markdown",
   "metadata": {},
   "source": [
    "# 800K Nodes, 800K Edges\n",
    "The time-to-render an existing upload should be 20s.\n",
    "\n",
    "This should really be only 800 edges, but issue due to https://graphistry.atlassian.net/browse/DEV-866 "
   ]
  },
  {
   "cell_type": "code",
   "execution_count": 20,
   "metadata": {
    "collapsed": false
   },
   "outputs": [
    {
     "data": {
      "text/html": [
       "<div>\n",
       "<table border=\"1\" class=\"dataframe\">\n",
       "  <thead>\n",
       "    <tr style=\"text-align: right;\">\n",
       "      <th></th>\n",
       "      <th>dst</th>\n",
       "      <th>src</th>\n",
       "    </tr>\n",
       "  </thead>\n",
       "  <tbody>\n",
       "    <tr>\n",
       "      <th>0</th>\n",
       "      <td>1</td>\n",
       "      <td>0</td>\n",
       "    </tr>\n",
       "    <tr>\n",
       "      <th>1</th>\n",
       "      <td>2</td>\n",
       "      <td>1</td>\n",
       "    </tr>\n",
       "    <tr>\n",
       "      <th>2</th>\n",
       "      <td>3</td>\n",
       "      <td>2</td>\n",
       "    </tr>\n",
       "  </tbody>\n",
       "</table>\n",
       "</div>"
      ],
      "text/plain": [
       "   dst  src\n",
       "0    1    0\n",
       "1    2    1\n",
       "2    3    2"
      ]
     },
     "execution_count": 20,
     "metadata": {},
     "output_type": "execute_result"
    }
   ],
   "source": [
    "edges = pd.DataFrame({'src': [x for x in range(0,800000)], 'dst': [x + 1 for x in range(0, 800000)]})\n",
    "edges[:3]"
   ]
  },
  {
   "cell_type": "code",
   "execution_count": 21,
   "metadata": {
    "collapsed": false
   },
   "outputs": [
    {
     "name": "stderr",
     "output_type": "stream",
     "text": [
      "WARNING: Large graph: |nodes| + |edges| = 1600001. Layout/rendering might be slow.\n"
     ]
    },
    {
     "data": {
      "text/html": [
       "\n",
       "            <iframe id=\"706ad5e6-9c1e-4722-b2a0-85cefaf33ad8\" src=\"https://labs.graphistry.com/graph/graph.html?dataset=s3://graphistry.data/pygraphistry/4a05787c0b838e5706ba27a5dc31c5f5/dataset.json&type=jsonMeta&viztoken=3cdf03640f582f20918188457ea510c2d8c6342c&usertag=e70908d8-pygraphistry-0.9.30&splashAfter=1475462362&info=true\"\n",
       "                    allowfullscreen=\"true\" webkitallowfullscreen=\"true\" mozallowfullscreen=\"true\"\n",
       "                    oallowfullscreen=\"true\" msallowfullscreen=\"true\"\n",
       "                    style=\"width:100%; height:500px; border: 1px solid #DDD\">\n",
       "            </iframe>\n",
       "        \n",
       "            <script>\n",
       "                $(\"#706ad5e6-9c1e-4722-b2a0-85cefaf33ad8\").bind('mousewheel', function(e) {\n",
       "                e.preventDefault();\n",
       "                });\n",
       "            </script>\n",
       "        "
      ],
      "text/plain": [
       "<IPython.core.display.HTML object>"
      ]
     },
     "execution_count": 21,
     "metadata": {},
     "output_type": "execute_result"
    }
   ],
   "source": [
    "g.edges(edges).bind(source='src', destination='dst').plot()"
   ]
  },
  {
   "cell_type": "markdown",
   "metadata": {},
   "source": [
    "# 1000 sparse columns with 8K edges, 800K elements\n",
    "In many datasets, there may ~1000 possible attributes, though each node/edge likely only has 5-100.\n",
    "\n",
    "Attributes are selected from 100 different float values\n",
    "\n",
    "The time-to-render for an uploaded dataset should be 20s.\n",
    "\n",
    "Opening the edges panel, and seeing the results, should also be within 20s."
   ]
  },
  {
   "cell_type": "code",
   "execution_count": 22,
   "metadata": {
    "collapsed": false
   },
   "outputs": [
    {
     "data": {
      "text/html": [
       "<div>\n",
       "<table border=\"1\" class=\"dataframe\">\n",
       "  <thead>\n",
       "    <tr style=\"text-align: right;\">\n",
       "      <th></th>\n",
       "      <th>a</th>\n",
       "      <th>b</th>\n",
       "      <th>c</th>\n",
       "      <th>d</th>\n",
       "    </tr>\n",
       "  </thead>\n",
       "  <tbody>\n",
       "    <tr>\n",
       "      <th>0</th>\n",
       "      <td>1.0</td>\n",
       "      <td>2.0</td>\n",
       "      <td>NaN</td>\n",
       "      <td>NaN</td>\n",
       "    </tr>\n",
       "    <tr>\n",
       "      <th>1</th>\n",
       "      <td>NaN</td>\n",
       "      <td>2.0</td>\n",
       "      <td>3.0</td>\n",
       "      <td>NaN</td>\n",
       "    </tr>\n",
       "    <tr>\n",
       "      <th>2</th>\n",
       "      <td>NaN</td>\n",
       "      <td>NaN</td>\n",
       "      <td>4.0</td>\n",
       "      <td>5.0</td>\n",
       "    </tr>\n",
       "  </tbody>\n",
       "</table>\n",
       "</div>"
      ],
      "text/plain": [
       "     a    b    c    d\n",
       "0  1.0  2.0  NaN  NaN\n",
       "1  NaN  2.0  3.0  NaN\n",
       "2  NaN  NaN  4.0  5.0"
      ]
     },
     "execution_count": 22,
     "metadata": {},
     "output_type": "execute_result"
    }
   ],
   "source": [
    "pd.DataFrame([{'a': 1, 'b': 2}, {'b': 2, 'c': 3}, {'c': 4, 'd': 5}])"
   ]
  },
  {
   "cell_type": "code",
   "execution_count": 23,
   "metadata": {
    "collapsed": false
   },
   "outputs": [
    {
     "data": {
      "text/html": [
       "<div>\n",
       "<table border=\"1\" class=\"dataframe\">\n",
       "  <thead>\n",
       "    <tr style=\"text-align: right;\">\n",
       "      <th></th>\n",
       "      <th>dst</th>\n",
       "      <th>fld0</th>\n",
       "      <th>fld1</th>\n",
       "      <th>fld10</th>\n",
       "      <th>fld100</th>\n",
       "      <th>fld101</th>\n",
       "      <th>fld102</th>\n",
       "      <th>fld103</th>\n",
       "      <th>fld104</th>\n",
       "      <th>fld105</th>\n",
       "      <th>...</th>\n",
       "      <th>fld991</th>\n",
       "      <th>fld992</th>\n",
       "      <th>fld993</th>\n",
       "      <th>fld994</th>\n",
       "      <th>fld995</th>\n",
       "      <th>fld996</th>\n",
       "      <th>fld997</th>\n",
       "      <th>fld998</th>\n",
       "      <th>fld999</th>\n",
       "      <th>src</th>\n",
       "    </tr>\n",
       "  </thead>\n",
       "  <tbody>\n",
       "    <tr>\n",
       "      <th>0</th>\n",
       "      <td>1</td>\n",
       "      <td>0.0</td>\n",
       "      <td>1.0</td>\n",
       "      <td>10.0</td>\n",
       "      <td>NaN</td>\n",
       "      <td>NaN</td>\n",
       "      <td>NaN</td>\n",
       "      <td>NaN</td>\n",
       "      <td>NaN</td>\n",
       "      <td>NaN</td>\n",
       "      <td>...</td>\n",
       "      <td>NaN</td>\n",
       "      <td>NaN</td>\n",
       "      <td>NaN</td>\n",
       "      <td>NaN</td>\n",
       "      <td>NaN</td>\n",
       "      <td>NaN</td>\n",
       "      <td>NaN</td>\n",
       "      <td>NaN</td>\n",
       "      <td>NaN</td>\n",
       "      <td>0</td>\n",
       "    </tr>\n",
       "    <tr>\n",
       "      <th>1</th>\n",
       "      <td>2</td>\n",
       "      <td>NaN</td>\n",
       "      <td>0.0</td>\n",
       "      <td>9.0</td>\n",
       "      <td>99.0</td>\n",
       "      <td>NaN</td>\n",
       "      <td>NaN</td>\n",
       "      <td>NaN</td>\n",
       "      <td>NaN</td>\n",
       "      <td>NaN</td>\n",
       "      <td>...</td>\n",
       "      <td>NaN</td>\n",
       "      <td>NaN</td>\n",
       "      <td>NaN</td>\n",
       "      <td>NaN</td>\n",
       "      <td>NaN</td>\n",
       "      <td>NaN</td>\n",
       "      <td>NaN</td>\n",
       "      <td>NaN</td>\n",
       "      <td>NaN</td>\n",
       "      <td>1</td>\n",
       "    </tr>\n",
       "    <tr>\n",
       "      <th>2</th>\n",
       "      <td>3</td>\n",
       "      <td>NaN</td>\n",
       "      <td>NaN</td>\n",
       "      <td>8.0</td>\n",
       "      <td>98.0</td>\n",
       "      <td>99.0</td>\n",
       "      <td>NaN</td>\n",
       "      <td>NaN</td>\n",
       "      <td>NaN</td>\n",
       "      <td>NaN</td>\n",
       "      <td>...</td>\n",
       "      <td>NaN</td>\n",
       "      <td>NaN</td>\n",
       "      <td>NaN</td>\n",
       "      <td>NaN</td>\n",
       "      <td>NaN</td>\n",
       "      <td>NaN</td>\n",
       "      <td>NaN</td>\n",
       "      <td>NaN</td>\n",
       "      <td>NaN</td>\n",
       "      <td>2</td>\n",
       "    </tr>\n",
       "  </tbody>\n",
       "</table>\n",
       "<p>3 rows × 1002 columns</p>\n",
       "</div>"
      ],
      "text/plain": [
       "   dst  fld0  fld1  fld10  fld100  fld101  fld102  fld103  fld104  fld105  \\\n",
       "0    1   0.0   1.0   10.0     NaN     NaN     NaN     NaN     NaN     NaN   \n",
       "1    2   NaN   0.0    9.0    99.0     NaN     NaN     NaN     NaN     NaN   \n",
       "2    3   NaN   NaN    8.0    98.0    99.0     NaN     NaN     NaN     NaN   \n",
       "\n",
       "  ...   fld991  fld992  fld993  fld994  fld995  fld996  fld997  fld998  \\\n",
       "0 ...      NaN     NaN     NaN     NaN     NaN     NaN     NaN     NaN   \n",
       "1 ...      NaN     NaN     NaN     NaN     NaN     NaN     NaN     NaN   \n",
       "2 ...      NaN     NaN     NaN     NaN     NaN     NaN     NaN     NaN   \n",
       "\n",
       "   fld999  src  \n",
       "0     NaN    0  \n",
       "1     NaN    1  \n",
       "2     NaN    2  \n",
       "\n",
       "[3 rows x 1002 columns]"
      ]
     },
     "execution_count": 23,
     "metadata": {},
     "output_type": "execute_result"
    }
   ],
   "source": [
    "edges = [{'src': x, 'dst': (x + 1) % 8000} for x in range(0, 8000)]\n",
    "for i, edge in enumerate(edges):\n",
    "    for fld in range(0, 100):\n",
    "        edge['fld' + str((i + fld) % 1000)] = fld\n",
    "edges = pd.DataFrame(edges)\n",
    "edges[:3]"
   ]
  },
  {
   "cell_type": "code",
   "execution_count": 24,
   "metadata": {
    "collapsed": false
   },
   "outputs": [
    {
     "data": {
      "text/html": [
       "\n",
       "            <iframe id=\"d891ff6b-f468-40e5-8aa8-bafbeab0818e\" src=\"https://labs.graphistry.com/graph/graph.html?dataset=s3://graphistry.data/pygraphistry/597949102ed2a113e41e30fbf7ff2e9e/dataset.json&type=jsonMeta&viztoken=79e5fb0843a35c787e125d0a592c736dc87a96ab&usertag=e70908d8-pygraphistry-0.9.30&splashAfter=1475462385&info=true\"\n",
       "                    allowfullscreen=\"true\" webkitallowfullscreen=\"true\" mozallowfullscreen=\"true\"\n",
       "                    oallowfullscreen=\"true\" msallowfullscreen=\"true\"\n",
       "                    style=\"width:100%; height:500px; border: 1px solid #DDD\">\n",
       "            </iframe>\n",
       "        \n",
       "            <script>\n",
       "                $(\"#d891ff6b-f468-40e5-8aa8-bafbeab0818e\").bind('mousewheel', function(e) {\n",
       "                e.preventDefault();\n",
       "                });\n",
       "            </script>\n",
       "        "
      ],
      "text/plain": [
       "<IPython.core.display.HTML object>"
      ]
     },
     "execution_count": 24,
     "metadata": {},
     "output_type": "execute_result"
    }
   ],
   "source": [
    "g.edges(edges).bind(source='src', destination='dst').plot()"
   ]
  },
  {
   "cell_type": "markdown",
   "metadata": {},
   "source": [
    "# 1000 sparse (random float) columns with 8K edges, 800K elements\n",
    "In many datasets, there may ~1000 possible attributes, though each node/edge likely only has 5-100.\n",
    "\n",
    "Attributes are selected from 100 a random float value\n",
    "\n",
    "The time-to-render for an uploaded dataset should be 20s.\n",
    "\n",
    "Opening the edges panel, and seeing the results, should also be within 20s."
   ]
  },
  {
   "cell_type": "code",
   "execution_count": 25,
   "metadata": {
    "collapsed": false
   },
   "outputs": [
    {
     "data": {
      "text/html": [
       "<div>\n",
       "<table border=\"1\" class=\"dataframe\">\n",
       "  <thead>\n",
       "    <tr style=\"text-align: right;\">\n",
       "      <th></th>\n",
       "      <th>dst</th>\n",
       "      <th>fld0</th>\n",
       "      <th>fld1</th>\n",
       "      <th>fld10</th>\n",
       "      <th>fld100</th>\n",
       "      <th>fld101</th>\n",
       "      <th>fld102</th>\n",
       "      <th>fld103</th>\n",
       "      <th>fld104</th>\n",
       "      <th>fld105</th>\n",
       "      <th>...</th>\n",
       "      <th>fld991</th>\n",
       "      <th>fld992</th>\n",
       "      <th>fld993</th>\n",
       "      <th>fld994</th>\n",
       "      <th>fld995</th>\n",
       "      <th>fld996</th>\n",
       "      <th>fld997</th>\n",
       "      <th>fld998</th>\n",
       "      <th>fld999</th>\n",
       "      <th>src</th>\n",
       "    </tr>\n",
       "  </thead>\n",
       "  <tbody>\n",
       "    <tr>\n",
       "      <th>0</th>\n",
       "      <td>1</td>\n",
       "      <td>0.027247</td>\n",
       "      <td>0.698274</td>\n",
       "      <td>0.691285</td>\n",
       "      <td>NaN</td>\n",
       "      <td>NaN</td>\n",
       "      <td>NaN</td>\n",
       "      <td>NaN</td>\n",
       "      <td>NaN</td>\n",
       "      <td>NaN</td>\n",
       "      <td>...</td>\n",
       "      <td>NaN</td>\n",
       "      <td>NaN</td>\n",
       "      <td>NaN</td>\n",
       "      <td>NaN</td>\n",
       "      <td>NaN</td>\n",
       "      <td>NaN</td>\n",
       "      <td>NaN</td>\n",
       "      <td>NaN</td>\n",
       "      <td>NaN</td>\n",
       "      <td>0</td>\n",
       "    </tr>\n",
       "    <tr>\n",
       "      <th>1</th>\n",
       "      <td>2</td>\n",
       "      <td>NaN</td>\n",
       "      <td>0.466431</td>\n",
       "      <td>0.056514</td>\n",
       "      <td>0.282720</td>\n",
       "      <td>NaN</td>\n",
       "      <td>NaN</td>\n",
       "      <td>NaN</td>\n",
       "      <td>NaN</td>\n",
       "      <td>NaN</td>\n",
       "      <td>...</td>\n",
       "      <td>NaN</td>\n",
       "      <td>NaN</td>\n",
       "      <td>NaN</td>\n",
       "      <td>NaN</td>\n",
       "      <td>NaN</td>\n",
       "      <td>NaN</td>\n",
       "      <td>NaN</td>\n",
       "      <td>NaN</td>\n",
       "      <td>NaN</td>\n",
       "      <td>1</td>\n",
       "    </tr>\n",
       "    <tr>\n",
       "      <th>2</th>\n",
       "      <td>3</td>\n",
       "      <td>NaN</td>\n",
       "      <td>NaN</td>\n",
       "      <td>0.317909</td>\n",
       "      <td>0.295199</td>\n",
       "      <td>0.703898</td>\n",
       "      <td>NaN</td>\n",
       "      <td>NaN</td>\n",
       "      <td>NaN</td>\n",
       "      <td>NaN</td>\n",
       "      <td>...</td>\n",
       "      <td>NaN</td>\n",
       "      <td>NaN</td>\n",
       "      <td>NaN</td>\n",
       "      <td>NaN</td>\n",
       "      <td>NaN</td>\n",
       "      <td>NaN</td>\n",
       "      <td>NaN</td>\n",
       "      <td>NaN</td>\n",
       "      <td>NaN</td>\n",
       "      <td>2</td>\n",
       "    </tr>\n",
       "  </tbody>\n",
       "</table>\n",
       "<p>3 rows × 1002 columns</p>\n",
       "</div>"
      ],
      "text/plain": [
       "   dst      fld0      fld1     fld10    fld100    fld101  fld102  fld103  \\\n",
       "0    1  0.027247  0.698274  0.691285       NaN       NaN     NaN     NaN   \n",
       "1    2       NaN  0.466431  0.056514  0.282720       NaN     NaN     NaN   \n",
       "2    3       NaN       NaN  0.317909  0.295199  0.703898     NaN     NaN   \n",
       "\n",
       "   fld104  fld105 ...   fld991  fld992  fld993  fld994  fld995  fld996  \\\n",
       "0     NaN     NaN ...      NaN     NaN     NaN     NaN     NaN     NaN   \n",
       "1     NaN     NaN ...      NaN     NaN     NaN     NaN     NaN     NaN   \n",
       "2     NaN     NaN ...      NaN     NaN     NaN     NaN     NaN     NaN   \n",
       "\n",
       "   fld997  fld998  fld999  src  \n",
       "0     NaN     NaN     NaN    0  \n",
       "1     NaN     NaN     NaN    1  \n",
       "2     NaN     NaN     NaN    2  \n",
       "\n",
       "[3 rows x 1002 columns]"
      ]
     },
     "execution_count": 25,
     "metadata": {},
     "output_type": "execute_result"
    }
   ],
   "source": [
    "edges = [{'src': x, 'dst': (x + 1) % 8000} for x in range(0, 8000)]\n",
    "for i, edge in enumerate(edges):\n",
    "    for fld in range(0, 100):\n",
    "        edge['fld' + str((i + fld) % 1000)] = random.random()\n",
    "edges = pd.DataFrame(edges)\n",
    "edges[:3]"
   ]
  },
  {
   "cell_type": "code",
   "execution_count": 26,
   "metadata": {
    "collapsed": false
   },
   "outputs": [
    {
     "name": "stdout",
     "output_type": "stream",
     "text": [
      "Uploading 6202 kB. This may take a while...\n"
     ]
    },
    {
     "data": {
      "text/html": [
       "\n",
       "            <iframe id=\"444139fd-90eb-4973-9f5d-524538441115\" src=\"https://labs.graphistry.com/graph/graph.html?dataset=s3://graphistry.data/pygraphistry/8564ca09d20e7c6da19bc0f26e593236/dataset.json&type=jsonMeta&viztoken=1edcbaf8e8eed842de44a31b388e51fc25ddd199&usertag=e70908d8-pygraphistry-0.9.30&splashAfter=1475462416&info=true\"\n",
       "                    allowfullscreen=\"true\" webkitallowfullscreen=\"true\" mozallowfullscreen=\"true\"\n",
       "                    oallowfullscreen=\"true\" msallowfullscreen=\"true\"\n",
       "                    style=\"width:100%; height:500px; border: 1px solid #DDD\">\n",
       "            </iframe>\n",
       "        \n",
       "            <script>\n",
       "                $(\"#444139fd-90eb-4973-9f5d-524538441115\").bind('mousewheel', function(e) {\n",
       "                e.preventDefault();\n",
       "                });\n",
       "            </script>\n",
       "        "
      ],
      "text/plain": [
       "<IPython.core.display.HTML object>"
      ]
     },
     "execution_count": 26,
     "metadata": {},
     "output_type": "execute_result"
    }
   ],
   "source": [
    "g.edges(edges).bind(source='src', destination='dst').plot()"
   ]
  },
  {
   "cell_type": "markdown",
   "metadata": {},
   "source": [
    "# 1000 sparse (string) columns with 8K edges, 800K elements\n",
    "In many datasets, there may ~1000 possible attributes, though each node/edge likely only has 5-100.\n",
    "\n",
    "Attributes are selected from a set of 100 different string values. \n",
    "\n",
    "The time-to-render for an uploaded dataset should be 20s.\n",
    "\n",
    "Opening the edges panel, and seeing the results, should also be within 20s."
   ]
  },
  {
   "cell_type": "code",
   "execution_count": 27,
   "metadata": {
    "collapsed": false
   },
   "outputs": [
    {
     "data": {
      "text/html": [
       "<div>\n",
       "<table border=\"1\" class=\"dataframe\">\n",
       "  <thead>\n",
       "    <tr style=\"text-align: right;\">\n",
       "      <th></th>\n",
       "      <th>dst</th>\n",
       "      <th>fld0</th>\n",
       "      <th>fld1</th>\n",
       "      <th>fld10</th>\n",
       "      <th>fld100</th>\n",
       "      <th>fld101</th>\n",
       "      <th>fld102</th>\n",
       "      <th>fld103</th>\n",
       "      <th>fld104</th>\n",
       "      <th>fld105</th>\n",
       "      <th>...</th>\n",
       "      <th>fld991</th>\n",
       "      <th>fld992</th>\n",
       "      <th>fld993</th>\n",
       "      <th>fld994</th>\n",
       "      <th>fld995</th>\n",
       "      <th>fld996</th>\n",
       "      <th>fld997</th>\n",
       "      <th>fld998</th>\n",
       "      <th>fld999</th>\n",
       "      <th>src</th>\n",
       "    </tr>\n",
       "  </thead>\n",
       "  <tbody>\n",
       "    <tr>\n",
       "      <th>0</th>\n",
       "      <td>1</td>\n",
       "      <td>String: 0</td>\n",
       "      <td>String: 1</td>\n",
       "      <td>String: 10</td>\n",
       "      <td>NaN</td>\n",
       "      <td>NaN</td>\n",
       "      <td>NaN</td>\n",
       "      <td>NaN</td>\n",
       "      <td>NaN</td>\n",
       "      <td>NaN</td>\n",
       "      <td>...</td>\n",
       "      <td>NaN</td>\n",
       "      <td>NaN</td>\n",
       "      <td>NaN</td>\n",
       "      <td>NaN</td>\n",
       "      <td>NaN</td>\n",
       "      <td>NaN</td>\n",
       "      <td>NaN</td>\n",
       "      <td>NaN</td>\n",
       "      <td>NaN</td>\n",
       "      <td>0</td>\n",
       "    </tr>\n",
       "    <tr>\n",
       "      <th>1</th>\n",
       "      <td>2</td>\n",
       "      <td>NaN</td>\n",
       "      <td>String: 0</td>\n",
       "      <td>String: 9</td>\n",
       "      <td>String: 99</td>\n",
       "      <td>NaN</td>\n",
       "      <td>NaN</td>\n",
       "      <td>NaN</td>\n",
       "      <td>NaN</td>\n",
       "      <td>NaN</td>\n",
       "      <td>...</td>\n",
       "      <td>NaN</td>\n",
       "      <td>NaN</td>\n",
       "      <td>NaN</td>\n",
       "      <td>NaN</td>\n",
       "      <td>NaN</td>\n",
       "      <td>NaN</td>\n",
       "      <td>NaN</td>\n",
       "      <td>NaN</td>\n",
       "      <td>NaN</td>\n",
       "      <td>1</td>\n",
       "    </tr>\n",
       "    <tr>\n",
       "      <th>2</th>\n",
       "      <td>3</td>\n",
       "      <td>NaN</td>\n",
       "      <td>NaN</td>\n",
       "      <td>String: 8</td>\n",
       "      <td>String: 98</td>\n",
       "      <td>String: 99</td>\n",
       "      <td>NaN</td>\n",
       "      <td>NaN</td>\n",
       "      <td>NaN</td>\n",
       "      <td>NaN</td>\n",
       "      <td>...</td>\n",
       "      <td>NaN</td>\n",
       "      <td>NaN</td>\n",
       "      <td>NaN</td>\n",
       "      <td>NaN</td>\n",
       "      <td>NaN</td>\n",
       "      <td>NaN</td>\n",
       "      <td>NaN</td>\n",
       "      <td>NaN</td>\n",
       "      <td>NaN</td>\n",
       "      <td>2</td>\n",
       "    </tr>\n",
       "  </tbody>\n",
       "</table>\n",
       "<p>3 rows × 1002 columns</p>\n",
       "</div>"
      ],
      "text/plain": [
       "   dst       fld0       fld1       fld10      fld100      fld101 fld102  \\\n",
       "0    1  String: 0  String: 1  String: 10         NaN         NaN    NaN   \n",
       "1    2        NaN  String: 0   String: 9  String: 99         NaN    NaN   \n",
       "2    3        NaN        NaN   String: 8  String: 98  String: 99    NaN   \n",
       "\n",
       "  fld103 fld104 fld105 ... fld991 fld992 fld993 fld994 fld995 fld996 fld997  \\\n",
       "0    NaN    NaN    NaN ...    NaN    NaN    NaN    NaN    NaN    NaN    NaN   \n",
       "1    NaN    NaN    NaN ...    NaN    NaN    NaN    NaN    NaN    NaN    NaN   \n",
       "2    NaN    NaN    NaN ...    NaN    NaN    NaN    NaN    NaN    NaN    NaN   \n",
       "\n",
       "  fld998 fld999 src  \n",
       "0    NaN    NaN   0  \n",
       "1    NaN    NaN   1  \n",
       "2    NaN    NaN   2  \n",
       "\n",
       "[3 rows x 1002 columns]"
      ]
     },
     "execution_count": 27,
     "metadata": {},
     "output_type": "execute_result"
    }
   ],
   "source": [
    "edges = [{'src': x, 'dst': (x + 1) % 8000} for x in range(0, 8000)]\n",
    "for i, edge in enumerate(edges):\n",
    "    for fld in range(0, 100):\n",
    "        edge['fld' + str((i + fld) % 1000)] = 'String: ' + str(fld)\n",
    "edges = pd.DataFrame(edges)\n",
    "edges[:3]"
   ]
  },
  {
   "cell_type": "code",
   "execution_count": 28,
   "metadata": {
    "collapsed": false
   },
   "outputs": [
    {
     "data": {
      "text/html": [
       "\n",
       "            <iframe id=\"9781c3d7-e2a3-4425-9272-891470e68db9\" src=\"https://labs.graphistry.com/graph/graph.html?dataset=s3://graphistry.data/pygraphistry/3c1a153f909d261439e24f34ca862103/dataset.json&type=jsonMeta&viztoken=afc540c8fa23b788aca766fb784551116aa3aca6&usertag=e70908d8-pygraphistry-0.9.30&splashAfter=1475462460&info=true\"\n",
       "                    allowfullscreen=\"true\" webkitallowfullscreen=\"true\" mozallowfullscreen=\"true\"\n",
       "                    oallowfullscreen=\"true\" msallowfullscreen=\"true\"\n",
       "                    style=\"width:100%; height:500px; border: 1px solid #DDD\">\n",
       "            </iframe>\n",
       "        \n",
       "            <script>\n",
       "                $(\"#9781c3d7-e2a3-4425-9272-891470e68db9\").bind('mousewheel', function(e) {\n",
       "                e.preventDefault();\n",
       "                });\n",
       "            </script>\n",
       "        "
      ],
      "text/plain": [
       "<IPython.core.display.HTML object>"
      ]
     },
     "execution_count": 28,
     "metadata": {},
     "output_type": "execute_result"
    }
   ],
   "source": [
    "g.edges(edges).bind(source='src', destination='dst').plot()"
   ]
  },
  {
   "cell_type": "markdown",
   "metadata": {},
   "source": [
    "# 1000 sparse (random string) columns with 8K edges, 800K elements\n",
    "In many datasets, there may ~1000 possible attributes, though each node/edge likely only has 5-100.\n",
    "\n",
    "Attributes are randomly generated strings. \n",
    "\n",
    "The time-to-render for an uploaded dataset should be 20s.\n",
    "\n",
    "Opening the edges panel, and seeing the results, should also be within 20s."
   ]
  },
  {
   "cell_type": "code",
   "execution_count": 29,
   "metadata": {
    "collapsed": false
   },
   "outputs": [
    {
     "data": {
      "text/html": [
       "<div>\n",
       "<table border=\"1\" class=\"dataframe\">\n",
       "  <thead>\n",
       "    <tr style=\"text-align: right;\">\n",
       "      <th></th>\n",
       "      <th>dst</th>\n",
       "      <th>fld0</th>\n",
       "      <th>fld1</th>\n",
       "      <th>fld10</th>\n",
       "      <th>fld100</th>\n",
       "      <th>fld101</th>\n",
       "      <th>fld102</th>\n",
       "      <th>fld103</th>\n",
       "      <th>fld104</th>\n",
       "      <th>fld105</th>\n",
       "      <th>...</th>\n",
       "      <th>fld991</th>\n",
       "      <th>fld992</th>\n",
       "      <th>fld993</th>\n",
       "      <th>fld994</th>\n",
       "      <th>fld995</th>\n",
       "      <th>fld996</th>\n",
       "      <th>fld997</th>\n",
       "      <th>fld998</th>\n",
       "      <th>fld999</th>\n",
       "      <th>src</th>\n",
       "    </tr>\n",
       "  </thead>\n",
       "  <tbody>\n",
       "    <tr>\n",
       "      <th>0</th>\n",
       "      <td>1</td>\n",
       "      <td>String: 0.674625311195</td>\n",
       "      <td>String: 0.920013784454</td>\n",
       "      <td>String: 0.542271321548</td>\n",
       "      <td>NaN</td>\n",
       "      <td>NaN</td>\n",
       "      <td>NaN</td>\n",
       "      <td>NaN</td>\n",
       "      <td>NaN</td>\n",
       "      <td>NaN</td>\n",
       "      <td>...</td>\n",
       "      <td>NaN</td>\n",
       "      <td>NaN</td>\n",
       "      <td>NaN</td>\n",
       "      <td>NaN</td>\n",
       "      <td>NaN</td>\n",
       "      <td>NaN</td>\n",
       "      <td>NaN</td>\n",
       "      <td>NaN</td>\n",
       "      <td>NaN</td>\n",
       "      <td>0</td>\n",
       "    </tr>\n",
       "    <tr>\n",
       "      <th>1</th>\n",
       "      <td>2</td>\n",
       "      <td>NaN</td>\n",
       "      <td>String: 0.0318240732457</td>\n",
       "      <td>String: 0.551034409999</td>\n",
       "      <td>String: 0.0743970097446</td>\n",
       "      <td>NaN</td>\n",
       "      <td>NaN</td>\n",
       "      <td>NaN</td>\n",
       "      <td>NaN</td>\n",
       "      <td>NaN</td>\n",
       "      <td>...</td>\n",
       "      <td>NaN</td>\n",
       "      <td>NaN</td>\n",
       "      <td>NaN</td>\n",
       "      <td>NaN</td>\n",
       "      <td>NaN</td>\n",
       "      <td>NaN</td>\n",
       "      <td>NaN</td>\n",
       "      <td>NaN</td>\n",
       "      <td>NaN</td>\n",
       "      <td>1</td>\n",
       "    </tr>\n",
       "    <tr>\n",
       "      <th>2</th>\n",
       "      <td>3</td>\n",
       "      <td>NaN</td>\n",
       "      <td>NaN</td>\n",
       "      <td>String: 0.692373000962</td>\n",
       "      <td>String: 0.276299477599</td>\n",
       "      <td>String: 0.629457546764</td>\n",
       "      <td>NaN</td>\n",
       "      <td>NaN</td>\n",
       "      <td>NaN</td>\n",
       "      <td>NaN</td>\n",
       "      <td>...</td>\n",
       "      <td>NaN</td>\n",
       "      <td>NaN</td>\n",
       "      <td>NaN</td>\n",
       "      <td>NaN</td>\n",
       "      <td>NaN</td>\n",
       "      <td>NaN</td>\n",
       "      <td>NaN</td>\n",
       "      <td>NaN</td>\n",
       "      <td>NaN</td>\n",
       "      <td>2</td>\n",
       "    </tr>\n",
       "  </tbody>\n",
       "</table>\n",
       "<p>3 rows × 1002 columns</p>\n",
       "</div>"
      ],
      "text/plain": [
       "   dst                    fld0                     fld1  \\\n",
       "0    1  String: 0.674625311195   String: 0.920013784454   \n",
       "1    2                     NaN  String: 0.0318240732457   \n",
       "2    3                     NaN                      NaN   \n",
       "\n",
       "                    fld10                   fld100                  fld101  \\\n",
       "0  String: 0.542271321548                      NaN                     NaN   \n",
       "1  String: 0.551034409999  String: 0.0743970097446                     NaN   \n",
       "2  String: 0.692373000962   String: 0.276299477599  String: 0.629457546764   \n",
       "\n",
       "  fld102 fld103 fld104 fld105 ... fld991 fld992 fld993 fld994 fld995 fld996  \\\n",
       "0    NaN    NaN    NaN    NaN ...    NaN    NaN    NaN    NaN    NaN    NaN   \n",
       "1    NaN    NaN    NaN    NaN ...    NaN    NaN    NaN    NaN    NaN    NaN   \n",
       "2    NaN    NaN    NaN    NaN ...    NaN    NaN    NaN    NaN    NaN    NaN   \n",
       "\n",
       "  fld997 fld998 fld999 src  \n",
       "0    NaN    NaN    NaN   0  \n",
       "1    NaN    NaN    NaN   1  \n",
       "2    NaN    NaN    NaN   2  \n",
       "\n",
       "[3 rows x 1002 columns]"
      ]
     },
     "execution_count": 29,
     "metadata": {},
     "output_type": "execute_result"
    }
   ],
   "source": [
    "edges = [{'src': x, 'dst': (x + 1) % 8000} for x in range(0, 8000)]\n",
    "for i, edge in enumerate(edges):\n",
    "    for fld in range(0, 100):\n",
    "        edge['fld' + str((i + fld) % 1000)] = 'String: ' + str(random.random())\n",
    "edges = pd.DataFrame(edges)\n",
    "edges[:3]"
   ]
  },
  {
   "cell_type": "code",
   "execution_count": 30,
   "metadata": {
    "collapsed": false
   },
   "outputs": [
    {
     "name": "stdout",
     "output_type": "stream",
     "text": [
      "Uploading 6176 kB. This may take a while...\n"
     ]
    },
    {
     "data": {
      "text/html": [
       "\n",
       "            <iframe id=\"db0a8b0c-2c21-47bd-a98c-bdbd6852e83a\" src=\"https://labs.graphistry.com/graph/graph.html?dataset=s3://graphistry.data/pygraphistry/5857b5641e169de1173d190606bf3057/dataset.json&type=jsonMeta&viztoken=b54e9e987811b8529648b83e79f112d638e52a10&usertag=e70908d8-pygraphistry-0.9.30&splashAfter=1475462515&info=true\"\n",
       "                    allowfullscreen=\"true\" webkitallowfullscreen=\"true\" mozallowfullscreen=\"true\"\n",
       "                    oallowfullscreen=\"true\" msallowfullscreen=\"true\"\n",
       "                    style=\"width:100%; height:500px; border: 1px solid #DDD\">\n",
       "            </iframe>\n",
       "        \n",
       "            <script>\n",
       "                $(\"#db0a8b0c-2c21-47bd-a98c-bdbd6852e83a\").bind('mousewheel', function(e) {\n",
       "                e.preventDefault();\n",
       "                });\n",
       "            </script>\n",
       "        "
      ],
      "text/plain": [
       "<IPython.core.display.HTML object>"
      ]
     },
     "execution_count": 30,
     "metadata": {},
     "output_type": "execute_result"
    }
   ],
   "source": [
    "g.edges(edges).bind(source='src', destination='dst').plot()"
   ]
  },
  {
   "cell_type": "markdown",
   "metadata": {},
   "source": [
    "# 100 dense columns with 100K edges (restricted set of values 1-100)\n",
    "\n",
    "Values can be 1-100\n"
   ]
  },
  {
   "cell_type": "code",
   "execution_count": 31,
   "metadata": {
    "collapsed": false
   },
   "outputs": [
    {
     "data": {
      "text/html": [
       "<div>\n",
       "<table border=\"1\" class=\"dataframe\">\n",
       "  <thead>\n",
       "    <tr style=\"text-align: right;\">\n",
       "      <th></th>\n",
       "      <th>dst</th>\n",
       "      <th>fld0</th>\n",
       "      <th>fld1</th>\n",
       "      <th>fld10</th>\n",
       "      <th>fld11</th>\n",
       "      <th>fld12</th>\n",
       "      <th>fld13</th>\n",
       "      <th>fld14</th>\n",
       "      <th>fld15</th>\n",
       "      <th>fld16</th>\n",
       "      <th>...</th>\n",
       "      <th>fld91</th>\n",
       "      <th>fld92</th>\n",
       "      <th>fld93</th>\n",
       "      <th>fld94</th>\n",
       "      <th>fld95</th>\n",
       "      <th>fld96</th>\n",
       "      <th>fld97</th>\n",
       "      <th>fld98</th>\n",
       "      <th>fld99</th>\n",
       "      <th>src</th>\n",
       "    </tr>\n",
       "  </thead>\n",
       "  <tbody>\n",
       "    <tr>\n",
       "      <th>0</th>\n",
       "      <td>1</td>\n",
       "      <td>0</td>\n",
       "      <td>1</td>\n",
       "      <td>10</td>\n",
       "      <td>11</td>\n",
       "      <td>12</td>\n",
       "      <td>13</td>\n",
       "      <td>14</td>\n",
       "      <td>15</td>\n",
       "      <td>16</td>\n",
       "      <td>...</td>\n",
       "      <td>91</td>\n",
       "      <td>92</td>\n",
       "      <td>93</td>\n",
       "      <td>94</td>\n",
       "      <td>95</td>\n",
       "      <td>96</td>\n",
       "      <td>97</td>\n",
       "      <td>98</td>\n",
       "      <td>99</td>\n",
       "      <td>0</td>\n",
       "    </tr>\n",
       "    <tr>\n",
       "      <th>1</th>\n",
       "      <td>2</td>\n",
       "      <td>1</td>\n",
       "      <td>2</td>\n",
       "      <td>11</td>\n",
       "      <td>12</td>\n",
       "      <td>13</td>\n",
       "      <td>14</td>\n",
       "      <td>15</td>\n",
       "      <td>16</td>\n",
       "      <td>17</td>\n",
       "      <td>...</td>\n",
       "      <td>92</td>\n",
       "      <td>93</td>\n",
       "      <td>94</td>\n",
       "      <td>95</td>\n",
       "      <td>96</td>\n",
       "      <td>97</td>\n",
       "      <td>98</td>\n",
       "      <td>99</td>\n",
       "      <td>0</td>\n",
       "      <td>1</td>\n",
       "    </tr>\n",
       "    <tr>\n",
       "      <th>2</th>\n",
       "      <td>3</td>\n",
       "      <td>2</td>\n",
       "      <td>3</td>\n",
       "      <td>12</td>\n",
       "      <td>13</td>\n",
       "      <td>14</td>\n",
       "      <td>15</td>\n",
       "      <td>16</td>\n",
       "      <td>17</td>\n",
       "      <td>18</td>\n",
       "      <td>...</td>\n",
       "      <td>93</td>\n",
       "      <td>94</td>\n",
       "      <td>95</td>\n",
       "      <td>96</td>\n",
       "      <td>97</td>\n",
       "      <td>98</td>\n",
       "      <td>99</td>\n",
       "      <td>0</td>\n",
       "      <td>1</td>\n",
       "      <td>2</td>\n",
       "    </tr>\n",
       "  </tbody>\n",
       "</table>\n",
       "<p>3 rows × 102 columns</p>\n",
       "</div>"
      ],
      "text/plain": [
       "   dst  fld0  fld1  fld10  fld11  fld12  fld13  fld14  fld15  fld16 ...   \\\n",
       "0    1     0     1     10     11     12     13     14     15     16 ...    \n",
       "1    2     1     2     11     12     13     14     15     16     17 ...    \n",
       "2    3     2     3     12     13     14     15     16     17     18 ...    \n",
       "\n",
       "   fld91  fld92  fld93  fld94  fld95  fld96  fld97  fld98  fld99  src  \n",
       "0     91     92     93     94     95     96     97     98     99    0  \n",
       "1     92     93     94     95     96     97     98     99      0    1  \n",
       "2     93     94     95     96     97     98     99      0      1    2  \n",
       "\n",
       "[3 rows x 102 columns]"
      ]
     },
     "execution_count": 31,
     "metadata": {},
     "output_type": "execute_result"
    }
   ],
   "source": [
    "edges = [{'src': x, 'dst': (x + 1) % 100000} for x in range(0, 100000)]\n",
    "for i, edge in enumerate(edges):\n",
    "    for fld in range(0, 100):\n",
    "        edge['fld' + str((fld))] = (fld + i) % 100\n",
    "edges = pd.DataFrame(edges)\n",
    "edges[:3]"
   ]
  },
  {
   "cell_type": "code",
   "execution_count": 32,
   "metadata": {
    "collapsed": false
   },
   "outputs": [
    {
     "data": {
      "text/html": [
       "\n",
       "            <iframe id=\"cf7700fc-0c62-406b-9ab7-f5ab81bce837\" src=\"https://labs.graphistry.com/graph/graph.html?dataset=s3://graphistry.data/pygraphistry/a85b1fc19605d1a34acded898bd2ddcc/dataset.json&type=jsonMeta&viztoken=9bfd745ee03f10db44f7322cc95fd9266420625b&usertag=e70908d8-pygraphistry-0.9.30&splashAfter=1475462563&info=true\"\n",
       "                    allowfullscreen=\"true\" webkitallowfullscreen=\"true\" mozallowfullscreen=\"true\"\n",
       "                    oallowfullscreen=\"true\" msallowfullscreen=\"true\"\n",
       "                    style=\"width:100%; height:500px; border: 1px solid #DDD\">\n",
       "            </iframe>\n",
       "        \n",
       "            <script>\n",
       "                $(\"#cf7700fc-0c62-406b-9ab7-f5ab81bce837\").bind('mousewheel', function(e) {\n",
       "                e.preventDefault();\n",
       "                });\n",
       "            </script>\n",
       "        "
      ],
      "text/plain": [
       "<IPython.core.display.HTML object>"
      ]
     },
     "execution_count": 32,
     "metadata": {},
     "output_type": "execute_result"
    }
   ],
   "source": [
    "g.edges(edges).bind(source='src', destination='dst').plot()"
   ]
  },
  {
   "cell_type": "markdown",
   "metadata": {},
   "source": [
    "# 100 dense columns with 100K edges (random numbers)\n",
    "\n",
    "Each edge as 100 attributes which is a randomly selected float\n"
   ]
  },
  {
   "cell_type": "code",
   "execution_count": 33,
   "metadata": {
    "collapsed": false
   },
   "outputs": [
    {
     "data": {
      "text/html": [
       "<div>\n",
       "<table border=\"1\" class=\"dataframe\">\n",
       "  <thead>\n",
       "    <tr style=\"text-align: right;\">\n",
       "      <th></th>\n",
       "      <th>dst</th>\n",
       "      <th>fld0</th>\n",
       "      <th>fld1</th>\n",
       "      <th>fld10</th>\n",
       "      <th>fld11</th>\n",
       "      <th>fld12</th>\n",
       "      <th>fld13</th>\n",
       "      <th>fld14</th>\n",
       "      <th>fld15</th>\n",
       "      <th>fld16</th>\n",
       "      <th>...</th>\n",
       "      <th>fld91</th>\n",
       "      <th>fld92</th>\n",
       "      <th>fld93</th>\n",
       "      <th>fld94</th>\n",
       "      <th>fld95</th>\n",
       "      <th>fld96</th>\n",
       "      <th>fld97</th>\n",
       "      <th>fld98</th>\n",
       "      <th>fld99</th>\n",
       "      <th>src</th>\n",
       "    </tr>\n",
       "  </thead>\n",
       "  <tbody>\n",
       "    <tr>\n",
       "      <th>0</th>\n",
       "      <td>1</td>\n",
       "      <td>0.357514</td>\n",
       "      <td>0.894374</td>\n",
       "      <td>0.268697</td>\n",
       "      <td>0.831786</td>\n",
       "      <td>0.288954</td>\n",
       "      <td>0.992177</td>\n",
       "      <td>0.604379</td>\n",
       "      <td>0.458736</td>\n",
       "      <td>0.605936</td>\n",
       "      <td>...</td>\n",
       "      <td>0.977737</td>\n",
       "      <td>0.418753</td>\n",
       "      <td>0.285724</td>\n",
       "      <td>0.648078</td>\n",
       "      <td>0.652845</td>\n",
       "      <td>0.536967</td>\n",
       "      <td>0.733943</td>\n",
       "      <td>0.501235</td>\n",
       "      <td>0.615356</td>\n",
       "      <td>0</td>\n",
       "    </tr>\n",
       "    <tr>\n",
       "      <th>1</th>\n",
       "      <td>2</td>\n",
       "      <td>0.477233</td>\n",
       "      <td>0.928489</td>\n",
       "      <td>0.688741</td>\n",
       "      <td>0.129088</td>\n",
       "      <td>0.257594</td>\n",
       "      <td>0.057444</td>\n",
       "      <td>0.608522</td>\n",
       "      <td>0.858572</td>\n",
       "      <td>0.270523</td>\n",
       "      <td>...</td>\n",
       "      <td>0.444965</td>\n",
       "      <td>0.793802</td>\n",
       "      <td>0.297629</td>\n",
       "      <td>0.289223</td>\n",
       "      <td>0.953886</td>\n",
       "      <td>0.387978</td>\n",
       "      <td>0.034474</td>\n",
       "      <td>0.587330</td>\n",
       "      <td>0.969064</td>\n",
       "      <td>1</td>\n",
       "    </tr>\n",
       "    <tr>\n",
       "      <th>2</th>\n",
       "      <td>3</td>\n",
       "      <td>0.422785</td>\n",
       "      <td>0.179451</td>\n",
       "      <td>0.840295</td>\n",
       "      <td>0.203915</td>\n",
       "      <td>0.370854</td>\n",
       "      <td>0.944802</td>\n",
       "      <td>0.637087</td>\n",
       "      <td>0.981646</td>\n",
       "      <td>0.612431</td>\n",
       "      <td>...</td>\n",
       "      <td>0.360123</td>\n",
       "      <td>0.453956</td>\n",
       "      <td>0.416068</td>\n",
       "      <td>0.108711</td>\n",
       "      <td>0.021560</td>\n",
       "      <td>0.415769</td>\n",
       "      <td>0.443889</td>\n",
       "      <td>0.539046</td>\n",
       "      <td>0.060442</td>\n",
       "      <td>2</td>\n",
       "    </tr>\n",
       "  </tbody>\n",
       "</table>\n",
       "<p>3 rows × 102 columns</p>\n",
       "</div>"
      ],
      "text/plain": [
       "   dst      fld0      fld1     fld10     fld11     fld12     fld13     fld14  \\\n",
       "0    1  0.357514  0.894374  0.268697  0.831786  0.288954  0.992177  0.604379   \n",
       "1    2  0.477233  0.928489  0.688741  0.129088  0.257594  0.057444  0.608522   \n",
       "2    3  0.422785  0.179451  0.840295  0.203915  0.370854  0.944802  0.637087   \n",
       "\n",
       "      fld15     fld16 ...      fld91     fld92     fld93     fld94     fld95  \\\n",
       "0  0.458736  0.605936 ...   0.977737  0.418753  0.285724  0.648078  0.652845   \n",
       "1  0.858572  0.270523 ...   0.444965  0.793802  0.297629  0.289223  0.953886   \n",
       "2  0.981646  0.612431 ...   0.360123  0.453956  0.416068  0.108711  0.021560   \n",
       "\n",
       "      fld96     fld97     fld98     fld99  src  \n",
       "0  0.536967  0.733943  0.501235  0.615356    0  \n",
       "1  0.387978  0.034474  0.587330  0.969064    1  \n",
       "2  0.415769  0.443889  0.539046  0.060442    2  \n",
       "\n",
       "[3 rows x 102 columns]"
      ]
     },
     "execution_count": 33,
     "metadata": {},
     "output_type": "execute_result"
    }
   ],
   "source": [
    "edges = [{'src': x, 'dst': (x + 1) % 100000} for x in range(0, 100000)]\n",
    "for i, edge in enumerate(edges):\n",
    "    for fld in range(0, 100):\n",
    "        edge['fld' + str((fld))] = random.random()\n",
    "edges = pd.DataFrame(edges)\n",
    "edges[:3]"
   ]
  },
  {
   "cell_type": "code",
   "execution_count": 34,
   "metadata": {
    "collapsed": true
   },
   "outputs": [],
   "source": [
    "# ****The following dataset only works for etl2"
   ]
  },
  {
   "cell_type": "code",
   "execution_count": 35,
   "metadata": {
    "collapsed": false
   },
   "outputs": [],
   "source": [
    "g.register(api=2)"
   ]
  },
  {
   "cell_type": "code",
   "execution_count": 36,
   "metadata": {
    "collapsed": false,
    "scrolled": true
   },
   "outputs": [
    {
     "name": "stdout",
     "output_type": "stream",
     "text": [
      "Uploading 74155 kB. This may take a while...\n"
     ]
    },
    {
     "data": {
      "text/html": [
       "\n",
       "            <iframe id=\"bbb7857f-9702-4ece-813f-37343e85f9ea\" src=\"https://labs.graphistry.com/graph/graph.html?dataset=s3://graphistry.data/pygraphistry/4f78e6055d741ab74294793e0fb73bb5/dataset.json&type=jsonMeta&viztoken=24935b9b3bf964d01eda571573235b7852da5891&usertag=e70908d8-pygraphistry-0.9.30&splashAfter=1475462708&info=true\"\n",
       "                    allowfullscreen=\"true\" webkitallowfullscreen=\"true\" mozallowfullscreen=\"true\"\n",
       "                    oallowfullscreen=\"true\" msallowfullscreen=\"true\"\n",
       "                    style=\"width:100%; height:500px; border: 1px solid #DDD\">\n",
       "            </iframe>\n",
       "        \n",
       "            <script>\n",
       "                $(\"#bbb7857f-9702-4ece-813f-37343e85f9ea\").bind('mousewheel', function(e) {\n",
       "                e.preventDefault();\n",
       "                });\n",
       "            </script>\n",
       "        "
      ],
      "text/plain": [
       "<IPython.core.display.HTML object>"
      ]
     },
     "execution_count": 36,
     "metadata": {},
     "output_type": "execute_result"
    }
   ],
   "source": [
    "g.edges(edges).bind(source='src', destination='dst').plot()"
   ]
  },
  {
   "cell_type": "markdown",
   "metadata": {},
   "source": [
    "# 100 dense columns with 100K edges (random strings)\n",
    "\n",
    "Each edge as 100 attributes which is a randomly selected float"
   ]
  },
  {
   "cell_type": "code",
   "execution_count": 37,
   "metadata": {
    "collapsed": false
   },
   "outputs": [
    {
     "data": {
      "text/html": [
       "<div>\n",
       "<table border=\"1\" class=\"dataframe\">\n",
       "  <thead>\n",
       "    <tr style=\"text-align: right;\">\n",
       "      <th></th>\n",
       "      <th>dst</th>\n",
       "      <th>fld0</th>\n",
       "      <th>fld1</th>\n",
       "      <th>fld10</th>\n",
       "      <th>fld11</th>\n",
       "      <th>fld12</th>\n",
       "      <th>fld13</th>\n",
       "      <th>fld14</th>\n",
       "      <th>fld15</th>\n",
       "      <th>fld16</th>\n",
       "      <th>...</th>\n",
       "      <th>fld91</th>\n",
       "      <th>fld92</th>\n",
       "      <th>fld93</th>\n",
       "      <th>fld94</th>\n",
       "      <th>fld95</th>\n",
       "      <th>fld96</th>\n",
       "      <th>fld97</th>\n",
       "      <th>fld98</th>\n",
       "      <th>fld99</th>\n",
       "      <th>src</th>\n",
       "    </tr>\n",
       "  </thead>\n",
       "  <tbody>\n",
       "    <tr>\n",
       "      <th>0</th>\n",
       "      <td>1</td>\n",
       "      <td>String0.846674351748</td>\n",
       "      <td>String0.887198273712</td>\n",
       "      <td>String0.00624985682725</td>\n",
       "      <td>String0.225003285572</td>\n",
       "      <td>String0.192874917781</td>\n",
       "      <td>String0.298043443431</td>\n",
       "      <td>String0.566519504638</td>\n",
       "      <td>String0.210504402044</td>\n",
       "      <td>String0.0308638100096</td>\n",
       "      <td>...</td>\n",
       "      <td>String0.253051757923</td>\n",
       "      <td>String0.580321523939</td>\n",
       "      <td>String0.252896890401</td>\n",
       "      <td>String0.79137587521</td>\n",
       "      <td>String0.427952512858</td>\n",
       "      <td>String0.945188093752</td>\n",
       "      <td>String0.230096961779</td>\n",
       "      <td>String0.472789928329</td>\n",
       "      <td>String0.45058050139</td>\n",
       "      <td>0</td>\n",
       "    </tr>\n",
       "    <tr>\n",
       "      <th>1</th>\n",
       "      <td>2</td>\n",
       "      <td>String0.816916978978</td>\n",
       "      <td>String0.655301622905</td>\n",
       "      <td>String0.210638063411</td>\n",
       "      <td>String0.795837118171</td>\n",
       "      <td>String0.774519690664</td>\n",
       "      <td>String0.341188162159</td>\n",
       "      <td>String0.192711704061</td>\n",
       "      <td>String0.932950490656</td>\n",
       "      <td>String0.801607910262</td>\n",
       "      <td>...</td>\n",
       "      <td>String0.463442770397</td>\n",
       "      <td>String0.0760201448355</td>\n",
       "      <td>String0.75833847303</td>\n",
       "      <td>String0.93167545054</td>\n",
       "      <td>String0.966243724219</td>\n",
       "      <td>String0.607510337565</td>\n",
       "      <td>String0.57636165613</td>\n",
       "      <td>String0.26695868883</td>\n",
       "      <td>String0.188055961805</td>\n",
       "      <td>1</td>\n",
       "    </tr>\n",
       "    <tr>\n",
       "      <th>2</th>\n",
       "      <td>3</td>\n",
       "      <td>String0.00950237256575</td>\n",
       "      <td>String0.643302065311</td>\n",
       "      <td>String0.383813562711</td>\n",
       "      <td>String0.599376034291</td>\n",
       "      <td>String0.327739554988</td>\n",
       "      <td>String0.599268819821</td>\n",
       "      <td>String0.451479142705</td>\n",
       "      <td>String0.988360970899</td>\n",
       "      <td>String0.578912591805</td>\n",
       "      <td>...</td>\n",
       "      <td>String0.654163590495</td>\n",
       "      <td>String0.822866750982</td>\n",
       "      <td>String0.342926810225</td>\n",
       "      <td>String0.44002326358</td>\n",
       "      <td>String0.545943148094</td>\n",
       "      <td>String0.614598003181</td>\n",
       "      <td>String0.302470961063</td>\n",
       "      <td>String0.150740819106</td>\n",
       "      <td>String0.340855667767</td>\n",
       "      <td>2</td>\n",
       "    </tr>\n",
       "  </tbody>\n",
       "</table>\n",
       "<p>3 rows × 102 columns</p>\n",
       "</div>"
      ],
      "text/plain": [
       "   dst                    fld0                  fld1                   fld10  \\\n",
       "0    1    String0.846674351748  String0.887198273712  String0.00624985682725   \n",
       "1    2    String0.816916978978  String0.655301622905    String0.210638063411   \n",
       "2    3  String0.00950237256575  String0.643302065311    String0.383813562711   \n",
       "\n",
       "                  fld11                 fld12                 fld13  \\\n",
       "0  String0.225003285572  String0.192874917781  String0.298043443431   \n",
       "1  String0.795837118171  String0.774519690664  String0.341188162159   \n",
       "2  String0.599376034291  String0.327739554988  String0.599268819821   \n",
       "\n",
       "                  fld14                 fld15                  fld16 ...  \\\n",
       "0  String0.566519504638  String0.210504402044  String0.0308638100096 ...   \n",
       "1  String0.192711704061  String0.932950490656   String0.801607910262 ...   \n",
       "2  String0.451479142705  String0.988360970899   String0.578912591805 ...   \n",
       "\n",
       "                  fld91                  fld92                 fld93  \\\n",
       "0  String0.253051757923   String0.580321523939  String0.252896890401   \n",
       "1  String0.463442770397  String0.0760201448355   String0.75833847303   \n",
       "2  String0.654163590495   String0.822866750982  String0.342926810225   \n",
       "\n",
       "                 fld94                 fld95                 fld96  \\\n",
       "0  String0.79137587521  String0.427952512858  String0.945188093752   \n",
       "1  String0.93167545054  String0.966243724219  String0.607510337565   \n",
       "2  String0.44002326358  String0.545943148094  String0.614598003181   \n",
       "\n",
       "                  fld97                 fld98                 fld99 src  \n",
       "0  String0.230096961779  String0.472789928329   String0.45058050139   0  \n",
       "1   String0.57636165613   String0.26695868883  String0.188055961805   1  \n",
       "2  String0.302470961063  String0.150740819106  String0.340855667767   2  \n",
       "\n",
       "[3 rows x 102 columns]"
      ]
     },
     "execution_count": 37,
     "metadata": {},
     "output_type": "execute_result"
    }
   ],
   "source": [
    "edges = [{'src': x, 'dst': (x + 1) % 100000} for x in range(0, 100000)]\n",
    "for i, edge in enumerate(edges):\n",
    "    for fld in range(0, 100):\n",
    "        edge['fld' + str((fld))] = 'String' + str(random.random())\n",
    "edges = pd.DataFrame(edges)\n",
    "edges[:3]"
   ]
  },
  {
   "cell_type": "code",
   "execution_count": 38,
   "metadata": {
    "collapsed": false
   },
   "outputs": [
    {
     "name": "stdout",
     "output_type": "stream",
     "text": [
      "Uploading 69768 kB. This may take a while...\n"
     ]
    },
    {
     "data": {
      "text/html": [
       "\n",
       "            <iframe id=\"3e8e6e7a-cf15-49da-8502-1a5bf47e2acc\" src=\"https://labs.graphistry.com/graph/graph.html?dataset=s3://graphistry.data/pygraphistry/e321d728d6f7038c73a17c797f4c5457/dataset.json&type=jsonMeta&viztoken=755644d8a17c94853b0b4d050f43fd7ca457dabd&usertag=e70908d8-pygraphistry-0.9.30&splashAfter=1475462917&info=true\"\n",
       "                    allowfullscreen=\"true\" webkitallowfullscreen=\"true\" mozallowfullscreen=\"true\"\n",
       "                    oallowfullscreen=\"true\" msallowfullscreen=\"true\"\n",
       "                    style=\"width:100%; height:500px; border: 1px solid #DDD\">\n",
       "            </iframe>\n",
       "        \n",
       "            <script>\n",
       "                $(\"#3e8e6e7a-cf15-49da-8502-1a5bf47e2acc\").bind('mousewheel', function(e) {\n",
       "                e.preventDefault();\n",
       "                });\n",
       "            </script>\n",
       "        "
      ],
      "text/plain": [
       "<IPython.core.display.HTML object>"
      ]
     },
     "execution_count": 38,
     "metadata": {},
     "output_type": "execute_result"
    }
   ],
   "source": [
    "g.edges(edges).bind(source='src', destination='dst').plot()"
   ]
  },
  {
   "cell_type": "markdown",
   "metadata": {},
   "source": [
    "# 10 dense columns with 800K edges (constant value for each attribute)"
   ]
  },
  {
   "cell_type": "code",
   "execution_count": 39,
   "metadata": {
    "collapsed": false
   },
   "outputs": [
    {
     "data": {
      "text/html": [
       "<div>\n",
       "<table border=\"1\" class=\"dataframe\">\n",
       "  <thead>\n",
       "    <tr style=\"text-align: right;\">\n",
       "      <th></th>\n",
       "      <th>dst</th>\n",
       "      <th>fld0</th>\n",
       "      <th>fld1</th>\n",
       "      <th>fld2</th>\n",
       "      <th>fld3</th>\n",
       "      <th>fld4</th>\n",
       "      <th>fld5</th>\n",
       "      <th>fld6</th>\n",
       "      <th>fld7</th>\n",
       "      <th>fld8</th>\n",
       "      <th>fld9</th>\n",
       "      <th>src</th>\n",
       "    </tr>\n",
       "  </thead>\n",
       "  <tbody>\n",
       "    <tr>\n",
       "      <th>0</th>\n",
       "      <td>1</td>\n",
       "      <td>0</td>\n",
       "      <td>1</td>\n",
       "      <td>2</td>\n",
       "      <td>3</td>\n",
       "      <td>4</td>\n",
       "      <td>5</td>\n",
       "      <td>6</td>\n",
       "      <td>7</td>\n",
       "      <td>8</td>\n",
       "      <td>9</td>\n",
       "      <td>0</td>\n",
       "    </tr>\n",
       "    <tr>\n",
       "      <th>1</th>\n",
       "      <td>2</td>\n",
       "      <td>1</td>\n",
       "      <td>2</td>\n",
       "      <td>3</td>\n",
       "      <td>4</td>\n",
       "      <td>5</td>\n",
       "      <td>6</td>\n",
       "      <td>7</td>\n",
       "      <td>8</td>\n",
       "      <td>9</td>\n",
       "      <td>10</td>\n",
       "      <td>1</td>\n",
       "    </tr>\n",
       "    <tr>\n",
       "      <th>2</th>\n",
       "      <td>3</td>\n",
       "      <td>2</td>\n",
       "      <td>3</td>\n",
       "      <td>4</td>\n",
       "      <td>5</td>\n",
       "      <td>6</td>\n",
       "      <td>7</td>\n",
       "      <td>8</td>\n",
       "      <td>9</td>\n",
       "      <td>10</td>\n",
       "      <td>11</td>\n",
       "      <td>2</td>\n",
       "    </tr>\n",
       "  </tbody>\n",
       "</table>\n",
       "</div>"
      ],
      "text/plain": [
       "   dst  fld0  fld1  fld2  fld3  fld4  fld5  fld6  fld7  fld8  fld9  src\n",
       "0    1     0     1     2     3     4     5     6     7     8     9    0\n",
       "1    2     1     2     3     4     5     6     7     8     9    10    1\n",
       "2    3     2     3     4     5     6     7     8     9    10    11    2"
      ]
     },
     "execution_count": 39,
     "metadata": {},
     "output_type": "execute_result"
    }
   ],
   "source": [
    "edges = [{'src': (x % 300), 'dst': ((x + 1) % 800)} for x in range(0, 800000)]\n",
    "for i, edge in enumerate(edges):\n",
    "    for fld in range(0, 10):\n",
    "        edge['fld' + str((fld))] = (fld + i) % 100\n",
    "edges = pd.DataFrame(edges)\n",
    "edges[:3]"
   ]
  },
  {
   "cell_type": "code",
   "execution_count": 40,
   "metadata": {
    "collapsed": false
   },
   "outputs": [
    {
     "data": {
      "text/html": [
       "\n",
       "            <iframe id=\"36ea159b-823a-426e-bb96-c50bb661f026\" src=\"https://labs.graphistry.com/graph/graph.html?dataset=s3://graphistry.data/pygraphistry/04d87bd41d7387798695c85b3d72b3f0/dataset.json&type=jsonMeta&viztoken=ea961b12f8a4988ebbec60fd8abd094d930909ec&usertag=e70908d8-pygraphistry-0.9.30&splashAfter=1475463120&info=true\"\n",
       "                    allowfullscreen=\"true\" webkitallowfullscreen=\"true\" mozallowfullscreen=\"true\"\n",
       "                    oallowfullscreen=\"true\" msallowfullscreen=\"true\"\n",
       "                    style=\"width:100%; height:500px; border: 1px solid #DDD\">\n",
       "            </iframe>\n",
       "        \n",
       "            <script>\n",
       "                $(\"#36ea159b-823a-426e-bb96-c50bb661f026\").bind('mousewheel', function(e) {\n",
       "                e.preventDefault();\n",
       "                });\n",
       "            </script>\n",
       "        "
      ],
      "text/plain": [
       "<IPython.core.display.HTML object>"
      ]
     },
     "execution_count": 40,
     "metadata": {},
     "output_type": "execute_result"
    }
   ],
   "source": [
    "g.edges(edges).bind(source='src', destination='dst').plot()"
   ]
  },
  {
   "cell_type": "markdown",
   "metadata": {},
   "source": [
    "# 10 dense columns with 800K edges (random numbers)"
   ]
  },
  {
   "cell_type": "code",
   "execution_count": 47,
   "metadata": {
    "collapsed": false
   },
   "outputs": [
    {
     "data": {
      "text/html": [
       "<div>\n",
       "<table border=\"1\" class=\"dataframe\">\n",
       "  <thead>\n",
       "    <tr style=\"text-align: right;\">\n",
       "      <th></th>\n",
       "      <th>dst</th>\n",
       "      <th>fld0</th>\n",
       "      <th>fld1</th>\n",
       "      <th>fld2</th>\n",
       "      <th>fld3</th>\n",
       "      <th>fld4</th>\n",
       "      <th>fld5</th>\n",
       "      <th>fld6</th>\n",
       "      <th>fld7</th>\n",
       "      <th>fld8</th>\n",
       "      <th>fld9</th>\n",
       "      <th>src</th>\n",
       "    </tr>\n",
       "  </thead>\n",
       "  <tbody>\n",
       "    <tr>\n",
       "      <th>0</th>\n",
       "      <td>1</td>\n",
       "      <td>0.796584</td>\n",
       "      <td>0.266297</td>\n",
       "      <td>0.317015</td>\n",
       "      <td>0.010895</td>\n",
       "      <td>0.876253</td>\n",
       "      <td>0.323750</td>\n",
       "      <td>0.797763</td>\n",
       "      <td>0.428198</td>\n",
       "      <td>0.493582</td>\n",
       "      <td>0.532480</td>\n",
       "      <td>0</td>\n",
       "    </tr>\n",
       "    <tr>\n",
       "      <th>1</th>\n",
       "      <td>2</td>\n",
       "      <td>0.843653</td>\n",
       "      <td>0.145624</td>\n",
       "      <td>0.345821</td>\n",
       "      <td>0.416823</td>\n",
       "      <td>0.432200</td>\n",
       "      <td>0.341064</td>\n",
       "      <td>0.248255</td>\n",
       "      <td>0.169954</td>\n",
       "      <td>0.620393</td>\n",
       "      <td>0.973996</td>\n",
       "      <td>1</td>\n",
       "    </tr>\n",
       "    <tr>\n",
       "      <th>2</th>\n",
       "      <td>3</td>\n",
       "      <td>0.768383</td>\n",
       "      <td>0.361230</td>\n",
       "      <td>0.082871</td>\n",
       "      <td>0.160429</td>\n",
       "      <td>0.084615</td>\n",
       "      <td>0.960025</td>\n",
       "      <td>0.564489</td>\n",
       "      <td>0.355926</td>\n",
       "      <td>0.843350</td>\n",
       "      <td>0.113453</td>\n",
       "      <td>2</td>\n",
       "    </tr>\n",
       "  </tbody>\n",
       "</table>\n",
       "</div>"
      ],
      "text/plain": [
       "   dst      fld0      fld1      fld2      fld3      fld4      fld5      fld6  \\\n",
       "0    1  0.796584  0.266297  0.317015  0.010895  0.876253  0.323750  0.797763   \n",
       "1    2  0.843653  0.145624  0.345821  0.416823  0.432200  0.341064  0.248255   \n",
       "2    3  0.768383  0.361230  0.082871  0.160429  0.084615  0.960025  0.564489   \n",
       "\n",
       "       fld7      fld8      fld9  src  \n",
       "0  0.428198  0.493582  0.532480    0  \n",
       "1  0.169954  0.620393  0.973996    1  \n",
       "2  0.355926  0.843350  0.113453    2  "
      ]
     },
     "execution_count": 47,
     "metadata": {},
     "output_type": "execute_result"
    }
   ],
   "source": [
    "edges = [{'src': (x % 300), 'dst': ((x + 1) % 800)} for x in range(0, 800000)]\n",
    "for i, edge in enumerate(edges):\n",
    "    for fld in range(0, 10):\n",
    "        edge['fld' + str((fld))] = random.random()\n",
    "edges = pd.DataFrame(edges)\n",
    "edges[:3]"
   ]
  },
  {
   "cell_type": "code",
   "execution_count": 48,
   "metadata": {
    "collapsed": false
   },
   "outputs": [
    {
     "name": "stdout",
     "output_type": "stream",
     "text": [
      "Uploading 58991 kB. This may take a while...\n"
     ]
    },
    {
     "data": {
      "text/html": [
       "\n",
       "            <iframe id=\"6ed41d0b-2cc8-45dd-bd8c-8c0690043baa\" src=\"https://labs.graphistry.com/graph/graph.html?dataset=s3://graphistry.data/pygraphistry/47b1fd18b59a83de2ce89329246f76c7/dataset.json&type=jsonMeta&viztoken=b5c92de903194bf7fdd766e47a66aafa0d430b47&usertag=e70908d8-pygraphistry-0.9.30&splashAfter=1475464829&info=true\"\n",
       "                    allowfullscreen=\"true\" webkitallowfullscreen=\"true\" mozallowfullscreen=\"true\"\n",
       "                    oallowfullscreen=\"true\" msallowfullscreen=\"true\"\n",
       "                    style=\"width:100%; height:500px; border: 1px solid #DDD\">\n",
       "            </iframe>\n",
       "        \n",
       "            <script>\n",
       "                $(\"#6ed41d0b-2cc8-45dd-bd8c-8c0690043baa\").bind('mousewheel', function(e) {\n",
       "                e.preventDefault();\n",
       "                });\n",
       "            </script>\n",
       "        "
      ],
      "text/plain": [
       "<IPython.core.display.HTML object>"
      ]
     },
     "execution_count": 48,
     "metadata": {},
     "output_type": "execute_result"
    }
   ],
   "source": [
    "g.edges(edges).bind(source='src', destination='dst').plot()"
   ]
  },
  {
   "cell_type": "markdown",
   "metadata": {},
   "source": [
    "# 10 dense columns with 800K edges (random strings)\n"
   ]
  },
  {
   "cell_type": "code",
   "execution_count": 43,
   "metadata": {
    "collapsed": false
   },
   "outputs": [
    {
     "data": {
      "text/html": [
       "<div>\n",
       "<table border=\"1\" class=\"dataframe\">\n",
       "  <thead>\n",
       "    <tr style=\"text-align: right;\">\n",
       "      <th></th>\n",
       "      <th>dst</th>\n",
       "      <th>fld0</th>\n",
       "      <th>fld1</th>\n",
       "      <th>fld2</th>\n",
       "      <th>fld3</th>\n",
       "      <th>fld4</th>\n",
       "      <th>fld5</th>\n",
       "      <th>fld6</th>\n",
       "      <th>fld7</th>\n",
       "      <th>fld8</th>\n",
       "      <th>fld9</th>\n",
       "      <th>src</th>\n",
       "    </tr>\n",
       "  </thead>\n",
       "  <tbody>\n",
       "    <tr>\n",
       "      <th>0</th>\n",
       "      <td>1</td>\n",
       "      <td>String + 0.423752344444</td>\n",
       "      <td>String + 0.652475085884</td>\n",
       "      <td>String + 0.0894998617705</td>\n",
       "      <td>String + 0.723538922427</td>\n",
       "      <td>String + 0.082130246926</td>\n",
       "      <td>String + 0.336096762105</td>\n",
       "      <td>String + 0.0369006974215</td>\n",
       "      <td>String + 0.604634561226</td>\n",
       "      <td>String + 0.0788053559808</td>\n",
       "      <td>String + 0.452507517746</td>\n",
       "      <td>0</td>\n",
       "    </tr>\n",
       "    <tr>\n",
       "      <th>1</th>\n",
       "      <td>2</td>\n",
       "      <td>String + 0.0873218949007</td>\n",
       "      <td>String + 0.023719223496</td>\n",
       "      <td>String + 0.830587834205</td>\n",
       "      <td>String + 0.138896514894</td>\n",
       "      <td>String + 0.595320796988</td>\n",
       "      <td>String + 0.94788820031</td>\n",
       "      <td>String + 0.992944700182</td>\n",
       "      <td>String + 0.722839726714</td>\n",
       "      <td>String + 0.548240540138</td>\n",
       "      <td>String + 0.494977026051</td>\n",
       "      <td>1</td>\n",
       "    </tr>\n",
       "    <tr>\n",
       "      <th>2</th>\n",
       "      <td>3</td>\n",
       "      <td>String + 0.640306437754</td>\n",
       "      <td>String + 0.670258945684</td>\n",
       "      <td>String + 0.13943796544</td>\n",
       "      <td>String + 0.151318710666</td>\n",
       "      <td>String + 0.719622984466</td>\n",
       "      <td>String + 0.307638914173</td>\n",
       "      <td>String + 0.507738676223</td>\n",
       "      <td>String + 0.972979270467</td>\n",
       "      <td>String + 0.291179033067</td>\n",
       "      <td>String + 0.420914770705</td>\n",
       "      <td>2</td>\n",
       "    </tr>\n",
       "  </tbody>\n",
       "</table>\n",
       "</div>"
      ],
      "text/plain": [
       "   dst                      fld0                     fld1  \\\n",
       "0    1   String + 0.423752344444  String + 0.652475085884   \n",
       "1    2  String + 0.0873218949007  String + 0.023719223496   \n",
       "2    3   String + 0.640306437754  String + 0.670258945684   \n",
       "\n",
       "                       fld2                     fld3                     fld4  \\\n",
       "0  String + 0.0894998617705  String + 0.723538922427  String + 0.082130246926   \n",
       "1   String + 0.830587834205  String + 0.138896514894  String + 0.595320796988   \n",
       "2    String + 0.13943796544  String + 0.151318710666  String + 0.719622984466   \n",
       "\n",
       "                      fld5                      fld6                     fld7  \\\n",
       "0  String + 0.336096762105  String + 0.0369006974215  String + 0.604634561226   \n",
       "1   String + 0.94788820031   String + 0.992944700182  String + 0.722839726714   \n",
       "2  String + 0.307638914173   String + 0.507738676223  String + 0.972979270467   \n",
       "\n",
       "                       fld8                     fld9  src  \n",
       "0  String + 0.0788053559808  String + 0.452507517746    0  \n",
       "1   String + 0.548240540138  String + 0.494977026051    1  \n",
       "2   String + 0.291179033067  String + 0.420914770705    2  "
      ]
     },
     "execution_count": 43,
     "metadata": {},
     "output_type": "execute_result"
    }
   ],
   "source": [
    "edges = [{'src': (x % 300), 'dst': ((x + 1) % 800)} for x in range(0, 800000)]\n",
    "for i, edge in enumerate(edges):\n",
    "    for fld in range(0, 10):\n",
    "        edge['fld' + str((fld))] = 'String + ' + str(random.random())\n",
    "edges = pd.DataFrame(edges)\n",
    "edges[:3]"
   ]
  },
  {
   "cell_type": "code",
   "execution_count": 44,
   "metadata": {
    "collapsed": false,
    "scrolled": true
   },
   "outputs": [
    {
     "name": "stdout",
     "output_type": "stream",
     "text": [
      "Uploading 56329 kB. This may take a while...\n"
     ]
    },
    {
     "data": {
      "text/html": [
       "\n",
       "            <iframe id=\"4ec34761-7859-4ad0-a593-6ad85057312c\" src=\"https://labs.graphistry.com/graph/graph.html?dataset=s3://graphistry.data/pygraphistry/0775220591aad1871482bdaa32795187/dataset.json&type=jsonMeta&viztoken=c833352a2dbd5b7edacf269ccee268e597c41cf3&usertag=e70908d8-pygraphistry-0.9.30&splashAfter=1475463441&info=true\"\n",
       "                    allowfullscreen=\"true\" webkitallowfullscreen=\"true\" mozallowfullscreen=\"true\"\n",
       "                    oallowfullscreen=\"true\" msallowfullscreen=\"true\"\n",
       "                    style=\"width:100%; height:500px; border: 1px solid #DDD\">\n",
       "            </iframe>\n",
       "        \n",
       "            <script>\n",
       "                $(\"#4ec34761-7859-4ad0-a593-6ad85057312c\").bind('mousewheel', function(e) {\n",
       "                e.preventDefault();\n",
       "                });\n",
       "            </script>\n",
       "        "
      ],
      "text/plain": [
       "<IPython.core.display.HTML object>"
      ]
     },
     "execution_count": 44,
     "metadata": {},
     "output_type": "execute_result"
    }
   ],
   "source": [
    "g.edges(edges).bind(source='src', destination='dst').plot()"
   ]
  },
  {
   "cell_type": "code",
   "execution_count": null,
   "metadata": {
    "collapsed": true
   },
   "outputs": [],
   "source": []
  }
 ],
 "metadata": {
  "kernelspec": {
   "display_name": "Python 2",
   "language": "python",
   "name": "python2"
  },
  "language_info": {
   "codemirror_mode": {
    "name": "ipython",
    "version": 2
   },
   "file_extension": ".py",
   "mimetype": "text/x-python",
   "name": "python",
   "nbconvert_exporter": "python",
   "pygments_lexer": "ipython2",
   "version": "2.7.12"
  }
 },
 "nbformat": 4,
 "nbformat_minor": 0
}
